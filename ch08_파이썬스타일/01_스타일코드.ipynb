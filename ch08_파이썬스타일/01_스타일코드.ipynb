{
 "metadata": {
  "language_info": {
   "codemirror_mode": {
    "name": "ipython",
    "version": 3
   },
   "file_extension": ".py",
   "mimetype": "text/x-python",
   "name": "python",
   "nbconvert_exporter": "python",
   "pygments_lexer": "ipython3",
   "version": "3.8.5"
  },
  "orig_nbformat": 2,
  "kernelspec": {
   "name": "python385jvsc74a57bd08c1eae21719a0790335dcb83aad72b63b602cfe5cdb2bda0f60bc11d4f154e4b",
   "display_name": "Python 3.8.5 64-bit ('base': conda)"
  }
 },
 "nbformat": 4,
 "nbformat_minor": 2,
 "cells": [
  {
   "source": [
    "# 8장 파이썬 스타일 코드 1"
   ],
   "cell_type": "markdown",
   "metadata": {}
  },
  {
   "source": [
    "## 1. join\n",
    "'원하는 구분기호연결자'. join(리스트)\n",
    "\n",
    "'원하는 구분기호연결자'. join(i for i in 리스트)"
   ],
   "cell_type": "markdown",
   "metadata": {}
  },
  {
   "cell_type": "code",
   "execution_count": 14,
   "metadata": {},
   "outputs": [
    {
     "output_type": "execute_result",
     "data": {
      "text/plain": [
       "'redbluegreenyellow'"
      ]
     },
     "metadata": {},
     "execution_count": 14
    }
   ],
   "source": [
    "# 리스트안 원소 다 이어붙이기\n",
    "colors = ['red','blue','green','yellow']\n",
    "color_text = ''\n",
    "for color in colors:\n",
    "    color_text += color\n",
    "color_text"
   ]
  },
  {
   "cell_type": "code",
   "execution_count": 16,
   "metadata": {},
   "outputs": [
    {
     "output_type": "execute_result",
     "data": {
      "text/plain": [
       "'red,blue,green,yellow,'"
      ]
     },
     "metadata": {},
     "execution_count": 16
    }
   ],
   "source": [
    "# 구분연산자 , 를 사이 넣어서 이어 붙이고 싶어서 for문이용함\n",
    "color_text = ''\n",
    "for index,color in enumerate(colors):\n",
    "    color_text += color + ','\n",
    "color_text"
   ]
  },
  {
   "cell_type": "code",
   "execution_count": 15,
   "metadata": {},
   "outputs": [
    {
     "output_type": "execute_result",
     "data": {
      "text/plain": [
       "'red,blue,green,yellow'"
      ]
     },
     "metadata": {},
     "execution_count": 15
    }
   ],
   "source": [
    "# 맨뒤 yellow의 , 를 빼려고 if문 이용\n",
    "color_text = ''\n",
    "for index,color in enumerate(colors):\n",
    "    color_text += color\n",
    "    if index != len(colors) -1 :\n",
    "        color_text += ','\n",
    "color_text"
   ]
  },
  {
   "cell_type": "code",
   "execution_count": 9,
   "metadata": {},
   "outputs": [
    {
     "output_type": "execute_result",
     "data": {
      "text/plain": [
       "'red,blue,green,yellow'"
      ]
     },
     "metadata": {},
     "execution_count": 9
    }
   ],
   "source": [
    "# join을 이용하면 위와 같은 결과를 간단하게 얻을 수 있음\n",
    "# '원하는 구분기호연결자'. join(리스트)\n",
    "','.join(colors)"
   ]
  },
  {
   "cell_type": "code",
   "execution_count": 12,
   "metadata": {},
   "outputs": [
    {
     "output_type": "execute_result",
     "data": {
      "text/plain": [
       "'red,blue,green,yellow'"
      ]
     },
     "metadata": {},
     "execution_count": 12
    }
   ],
   "source": [
    "# '원하는 구분기호연결자'. join(i for i in 리스트)\n",
    "','.join(color for color in colors"
   ]
  },
  {
   "cell_type": "code",
   "execution_count": 13,
   "metadata": {},
   "outputs": [
    {
     "output_type": "execute_result",
     "data": {
      "text/plain": [
       "'red-blue-green-yellow'"
      ]
     },
     "metadata": {},
     "execution_count": 13
    }
   ],
   "source": [
    "# '원하는 구분기호연결자'. join(i for i in 리스트)\n",
    "'-'.join(color for color in colors)"
   ]
  },
  {
   "source": [
    "## 2. List comprehension\n",
    "기존 리스트형을 사용하여 간단하게 한줄로 코딩하는 것\n",
    "\n"
   ],
   "cell_type": "markdown",
   "metadata": {}
  },
  {
   "cell_type": "code",
   "execution_count": 21,
   "metadata": {},
   "outputs": [
    {
     "output_type": "execute_result",
     "data": {
      "text/plain": [
       "[0, 1, 2, 3, 4, 5, 6, 7, 8, 9]"
      ]
     },
     "metadata": {},
     "execution_count": 21
    }
   ],
   "source": [
    "# 기존 방법 : 일반적인 반복문 +리스트 append\n",
    "result = []\n",
    "for i in range(10):\n",
    "    result.append(i)\n",
    "result"
   ]
  },
  {
   "cell_type": "code",
   "execution_count": 27,
   "metadata": {},
   "outputs": [
    {
     "output_type": "execute_result",
     "data": {
      "text/plain": [
       "[0, 1, 2, 3, 4, 5, 6, 7, 8, 9]"
      ]
     },
     "metadata": {},
     "execution_count": 27
    }
   ],
   "source": [
    "# 위와 같은 코드를 간단하게 짤 수 잇음 : 리스트 컴프리핸션\n",
    "a1 = [i for i in range(10)] ; a1"
   ]
  },
  {
   "cell_type": "code",
   "execution_count": 23,
   "metadata": {},
   "outputs": [
    {
     "output_type": "execute_result",
     "data": {
      "text/plain": [
       "[0, 1, 4, 9, 16, 25, 36, 49, 64, 81]"
      ]
     },
     "metadata": {},
     "execution_count": 23
    }
   ],
   "source": [
    "# 앞 식을 바꾸어 제곱형식으로도 출력가능 \n",
    "[ i * i for i in range(10)]"
   ]
  },
  {
   "cell_type": "code",
   "execution_count": 24,
   "metadata": {},
   "outputs": [
    {
     "output_type": "execute_result",
     "data": {
      "text/plain": [
       "[5, 4, 7, 14, 25, 40, 59, 82, 109, 140]"
      ]
     },
     "metadata": {},
     "execution_count": 24
    }
   ],
   "source": [
    "# 식을 방정식형태로 표현하여 출력가능\n",
    "[ 2*x*x -3*x +5 for x in range(10)]"
   ]
  },
  {
   "cell_type": "code",
   "execution_count": 28,
   "metadata": {},
   "outputs": [
    {
     "output_type": "execute_result",
     "data": {
      "text/plain": [
       "[1.0,\n",
       " 1.4142135623730951,\n",
       " 1.7320508075688772,\n",
       " 2.0,\n",
       " 2.23606797749979,\n",
       " 2.449489742783178,\n",
       " 2.6457513110645907,\n",
       " 2.8284271247461903,\n",
       " 3.0,\n",
       " 3.1622776601683795]"
      ]
     },
     "metadata": {},
     "execution_count": 28
    }
   ],
   "source": [
    "# math를 import해서 math의 제곱근 함수를 이용할 수도 있음\n",
    "import math\n",
    "[ math.sqrt(x) for x in range(1,11) ]"
   ]
  },
  {
   "source": [
    "### - 조건을 부여가능"
   ],
   "cell_type": "markdown",
   "metadata": {}
  },
  {
   "cell_type": "code",
   "execution_count": 30,
   "metadata": {},
   "outputs": [
    {
     "output_type": "execute_result",
     "data": {
      "text/plain": [
       "[0, 2, 4, 6, 8]"
      ]
     },
     "metadata": {},
     "execution_count": 30
    }
   ],
   "source": [
    "# 0-9까지 짝수인 것을 조건으로 설정\n",
    "# if문 for문 뒤에 설정\n",
    "[i for i in range(10) if i % 2 == 0]"
   ]
  },
  {
   "cell_type": "code",
   "execution_count": 31,
   "metadata": {},
   "outputs": [
    {
     "output_type": "execute_result",
     "data": {
      "text/plain": [
       "[0, 'odd', 2, 'odd', 4, 'odd', 6, 'odd', 8, 'odd']"
      ]
     },
     "metadata": {},
     "execution_count": 31
    }
   ],
   "source": [
    "#삼항연산자 이용\n",
    "# 짝수이면 i 자기자신그대로, 홀수이면 'odd' 넣기\n",
    "# if-else조건을 넣으려면 for문 앞에 넣어야함 !\n",
    "[i if i % 2 == 0 else 'odd' for i in range(10) ]"
   ]
  },
  {
   "cell_type": "code",
   "execution_count": 32,
   "metadata": {},
   "outputs": [
    {
     "output_type": "error",
     "ename": "SyntaxError",
     "evalue": "invalid syntax (<ipython-input-32-f692ebd1f83b>, line 1)",
     "traceback": [
      "\u001b[1;36m  File \u001b[1;32m\"<ipython-input-32-f692ebd1f83b>\"\u001b[1;36m, line \u001b[1;32m1\u001b[0m\n\u001b[1;33m    [i for i in range(10) if i % 2 == 0 else 'odd' ]\u001b[0m\n\u001b[1;37m                                        ^\u001b[0m\n\u001b[1;31mSyntaxError\u001b[0m\u001b[1;31m:\u001b[0m invalid syntax\n"
     ]
    }
   ],
   "source": [
    "# if-else조건이 for문 뒤로 가면 오류 발생\n",
    "[i for i in range(10) if i % 2 == 0 else 'odd' ]"
   ]
  },
  {
   "source": [
    "### - 중첩반복문"
   ],
   "cell_type": "markdown",
   "metadata": {}
  },
  {
   "cell_type": "code",
   "execution_count": 34,
   "metadata": {},
   "outputs": [
    {
     "output_type": "execute_result",
     "data": {
      "text/plain": [
       "['1x', '1y', '1z', '2x', '2y', '2z', '3x', '3y', '3z']"
      ]
     },
     "metadata": {},
     "execution_count": 34
    }
   ],
   "source": [
    "# for문안의 for문 설정가능\n",
    "str1 = '123'\n",
    "str2 = 'xyz'\n",
    "[i + k for i in str1 for k in str2]"
   ]
  },
  {
   "cell_type": "code",
   "execution_count": 35,
   "metadata": {},
   "outputs": [
    {
     "output_type": "execute_result",
     "data": {
      "text/plain": [
       "['1x', '1y', '1z', '2x', '2y', '2z', '3x', '3y', '3z']"
      ]
     },
     "metadata": {},
     "execution_count": 35
    }
   ],
   "source": [
    "# 가독성을 위해 이렇게 표현\n",
    "[i + k for i in str1 \\\n",
    "        for k in str2]"
   ]
  },
  {
   "source": [
    "### - 2차원 리스트 만들기"
   ],
   "cell_type": "markdown",
   "metadata": {}
  },
  {
   "cell_type": "code",
   "execution_count": 36,
   "metadata": {},
   "outputs": [
    {
     "output_type": "execute_result",
     "data": {
      "text/plain": [
       "[['A'],\n",
       " ['quick'],\n",
       " ['brown'],\n",
       " ['fox'],\n",
       " ['jumps'],\n",
       " ['over'],\n",
       " ['the'],\n",
       " ['lazy'],\n",
       " ['dog.']]"
      ]
     },
     "metadata": {},
     "execution_count": 36
    }
   ],
   "source": [
    "# 리스트 안의 리스트\n",
    "text = 'A quick brown fox jumps over the lazy dog.'\n",
    "[[word] for word in text.split()]"
   ]
  },
  {
   "cell_type": "code",
   "execution_count": 37,
   "metadata": {},
   "outputs": [
    {
     "output_type": "execute_result",
     "data": {
      "text/plain": [
       "[['A', 'a', 1],\n",
       " ['QUICK', 'quick', 5],\n",
       " ['BROWN', 'brown', 5],\n",
       " ['FOX', 'fox', 3],\n",
       " ['JUMPS', 'jumps', 5],\n",
       " ['OVER', 'over', 4],\n",
       " ['THE', 'the', 3],\n",
       " ['LAZY', 'lazy', 4],\n",
       " ['DOG.', 'dog.', 4]]"
      ]
     },
     "metadata": {},
     "execution_count": 37
    }
   ],
   "source": [
    "[ [w.upper(), w.lower(), len(w)] for w in text.split()]"
   ]
  },
  {
   "source": [
    "### - 성능"
   ],
   "cell_type": "markdown",
   "metadata": {}
  },
  {
   "source": [
    "일반적인 방법"
   ],
   "cell_type": "markdown",
   "metadata": {}
  },
  {
   "cell_type": "code",
   "execution_count": 39,
   "metadata": {},
   "outputs": [],
   "source": [
    "def scalar_vector_product(scalar, vector):\n",
    "    result = []\n",
    "    for value in vector:\n",
    "        result.append(scalar * vector)\n",
    "    return result"
   ]
  },
  {
   "cell_type": "code",
   "execution_count": 42,
   "metadata": {},
   "outputs": [],
   "source": [
    "iteration = 1000\n",
    "vector = list(range(iteration))\n",
    "scalar = 2 "
   ]
  },
  {
   "cell_type": "code",
   "execution_count": 43,
   "metadata": {},
   "outputs": [
    {
     "output_type": "stream",
     "name": "stdout",
     "text": [
      "Wall time: 10.2 s\n"
     ]
    }
   ],
   "source": [
    "%%time\n",
    "for _ in range(iteration):\n",
    "    scalar_vector_product(scalar,vector)"
   ]
  },
  {
   "source": [
    "list complihension"
   ],
   "cell_type": "markdown",
   "metadata": {}
  },
  {
   "cell_type": "code",
   "execution_count": 45,
   "metadata": {},
   "outputs": [
    {
     "output_type": "stream",
     "name": "stdout",
     "text": [
      "Wall time: 71.8 ms\n"
     ]
    }
   ],
   "source": [
    "%%time\n",
    "for _ in range(iteration):\n",
    "    [scalar * value for value in range(iteration)]\n",
    "# 속도도 훨씬 빨라짐!"
   ]
  },
  {
   "source": [
    "## QUIZ] 코딩도장 22\n",
    "표준 입력으로 정수 두 개가 입력됩니다(첫 번째 입력 값의 범위는 1~20, 두 번째 입력 값의 범위는 10~30이며 첫 번째 입력 값은 두 번째 입력 값보다 항상 작습니다). 첫 번째 정수부터 두 번째 정수까지를 지수로 하는 2의 거듭제곱 리스트를 출력하는 프로그램을 만드세요(input에서 안내 문자열은 출력하지 않아야 합니다). 단, 리스트의 두 번째 요소와 뒤에서 두 번째 요소는 삭제한 뒤 출력하세요. 출력 결과는 리스트 형태라야 합니다."
   ],
   "cell_type": "markdown",
   "metadata": {}
  },
  {
   "cell_type": "code",
   "execution_count": 59,
   "metadata": {},
   "outputs": [
    {
     "output_type": "stream",
     "name": "stdout",
     "text": [
      "[2, 8, 16, 32, 64, 128, 256, 1024]\n"
     ]
    }
   ],
   "source": [
    "a = input('1~20사이 숫자를 입력하시오.')\n",
    "b = input('10~30 사이 숫자를 입력하시오.')\n",
    "\n",
    "if a >= b : \n",
    "    print('잘못 입력하셨습니다.')\n",
    "else:\n",
    "    result = []\n",
    "    for i in range(int(a), int(b)+1):\n",
    "        result.append( 2**i )\n",
    "    del result[1] # 리스트의 두번째 요소 삭제\n",
    "    del result[-2] # 리스트의 뒤에서 두번째 요소 삭제\n",
    "print(result)"
   ]
  },
  {
   "cell_type": "code",
   "execution_count": 62,
   "metadata": {},
   "outputs": [
    {
     "output_type": "execute_result",
     "data": {
      "text/plain": [
       "[2, 8, 16, 32, 64, 128, 256, 1024]"
      ]
     },
     "metadata": {},
     "execution_count": 62
    }
   ],
   "source": [
    "# sol) list comprehension\n",
    "\n",
    "first, second = map(int, (input().split()) ) # 1 10 입력 #2개 입력받아 둘다 int형으로 받을때 \n",
    "[2 ** i for i in range(first, second + 1) \\\n",
    "        if i != first +1 and i != second -1 ]\n"
   ]
  },
  {
   "source": [
    "## 3. Dictionary Comprehension"
   ],
   "cell_type": "markdown",
   "metadata": {}
  },
  {
   "source": [
    "딕셔너리 for문에서 키와 값 불러올때 범위를 items()이용\n",
    "\n",
    "### 딕셔너리.items()\n",
    ": 딕셔너리의 값과 키를 튜플로 묶은 것을 리스트로 반환"
   ],
   "cell_type": "markdown",
   "metadata": {}
  },
  {
   "cell_type": "code",
   "execution_count": 64,
   "metadata": {},
   "outputs": [
    {
     "output_type": "execute_result",
     "data": {
      "text/plain": [
       "{'a': 10, 'b': 20, 'c': 30, 'd': 40}"
      ]
     },
     "metadata": {},
     "execution_count": 64
    }
   ],
   "source": [
    "x = { 'a':10, 'b':20, 'c':30, 'd':40 }\n",
    "{key: value for key, value in x.items()}"
   ]
  },
  {
   "cell_type": "code",
   "execution_count": 66,
   "metadata": {},
   "outputs": [
    {
     "output_type": "stream",
     "name": "stdout",
     "text": [
      "0 apple\n1 banana\n2 cherry\n"
     ]
    }
   ],
   "source": [
    "# enumerate는 리스트를 받아 인덱스와 값을 '같이' 반환\n",
    "fruits = ['apple','banana','cherry']\n",
    "for i, fruit in enumerate(fruits):\n",
    "    print(i, fruit)"
   ]
  },
  {
   "cell_type": "code",
   "execution_count": 68,
   "metadata": {},
   "outputs": [
    {
     "output_type": "execute_result",
     "data": {
      "text/plain": [
       "{'apple': 1000, 'banana': 2000, 'cherry': 3000}"
      ]
     },
     "metadata": {},
     "execution_count": 68
    }
   ],
   "source": [
    "# enumerate로 부터 리스트의 값과 키를 받으면, 이 두 값으로 값과 키를 설정한 딕셔너리를 만들 수 있는데 이때 인덱스는 마음대로 조정가능하다.\n",
    "{ fruit : i * 1000 + 1000 for i, fruit in enumerate(fruits)}"
   ]
  },
  {
   "cell_type": "code",
   "execution_count": 69,
   "metadata": {},
   "outputs": [
    {
     "output_type": "execute_result",
     "data": {
      "text/plain": [
       "1779"
      ]
     },
     "metadata": {},
     "execution_count": 69
    }
   ],
   "source": [
    "# random.randint(a,b) : a부터 b까지의 정수중 랜덤으로 한 개 뽑기\n",
    "import random\n",
    "random.randint(1000,2000)"
   ]
  },
  {
   "cell_type": "code",
   "execution_count": 70,
   "metadata": {},
   "outputs": [
    {
     "output_type": "execute_result",
     "data": {
      "text/plain": [
       "{'apple': 1100, 'banana': 1700, 'cherry': 1200}"
      ]
     },
     "metadata": {},
     "execution_count": 70
    }
   ],
   "source": [
    "# 리스트에서 값을 딕셔너리의 키로 설정하고 값은 random으로 만듬\n",
    "{fruit:random.randint(10,20)*100 for fruit in fruits}"
   ]
  },
  {
   "cell_type": "code",
   "execution_count": 72,
   "metadata": {},
   "outputs": [
    {
     "output_type": "execute_result",
     "data": {
      "text/plain": [
       "{'a': 10, 'b': 20, 'd': 40}"
      ]
     },
     "metadata": {},
     "execution_count": 72
    }
   ],
   "source": [
    "# 딕셔너리 필터링: 값 배재\n",
    "# if value ! = 특정값  추가하여 특정값을 값으로 가지는 딕셔너리 원소 제거 \n",
    "x = { 'a':10, 'b':20, 'c':30, 'd':40 }\n",
    "{key: value for key, value in x.items() if value != 30}"
   ]
  },
  {
   "source": [
    "## 4. 다양한 방식의 리스트 출력\n",
    "for문에서 리스트(인덱스와 값존재) 받아오고 싶을때 범위에 enumerate() 사용\n"
   ],
   "cell_type": "markdown",
   "metadata": {}
  },
  {
   "cell_type": "code",
   "execution_count": 74,
   "metadata": {},
   "outputs": [
    {
     "output_type": "stream",
     "name": "stdout",
     "text": [
      "0 apple\n1 banana\n2 cherry\n"
     ]
    }
   ],
   "source": [
    "for i, fruit in enumerate(fruits):\n",
    "    print(i, fruit)"
   ]
  },
  {
   "cell_type": "code",
   "execution_count": 75,
   "metadata": {},
   "outputs": [
    {
     "output_type": "execute_result",
     "data": {
      "text/plain": [
       "[('a1', 'b1'), ('a2', 'b2'), ('a3', 'b3')]"
      ]
     },
     "metadata": {},
     "execution_count": 75
    }
   ],
   "source": [
    "#리스트1와 리스트2의 각 원소를 1:1매칭하여 zip으로 묶은 리스트 생성\n",
    "alist = ['a1','a2','a3']\n",
    "blist = ['b1','b2','b3']\n",
    "list(zip(alist,blist))"
   ]
  },
  {
   "cell_type": "code",
   "execution_count": 76,
   "metadata": {},
   "outputs": [
    {
     "output_type": "execute_result",
     "data": {
      "text/plain": [
       "{'a1': 'b1', 'a2': 'b2', 'a3': 'b3'}"
      ]
     },
     "metadata": {},
     "execution_count": 76
    }
   ],
   "source": [
    "#리스트1을 키로, 리스트2를 값으로 각 원소를 1:1매칭하여 (zip으로 묶어), 딕셔너리 생성\n",
    "{a:b for a,b in zip(alist,blist)}"
   ]
  },
  {
   "cell_type": "code",
   "execution_count": 77,
   "metadata": {},
   "outputs": [
    {
     "output_type": "execute_result",
     "data": {
      "text/plain": [
       "[(0, ('a1', 'b1')), (1, ('a2', 'b2')), (2, ('a3', 'b3'))]"
      ]
     },
     "metadata": {},
     "execution_count": 77
    }
   ],
   "source": [
    "#리스트1와 리스트2의 각 원소를 1:1매칭하여 zip으로 묶은 것을 인덱스와 값으로 리스트 생성\n",
    "list(enumerate(zip(alist,blist)))"
   ]
  },
  {
   "cell_type": "code",
   "execution_count": 79,
   "metadata": {},
   "outputs": [
    {
     "output_type": "stream",
     "name": "stdout",
     "text": [
      "0 a1 b1\n1 a2 b2\n2 a3 b3\n"
     ]
    }
   ],
   "source": [
    "for i, (a,b) in enumerate(zip(alist, blist)):\n",
    "    print(i, a, b)"
   ]
  },
  {
   "source": [
    "### range()\n",
    ": 필요한 만큼의 숫자를 만들어내는 기능\n",
    "- 입력받은 숫자에 해당되는 범위의 값을 반복 가능한 객체로 만들어 리턴\n",
    "- for문과 함께 자주 사용"
   ],
   "cell_type": "markdown",
   "metadata": {}
  },
  {
   "source": [
    "### enumerate()\n",
    ": 리스트가 있는 경우 순서와 리스트의 값을 전달하는 기능\n",
    "- 자료형(list, set, tuple, dictionary, string)을 입력으로 받아 인덱스 값을 포함하는 enumerate 객체를 리턴\n",
    "- 보통 for문과 함께 자주 사용"
   ],
   "cell_type": "markdown",
   "metadata": {}
  },
  {
   "source": [
    "# 9장"
   ],
   "cell_type": "markdown",
   "metadata": {}
  },
  {
   "source": [
    "## 람다함수 \n",
    ": (lambda 변수: 변수로 이루어진 리턴값 )\n",
    "\n",
    ": 함수의 이름 없이 함수처럼 사용할수 있는 익명의 함수\n",
    "\n",
    "- 이름을 지정하지 않아도 사용가능\n",
    "- 일반적으로 GUI program 에서 주로 사용"
   ],
   "cell_type": "markdown",
   "metadata": {}
  },
  {
   "cell_type": "code",
   "execution_count": 81,
   "metadata": {},
   "outputs": [
    {
     "output_type": "stream",
     "name": "stdout",
     "text": [
      "6\n"
     ]
    }
   ],
   "source": [
    "def f(x):\n",
    "    return x+1\n",
    "print( f(5) )"
   ]
  },
  {
   "cell_type": "code",
   "execution_count": 82,
   "metadata": {},
   "outputs": [
    {
     "output_type": "stream",
     "name": "stdout",
     "text": [
      "6\n"
     ]
    }
   ],
   "source": [
    "# 위 코드를 다음과 같이 작성할 수 있음\n",
    "print((lambda x:x+1)(5))"
   ]
  }
 ]
}