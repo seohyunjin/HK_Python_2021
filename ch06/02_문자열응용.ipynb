{
 "metadata": {
  "language_info": {
   "codemirror_mode": {
    "name": "ipython",
    "version": 3
   },
   "file_extension": ".py",
   "mimetype": "text/x-python",
   "name": "python",
   "nbconvert_exporter": "python",
   "pygments_lexer": "ipython3",
   "version": "3.8.5"
  },
  "orig_nbformat": 2,
  "kernelspec": {
   "name": "python385jvsc74a57bd08c1eae21719a0790335dcb83aad72b63b602cfe5cdb2bda0f60bc11d4f154e4b",
   "display_name": "Python 3.8.5 64-bit ('base': conda)"
  }
 },
 "nbformat": 4,
 "nbformat_minor": 2,
 "cells": [
  {
   "source": [
    "# 문자열 응용"
   ],
   "cell_type": "markdown",
   "metadata": {}
  },
  {
   "source": [
    "## - 단어 카운팅"
   ],
   "cell_type": "markdown",
   "metadata": {}
  },
  {
   "source": [
    "## HOW to FILE download from GITHUB"
   ],
   "cell_type": "markdown",
   "metadata": {}
  },
  {
   "cell_type": "code",
   "execution_count": 3,
   "metadata": {},
   "outputs": [],
   "source": [
    "import requests\n",
    "\n",
    "# 가져올 유저의 github repository 주소 : \n",
    "# https://github.com/TeamLab/introduction_to_python_TEAMLAB_MOOC/blob/master/code/6/yesterday.txt\n",
    "\n",
    "base_url = 'https://api.github.com/repos' #깃헙에서 가져올때 base url\n",
    "user_name ='TeamLab' #다운로드할 깃헙의 유저의 아이디\n",
    "repo_name = 'introduction_to_python_TEAMLAB_MOOC' #repository 이름\n",
    "path_name = 'code/6/yesterday.txt' #가져올 파일주소\n",
    "\n",
    "#url 조합\n",
    "url = f'{base_url}/{user_name}/{repo_name}/contents/{path_name}'\n",
    "req = requests.get(url)"
   ]
  },
  {
   "cell_type": "code",
   "execution_count": 4,
   "metadata": {},
   "outputs": [
    {
     "output_type": "execute_result",
     "data": {
      "text/plain": [
       "200"
      ]
     },
     "metadata": {},
     "execution_count": 4
    }
   ],
   "source": [
    "req.status_code #200나오면 정상 작동한 것임"
   ]
  },
  {
   "cell_type": "code",
   "execution_count": 6,
   "metadata": {},
   "outputs": [
    {
     "output_type": "execute_result",
     "data": {
      "text/plain": [
       "b'{\"name\":\"yesterday.txt\",\"path\":\"code/6/yesterday.txt\",\"sha\":\"eb2fd6fc6e8fd51df6c5c15582f687c82462bd75\",\"size\":638,\"url\":\"https://api.github.com/repos/TeamLab/introduction_to_python_TEAMLAB_MOOC/contents/code/6/yesterday.txt?ref=master\",\"html_url\":\"https://github.com/TeamLab/introduction_to_python_TEAMLAB_MOOC/blob/master/code/6/yesterday.txt\",\"git_url\":\"https://api.github.com/repos/TeamLab/introduction_to_python_TEAMLAB_MOOC/git/blobs/eb2fd6fc6e8fd51df6c5c15582f687c82462bd75\",\"download_url\":\"https://raw.githubusercontent.com/TeamLab/introduction_to_python_TEAMLAB_MOOC/master/code/6/yesterday.txt\",\"type\":\"file\",\"content\":\"WWVzdGVyZGF5LCBhbGwgbXkgdHJvdWJsZXMgc2VlbWVkIHNvIGZhciBhd2F5\\\\nCk5vdyBpdCBsb29rcyBhcyB0aG91Z2ggdGhleSdyZSBoZXJlIHRvIHN0YXkK\\\\nb2gsIEkgYmVsaWV2ZSBpbiB5ZXN0ZXJkYXkKClN1ZGRlbmx5LCBJJ20gbm90\\\\nIGhhbGYgdGhlIG1hbiBJIHVzZWQgdG8gYmUKVGhlcmUncyBhIHNoYWRvdyBo\\\\nYW5naW5nIG92ZXIgbWUKT2gsIHllc3RlcmRheSBjYW1lIHN1ZGRlbmx5LgoK\\\\nV2h5IHNoZSBoYWQgdG8gZ28/CkkgZG9uJ3Qga25vdywgc2hlIHdvdWxkbid0\\\\nIHNheQpJIHNhaWQgc29tZXRoaW5nIHdyb25nCk5vdyBJIGxvbmcgZm9yIHll\\\\nc3RlcmRheS4KClllc3RlcmRheSBsb3ZlIHdhcyBzdWNoIGFuIGVhc3kgZ2Ft\\\\nZSB0byBwbGF5Ck5vdyBJIG5lZWQgYSBwbGFjZSB0byBoaWRlIGF3YXkKT2gs\\\\nIEkgYmVsaWV2ZSBpbiB5ZXN0ZXJkYXkuCgpXaHkgc2hlIGhhZCB0byBnbz8K\\\\nSSBkb24ndCBrbm93LCBzaGUgd291bGRuJ3Qgc2F5Ckkgc2FpZCBzb21ldGhp\\\\nbmcgd3JvbmcKTm93IEkgbG9uZyBmb3IgeWVzdGVyZGF5LgoKWWVzdGVyZGF5\\\\nIGxvdmUgd2FzIHN1Y2ggYW4gZWFzeSBnYW1lIHRvIHBsYXkKTm93IEkgbmVl\\\\nZCBhIHBsYWNlIHRvIGhpZGUgYXdheQpPaCwgSSBiZWxpZXZlIGluIHllc3Rl\\\\ncmRheS4uLgo=\\\\n\",\"encoding\":\"base64\",\"_links\":{\"self\":\"https://api.github.com/repos/TeamLab/introduction_to_python_TEAMLAB_MOOC/contents/code/6/yesterday.txt?ref=master\",\"git\":\"https://api.github.com/repos/TeamLab/introduction_to_python_TEAMLAB_MOOC/git/blobs/eb2fd6fc6e8fd51df6c5c15582f687c82462bd75\",\"html\":\"https://github.com/TeamLab/introduction_to_python_TEAMLAB_MOOC/blob/master/code/6/yesterday.txt\"}}'"
      ]
     },
     "metadata": {},
     "execution_count": 6
    }
   ],
   "source": [
    "req.content  # json으로 되어있음을 확인가능"
   ]
  },
  {
   "cell_type": "code",
   "execution_count": 7,
   "metadata": {},
   "outputs": [
    {
     "output_type": "execute_result",
     "data": {
      "text/plain": [
       "{'name': 'yesterday.txt',\n",
       " 'path': 'code/6/yesterday.txt',\n",
       " 'sha': 'eb2fd6fc6e8fd51df6c5c15582f687c82462bd75',\n",
       " 'size': 638,\n",
       " 'url': 'https://api.github.com/repos/TeamLab/introduction_to_python_TEAMLAB_MOOC/contents/code/6/yesterday.txt?ref=master',\n",
       " 'html_url': 'https://github.com/TeamLab/introduction_to_python_TEAMLAB_MOOC/blob/master/code/6/yesterday.txt',\n",
       " 'git_url': 'https://api.github.com/repos/TeamLab/introduction_to_python_TEAMLAB_MOOC/git/blobs/eb2fd6fc6e8fd51df6c5c15582f687c82462bd75',\n",
       " 'download_url': 'https://raw.githubusercontent.com/TeamLab/introduction_to_python_TEAMLAB_MOOC/master/code/6/yesterday.txt',\n",
       " 'type': 'file',\n",
       " 'content': 'WWVzdGVyZGF5LCBhbGwgbXkgdHJvdWJsZXMgc2VlbWVkIHNvIGZhciBhd2F5\\nCk5vdyBpdCBsb29rcyBhcyB0aG91Z2ggdGhleSdyZSBoZXJlIHRvIHN0YXkK\\nb2gsIEkgYmVsaWV2ZSBpbiB5ZXN0ZXJkYXkKClN1ZGRlbmx5LCBJJ20gbm90\\nIGhhbGYgdGhlIG1hbiBJIHVzZWQgdG8gYmUKVGhlcmUncyBhIHNoYWRvdyBo\\nYW5naW5nIG92ZXIgbWUKT2gsIHllc3RlcmRheSBjYW1lIHN1ZGRlbmx5LgoK\\nV2h5IHNoZSBoYWQgdG8gZ28/CkkgZG9uJ3Qga25vdywgc2hlIHdvdWxkbid0\\nIHNheQpJIHNhaWQgc29tZXRoaW5nIHdyb25nCk5vdyBJIGxvbmcgZm9yIHll\\nc3RlcmRheS4KClllc3RlcmRheSBsb3ZlIHdhcyBzdWNoIGFuIGVhc3kgZ2Ft\\nZSB0byBwbGF5Ck5vdyBJIG5lZWQgYSBwbGFjZSB0byBoaWRlIGF3YXkKT2gs\\nIEkgYmVsaWV2ZSBpbiB5ZXN0ZXJkYXkuCgpXaHkgc2hlIGhhZCB0byBnbz8K\\nSSBkb24ndCBrbm93LCBzaGUgd291bGRuJ3Qgc2F5Ckkgc2FpZCBzb21ldGhp\\nbmcgd3JvbmcKTm93IEkgbG9uZyBmb3IgeWVzdGVyZGF5LgoKWWVzdGVyZGF5\\nIGxvdmUgd2FzIHN1Y2ggYW4gZWFzeSBnYW1lIHRvIHBsYXkKTm93IEkgbmVl\\nZCBhIHBsYWNlIHRvIGhpZGUgYXdheQpPaCwgSSBiZWxpZXZlIGluIHllc3Rl\\ncmRheS4uLgo=\\n',\n",
       " 'encoding': 'base64',\n",
       " '_links': {'self': 'https://api.github.com/repos/TeamLab/introduction_to_python_TEAMLAB_MOOC/contents/code/6/yesterday.txt?ref=master',\n",
       "  'git': 'https://api.github.com/repos/TeamLab/introduction_to_python_TEAMLAB_MOOC/git/blobs/eb2fd6fc6e8fd51df6c5c15582f687c82462bd75',\n",
       "  'html': 'https://github.com/TeamLab/introduction_to_python_TEAMLAB_MOOC/blob/master/code/6/yesterday.txt'}}"
      ]
     },
     "metadata": {},
     "execution_count": 7
    }
   ],
   "source": [
    "parsed_req = req.json()\n",
    "parsed_req\n",
    "#결과중, 'content' 가 원하는 내용 부분수수"
   ]
  },
  {
   "cell_type": "code",
   "execution_count": 14,
   "metadata": {},
   "outputs": [
    {
     "output_type": "execute_result",
     "data": {
      "text/plain": [
       "dict"
      ]
     },
     "metadata": {},
     "execution_count": 14
    }
   ],
   "source": [
    "# type() : 데이터 타입을 확인할 수 있는 함수\n",
    "type(parsed_req) # dictionary임"
   ]
  },
  {
   "source": [
    "### * Base 64 Encoding\n",
    ": 64 개의 문자로 text를 표시\n",
    "'A-Z' 26\n",
    "'a-z' 26\n",
    "'0-9' 10"
   ],
   "cell_type": "markdown",
   "metadata": {}
  },
  {
   "cell_type": "code",
   "execution_count": 9,
   "metadata": {},
   "outputs": [
    {
     "output_type": "stream",
     "name": "stdout",
     "text": [
      "b\"Yesterday, all my troubles seemed so far away\\nNow it looks as though they're here to stay\\noh, I believe in yesterday\\n\\nSuddenly, I'm not half the man I used to be\\nThere's a shadow hanging over me\\nOh, yesterday came suddenly.\\n\\nWhy she had to go?\\nI don't know, she wouldn't say\\nI said something wrong\\nNow I long for yesterday.\\n\\nYesterday love was such an easy game to play\\nNow I need a place to hide away\\nOh, I believe in yesterday.\\n\\nWhy she had to go?\\nI don't know, she wouldn't say\\nI said something wrong\\nNow I long for yesterday.\\n\\nYesterday love was such an easy game to play\\nNow I need a place to hide away\\nOh, I believe in yesterday...\\n\"\n"
     ]
    }
   ],
   "source": [
    "# base64 decoding\n",
    "import base64\n",
    "byte_content = base64.b64decode(parsed_req['content'])\n",
    "\n",
    "print(byte_content) #bytes임"
   ]
  },
  {
   "cell_type": "code",
   "execution_count": 15,
   "metadata": {},
   "outputs": [
    {
     "output_type": "execute_result",
     "data": {
      "text/plain": [
       "bytes"
      ]
     },
     "metadata": {},
     "execution_count": 15
    }
   ],
   "source": [
    "type(byte_content) #bytes임"
   ]
  },
  {
   "cell_type": "code",
   "execution_count": 12,
   "metadata": {},
   "outputs": [
    {
     "output_type": "stream",
     "name": "stdout",
     "text": [
      "Yesterday, all my troubles seemed so far away\nNow it looks as though they're here to stay\noh, I believe in yesterday\n\nSuddenly, I'm not half the man I used to be\nThere's a shadow hanging over me\nOh, yesterday came suddenly.\n\nWhy she had to go?\nI don't know, she wouldn't say\nI said something wrong\nNow I long for yesterday.\n\nYesterday love was such an easy game to play\nNow I need a place to hide away\nOh, I believe in yesterday.\n\nWhy she had to go?\nI don't know, she wouldn't say\nI said something wrong\nNow I long for yesterday.\n\nYesterday love was such an easy game to play\nNow I need a place to hide away\nOh, I believe in yesterday...\n\n"
     ]
    }
   ],
   "source": [
    "lyrics = byte_content.decode()\n",
    "print(lyrics)  #string으로 바뀜"
   ]
  },
  {
   "cell_type": "code",
   "execution_count": 16,
   "metadata": {},
   "outputs": [
    {
     "output_type": "execute_result",
     "data": {
      "text/plain": [
       "str"
      ]
     },
     "metadata": {},
     "execution_count": 16
    }
   ],
   "source": [
    "type(lyrics) #string"
   ]
  },
  {
   "cell_type": "code",
   "execution_count": 13,
   "metadata": {},
   "outputs": [
    {
     "output_type": "execute_result",
     "data": {
      "text/plain": [
       "9"
      ]
     },
     "metadata": {},
     "execution_count": 13
    }
   ],
   "source": [
    "# string문자열 메소드count로 해당 문자빈도를 파악가능\n",
    "n_of_yesterday = lyrics.lower().count('yesterday') #해당 단어'yesterday'가 몇 번 나왔는지 파악가능\n",
    "n_of_yesterday  "
   ]
  },
  {
   "source": [
    "## 단축키#bytes임"
   ],
   "cell_type": "code",
   "metadata": {},
   "execution_count": null,
   "outputs": []
  },
  {
   "source": [
    "## 문자열 <-> ASCII CODE 변환\n",
    "* ord()\n",
    "* chr()"
   ],
   "cell_type": "markdown",
   "metadata": {}
  },
  {
   "cell_type": "code",
   "execution_count": 19,
   "metadata": {},
   "outputs": [
    {
     "output_type": "execute_result",
     "data": {
      "text/plain": [
       "65"
      ]
     },
     "metadata": {},
     "execution_count": 19
    }
   ],
   "source": [
    "# ascii code로 변환\n",
    "ord('A') "
   ]
  },
  {
   "cell_type": "code",
   "execution_count": 20,
   "metadata": {},
   "outputs": [
    {
     "output_type": "execute_result",
     "data": {
      "text/plain": [
       "'B'"
      ]
     },
     "metadata": {},
     "execution_count": 20
    }
   ],
   "source": [
    "#ascii code로 변환한 : ord() -> 다음 문자형으로 바꾸어 주어야함 : chr()\n",
    "chr(ord('A')+1)"
   ]
  },
  {
   "cell_type": "code",
   "execution_count": 25,
   "metadata": {},
   "outputs": [
    {
     "output_type": "execute_result",
     "data": {
      "text/plain": [
       "'HFY'"
      ]
     },
     "metadata": {},
     "execution_count": 25
    }
   ],
   "source": [
    "# 단어를 하나하나 바꾸어 이어 붙임\n",
    "word = chr( ord('C')+5 ) + chr(ord('A')+5) + chr(ord('T')+5)\n",
    "word"
   ]
  },
  {
   "cell_type": "code",
   "execution_count": 24,
   "metadata": {},
   "outputs": [
    {
     "output_type": "execute_result",
     "data": {
      "text/plain": [
       "'HFY'"
      ]
     },
     "metadata": {},
     "execution_count": 24
    }
   ],
   "source": [
    "# for문을 사용하여 단어를 함호화\n",
    "word =''\n",
    "for c in 'CAT':\n",
    "    word += chr(ord(c) + 5)\n",
    "word"
   ]
  },
  {
   "cell_type": "code",
   "execution_count": 23,
   "metadata": {},
   "outputs": [
    {
     "output_type": "execute_result",
     "data": {
      "text/plain": [
       "'HFY'"
      ]
     },
     "metadata": {},
     "execution_count": 23
    }
   ],
   "source": [
    "#위와 같은 결과 출력 # 파이썬스러운 코드\n",
    "word = ''.join(chr(ord(c) + 5) for c in 'CAT')\n",
    "word"
   ]
  },
  {
   "cell_type": "code",
   "execution_count": 26,
   "metadata": {},
   "outputs": [
    {
     "output_type": "execute_result",
     "data": {
      "text/plain": [
       "']^_'"
      ]
     },
     "metadata": {},
     "execution_count": 26
    }
   ],
   "source": [
    "word = chr( ord('X')+5 ) + chr(ord('Y')+5) + chr(ord('Z')+5)\n",
    "word"
   ]
  },
  {
   "cell_type": "code",
   "execution_count": 27,
   "metadata": {},
   "outputs": [
    {
     "output_type": "execute_result",
     "data": {
      "text/plain": [
       "'}~\\x7f'"
      ]
     },
     "metadata": {},
     "execution_count": 27
    }
   ],
   "source": [
    "word = chr( ord('x')+5 ) + chr(ord('y')+5) + chr(ord('z')+5)\n",
    "word"
   ]
  },
  {
   "cell_type": "code",
   "execution_count": 28,
   "metadata": {},
   "outputs": [
    {
     "output_type": "execute_result",
     "data": {
      "text/plain": [
       "'<=>'"
      ]
     },
     "metadata": {},
     "execution_count": 28
    }
   ],
   "source": [
    "word = chr( ord('7')+5 ) + chr(ord('8')+5) + chr(ord('9')+5)\n",
    "word"
   ]
  },
  {
   "source": [
    "### *  base 64 enconding 은 다음과 같이 출력됨\n",
    "X +5 => C\n",
    "\n",
    "Y +5 => D\n",
    "\n",
    "Z +5 => E"
   ],
   "cell_type": "markdown",
   "metadata": {}
  },
  {
   "source": [
    "## 문자열 서식 지정"
   ],
   "cell_type": "markdown",
   "metadata": {}
  },
  {
   "source": [
    "### - 서식지정자"
   ],
   "cell_type": "markdown",
   "metadata": {}
  },
  {
   "cell_type": "code",
   "execution_count": 33,
   "metadata": {},
   "outputs": [
    {
     "output_type": "stream",
     "name": "stdout",
     "text": [
      "1 2 3\na b c\n1 2 3\n1,2,a\n"
     ]
    }
   ],
   "source": [
    "print(1, 2, 3)\n",
    "print('a'+' '+ 'b' + ' ' + 'c')\n",
    "print('%d %d %d' % (1,2,3) )\n",
    "print('{},{},{}'.format(1,2,'a'))"
   ]
  },
  {
   "source": [
    "### - padding"
   ],
   "cell_type": "markdown",
   "metadata": {}
  },
  {
   "cell_type": "code",
   "execution_count": 34,
   "metadata": {},
   "outputs": [
    {
     "output_type": "stream",
     "name": "stdout",
     "text": [
      "        12\n"
     ]
    }
   ],
   "source": [
    "# 앞에 padding\n",
    "print('%10d' %12)\n"
   ]
  },
  {
   "cell_type": "code",
   "execution_count": 36,
   "metadata": {},
   "outputs": [
    {
     "output_type": "stream",
     "name": "stdout",
     "text": [
      "12        a\n"
     ]
    }
   ],
   "source": [
    "# 뒤에 padding\n",
    "print('%-10d' %12 + 'a')"
   ]
  },
  {
   "source": [
    "## - 문자열 포맷"
   ],
   "cell_type": "markdown",
   "metadata": {}
  },
  {
   "cell_type": "code",
   "execution_count": 37,
   "metadata": {},
   "outputs": [
    {
     "output_type": "execute_result",
     "data": {
      "text/plain": [
       "'3.141592653589793, 3.142'"
      ]
     },
     "metadata": {},
     "execution_count": 37
    }
   ],
   "source": [
    "# 소수점 3째자리에서 반올림 f'{ 숫자 :.3f}'\n",
    "import math\n",
    "a = f'{math.pi}, {math.pi:.3f}'\n",
    "a"
   ]
  },
  {
   "cell_type": "code",
   "execution_count": 38,
   "metadata": {},
   "outputs": [
    {
     "output_type": "execute_result",
     "data": {
      "text/plain": [
       "'10,000'"
      ]
     },
     "metadata": {},
     "execution_count": 38
    }
   ],
   "source": [
    "# 천단위 ,표시 : f'{숫자 : ,}'\n",
    "b = f'{10000:,}'\n",
    "b"
   ]
  }
 ]
}