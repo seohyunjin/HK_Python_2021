{
 "metadata": {
  "language_info": {
   "codemirror_mode": {
    "name": "ipython",
    "version": 3
   },
   "file_extension": ".py",
   "mimetype": "text/x-python",
   "name": "python",
   "nbconvert_exporter": "python",
   "pygments_lexer": "ipython3",
   "version": "3.8.5"
  },
  "orig_nbformat": 2,
  "kernelspec": {
   "name": "python385jvsc74a57bd08c1eae21719a0790335dcb83aad72b63b602cfe5cdb2bda0f60bc11d4f154e4b",
   "display_name": "Python 3.8.5 64-bit ('base': conda)"
  }
 },
 "nbformat": 4,
 "nbformat_minor": 2,
 "cells": [
  {
   "source": [
    "# 6장 문자열"
   ],
   "cell_type": "markdown",
   "metadata": {}
  },
  {
   "source": [
    "## 1. 문자열의 이해"
   ],
   "cell_type": "markdown",
   "metadata": {}
  },
  {
   "cell_type": "code",
   "execution_count": 1,
   "metadata": {},
   "outputs": [
    {
     "output_type": "execute_result",
     "data": {
      "text/plain": [
       "5"
      ]
     },
     "metadata": {},
     "execution_count": 1
    }
   ],
   "source": [
    "string ='hello'\n",
    "len(string)"
   ]
  },
  {
   "cell_type": "code",
   "execution_count": 2,
   "metadata": {},
   "outputs": [
    {
     "output_type": "execute_result",
     "data": {
      "text/plain": [
       "6"
      ]
     },
     "metadata": {},
     "execution_count": 2
    }
   ],
   "source": [
    "string ='안녕하세요?'\n",
    "len(string)"
   ]
  },
  {
   "cell_type": "code",
   "execution_count": 3,
   "metadata": {},
   "outputs": [
    {
     "output_type": "execute_result",
     "data": {
      "text/plain": [
       "('안녕', '하세요?')"
      ]
     },
     "metadata": {},
     "execution_count": 3
    }
   ],
   "source": [
    "string[:2] , string[2:]"
   ]
  },
  {
   "cell_type": "code",
   "execution_count": 4,
   "metadata": {},
   "outputs": [
    {
     "output_type": "stream",
     "name": "stdout",
     "text": [
      "안녕안녕 하세요?하세요?\n"
     ]
    }
   ],
   "source": [
    "# *연산자는 반복, + 연산자는 문자연결(concatnate)\n",
    "first = string[:2]\n",
    "last = string[2:]\n",
    "print(first*2 + ' ' + last*2)"
   ]
  },
  {
   "source": [
    "### - 문자열의 메소드(method)"
   ],
   "cell_type": "markdown",
   "metadata": {}
  },
  {
   "cell_type": "code",
   "execution_count": 5,
   "metadata": {},
   "outputs": [],
   "source": [
    "text = 'A quick brown fox jumps over the lazy dog.'"
   ]
  },
  {
   "cell_type": "code",
   "execution_count": 6,
   "metadata": {},
   "outputs": [
    {
     "output_type": "execute_result",
     "data": {
      "text/plain": [
       "'a quick brown fox jumps over the lazy dog.'"
      ]
     },
     "metadata": {},
     "execution_count": 6
    }
   ],
   "source": [
    "# 모든 문자를 소문자로 : lower()\n",
    "text.lower()"
   ]
  },
  {
   "cell_type": "code",
   "execution_count": 7,
   "metadata": {},
   "outputs": [
    {
     "output_type": "execute_result",
     "data": {
      "text/plain": [
       "'A QUICK BROWN FOX JUMPS OVER THE LAZY DOG.'"
      ]
     },
     "metadata": {},
     "execution_count": 7
    }
   ],
   "source": [
    "# 모든 문자를 대문자로 :upper()\n",
    "text.upper()"
   ]
  },
  {
   "cell_type": "code",
   "execution_count": 8,
   "metadata": {},
   "outputs": [
    {
     "output_type": "execute_result",
     "data": {
      "text/plain": [
       "'A Quick Brown Fox Jumps Over The Lazy Dog.'"
      ]
     },
     "metadata": {},
     "execution_count": 8
    }
   ],
   "source": [
    "# 단어의 시작을 모두 대문자로 : title()\n",
    "text.title()"
   ]
  },
  {
   "cell_type": "code",
   "execution_count": 9,
   "metadata": {},
   "outputs": [
    {
     "output_type": "execute_result",
     "data": {
      "text/plain": [
       "'A quick brown fox jumps over the lazy dog.'"
      ]
     },
     "metadata": {},
     "execution_count": 9
    }
   ],
   "source": [
    "# 문장의 시작을 대문자로\n",
    "# 맨 앞 글짜를 대문자로 : capitalize()\n",
    "# Method chaining\n",
    "text.lower().capitalize()\n"
   ]
  },
  {
   "cell_type": "code",
   "execution_count": 10,
   "metadata": {},
   "outputs": [
    {
     "output_type": "execute_result",
     "data": {
      "text/plain": [
       "1"
      ]
     },
     "metadata": {},
     "execution_count": 10
    }
   ],
   "source": [
    "# 찾을 문자x가 몇개 포함되어있는가 : count() \n",
    "text.count('x')"
   ]
  },
  {
   "cell_type": "code",
   "execution_count": 11,
   "metadata": {},
   "outputs": [
    {
     "output_type": "execute_result",
     "data": {
      "text/plain": [
       "False"
      ]
     },
     "metadata": {},
     "execution_count": 11
    }
   ],
   "source": [
    "# 문자가 숫자인가? : isdigit()\n",
    "text.isdigit()"
   ]
  },
  {
   "cell_type": "code",
   "execution_count": 12,
   "metadata": {},
   "outputs": [
    {
     "output_type": "execute_result",
     "data": {
      "text/plain": [
       "True"
      ]
     },
     "metadata": {},
     "execution_count": 12
    }
   ],
   "source": [
    "# 문자가 숫자인가? : isdigit()\n",
    "'123'.isdigit()"
   ]
  },
  {
   "cell_type": "code",
   "execution_count": 13,
   "metadata": {},
   "outputs": [
    {
     "output_type": "execute_result",
     "data": {
      "text/plain": [
       "True"
      ]
     },
     "metadata": {},
     "execution_count": 13
    }
   ],
   "source": [
    "# 문자가 해당 문자로 시작하는가? : startwith()\n",
    "text.startswith('A')"
   ]
  },
  {
   "cell_type": "code",
   "execution_count": 14,
   "metadata": {},
   "outputs": [
    {
     "output_type": "execute_result",
     "data": {
      "text/plain": [
       "True"
      ]
     },
     "metadata": {},
     "execution_count": 14
    }
   ],
   "source": [
    "# 문자가 해당문자로 끝나는가? : endwith()\n",
    "text.endswith('dog.')"
   ]
  },
  {
   "cell_type": "code",
   "execution_count": 15,
   "metadata": {},
   "outputs": [
    {
     "output_type": "execute_result",
     "data": {
      "text/plain": [
       "14"
      ]
     },
     "metadata": {},
     "execution_count": 15
    }
   ],
   "source": [
    "# 해당문자가 존재하는 위치 (왼쪽에서 몇번쨰에 시작하는지)\n",
    "text.find('fox')"
   ]
  },
  {
   "cell_type": "code",
   "execution_count": 16,
   "metadata": {},
   "outputs": [
    {
     "output_type": "execute_result",
     "data": {
      "text/plain": [
       "-1"
      ]
     },
     "metadata": {},
     "execution_count": 16
    }
   ],
   "source": [
    "# -1 이 출력된다면 해당 문자열 안에 찾고자하는 단어가 없다는 것을 의미\n",
    "text.find('wolf')"
   ]
  },
  {
   "cell_type": "code",
   "execution_count": 17,
   "metadata": {},
   "outputs": [
    {
     "output_type": "execute_result",
     "data": {
      "text/plain": [
       "'white'"
      ]
     },
     "metadata": {},
     "execution_count": 17
    }
   ],
   "source": [
    "#양쪽 공백제거 : strip()\n",
    "'   white   '.strip()"
   ]
  },
  {
   "cell_type": "code",
   "execution_count": 18,
   "metadata": {},
   "outputs": [
    {
     "output_type": "execute_result",
     "data": {
      "text/plain": [
       "'   white'"
      ]
     },
     "metadata": {},
     "execution_count": 18
    }
   ],
   "source": [
    "#오른쪽 공백제거 : rstrip()\n",
    "'   white   '.rstrip()"
   ]
  },
  {
   "cell_type": "code",
   "execution_count": 19,
   "metadata": {},
   "outputs": [
    {
     "output_type": "execute_result",
     "data": {
      "text/plain": [
       "'white   '"
      ]
     },
     "metadata": {},
     "execution_count": 19
    }
   ],
   "source": [
    "# 왼쪽 공백제거 : lstrip()\n",
    "'   white   '.lstrip()"
   ]
  },
  {
   "cell_type": "code",
   "execution_count": 20,
   "metadata": {},
   "outputs": [
    {
     "output_type": "execute_result",
     "data": {
      "text/plain": [
       "['A', 'quick', 'brown', 'fox', 'jumps', 'over', 'the', 'lazy', 'dog.']"
      ]
     },
     "metadata": {},
     "execution_count": 20
    }
   ],
   "source": [
    "# 문자열 구분 : split()\n",
    "text.split()"
   ]
  },
  {
   "source": [
    "## 문자열 표현과 특수 문자\n",
    "\n",
    "\\enter : 다음줄과 연속일때 표현\n",
    "\n",
    "\\\\ : \\문자 자체\n",
    "\n",
    "\\' : '문자\n",
    "\n",
    "\\\" : \"문자\n",
    "\n",
    "\\b : 백스페이스\n",
    "\n",
    "\\n : 줄바꾸기\n",
    "\n",
    "\\t : tab키\n",
    "\n",
    "\\e : esc키\n"
   ],
   "cell_type": "markdown",
   "metadata": {}
  },
  {
   "cell_type": "code",
   "execution_count": 21,
   "metadata": {},
   "outputs": [
    {
     "output_type": "execute_result",
     "data": {
      "text/plain": [
       "'b'"
      ]
     },
     "metadata": {},
     "execution_count": 21
    }
   ],
   "source": [
    "score =85\n",
    "'a' if score >= 90 else\\\n",
    "    'b' if score >80 else 'c'"
   ]
  },
  {
   "source": [
    "## 여러줄의 문자열\n",
    "따옴표 3개 * 2 이용 '''문자열''' or \"\"\"문자열\"\"\""
   ],
   "cell_type": "markdown",
   "metadata": {}
  },
  {
   "source": [
    "#여러줄 출력시 따옴표3개*2 이용\n",
    "\n",
    "multi_line = '''\n",
    "A quick brown fox jumps over the lazy dog.\n",
    "나는 민족중흥의 역사적 사명을 띄고 이 땅에 태어났다.\n",
    "'''\n",
    "\n",
    "print(multi_line)"
   ],
   "cell_type": "code",
   "metadata": {},
   "execution_count": 22,
   "outputs": [
    {
     "output_type": "stream",
     "name": "stdout",
     "text": [
      "\nA quick brown fox jumps over the lazy dog.\n나는 민족중흥의 역사적 사명을 띄고 이 땅에 태어났다.\n\n"
     ]
    }
   ]
  },
  {
   "cell_type": "code",
   "execution_count": 23,
   "metadata": {},
   "outputs": [
    {
     "output_type": "stream",
     "name": "stdout",
     "text": [
      "\nA quick brown fox jumps over the lazy dog.\n나는 민족중흥의 역사적 사명을 띄고 이 땅에 태어났다.\n\n"
     ]
    }
   ],
   "source": [
    "\n",
    "multi_line = \"\"\"\n",
    "A quick brown fox jumps over the lazy dog.\n",
    "나는 민족중흥의 역사적 사명을 띄고 이 땅에 태어났다.\n",
    "\"\"\"\n",
    "\n",
    "print(multi_line)"
   ]
  },
  {
   "cell_type": "code",
   "execution_count": 24,
   "metadata": {},
   "outputs": [
    {
     "output_type": "execute_result",
     "data": {
      "text/plain": [
       "' first = string[:2]\\nlast = string[2::] '"
      ]
     },
     "metadata": {},
     "execution_count": 24
    }
   ],
   "source": [
    "# 블럭 지정후 shift + alt + a  단축키 : block comment 처리\n",
    "\n",
    "\"\"\" first = string[:2]\n",
    "last = string[2::] \"\"\""
   ]
  },
  {
   "cell_type": "code",
   "execution_count": 25,
   "metadata": {},
   "outputs": [],
   "source": [
    "# 함수의 hint를 적어줄 때 사용하기도 함\n",
    "def sample(x,y):\n",
    "    '''\n",
    "    함수의 사용법은 이자리에 넣는다.\n",
    "    '''\n",
    "    return x * y "
   ]
  },
  {
   "cell_type": "code",
   "execution_count": 26,
   "metadata": {},
   "outputs": [
    {
     "output_type": "execute_result",
     "data": {
      "text/plain": [
       "2"
      ]
     },
     "metadata": {},
     "execution_count": 26
    }
   ],
   "source": [
    "sample(1,2)"
   ]
  }
 ]
}