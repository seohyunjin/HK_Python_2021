{
 "metadata": {
  "language_info": {
   "codemirror_mode": {
    "name": "ipython",
    "version": 3
   },
   "file_extension": ".py",
   "mimetype": "text/x-python",
   "name": "python",
   "nbconvert_exporter": "python",
   "pygments_lexer": "ipython3",
   "version": "3.8.5"
  },
  "orig_nbformat": 2,
  "kernelspec": {
   "name": "python385jvsc74a57bd08c1eae21719a0790335dcb83aad72b63b602cfe5cdb2bda0f60bc11d4f154e4b",
   "display_name": "Python 3.8.5 64-bit ('base': conda)"
  }
 },
 "nbformat": 4,
 "nbformat_minor": 2,
 "cells": [
  {
   "source": [
    "# 11장. 모듈과 패키지"
   ],
   "cell_type": "markdown",
   "metadata": {}
  },
  {
   "source": [
    "## 모듈"
   ],
   "cell_type": "markdown",
   "metadata": {}
  },
  {
   "source": [
    "-내장 모듈\n",
    "-외장 모듈"
   ],
   "cell_type": "markdown",
   "metadata": {}
  },
  {
   "cell_type": "code",
   "execution_count": 3,
   "metadata": {},
   "outputs": [],
   "source": [
    "def convert_c2f(celcius_value):\n",
    "    return celcius_value * 9. / 5 + 32"
   ]
  },
  {
   "source": [
    "## 패키지\n",
    ": 모듈의 묶음\n",
    "\n",
    "### ex) 패키지GAME \n",
    "- sound sub-package _ __init__.py, load.py, play.py, pause.py\n",
    "- image sub-package _ __init__.py, open.py, change.py, close.py\n",
    "- level sub-package _ __init__.py, start.py, load.py"
   ],
   "cell_type": "markdown",
   "metadata": {}
  },
  {
   "cell_type": "code",
   "execution_count": 4,
   "metadata": {},
   "outputs": [
    {
     "output_type": "stream",
     "name": "stdout",
     "text": [
      "섭씨 온도: 15.1, 화씨온도: 59.2\n"
     ]
    }
   ],
   "source": [
    "celcius = float(input('섭씨 온도'))\n",
    "fahrenheit = convert_c2f(celcius)\n",
    "print(f'섭씨 온도: {celcius:.1f}, 화씨온도: {fahrenheit:.1f}')"
   ]
  },
  {
   "cell_type": "code",
   "execution_count": 1,
   "metadata": {},
   "outputs": [
    {
     "output_type": "stream",
     "name": "stdout",
     "text": [
      "섭씨 온도: 17.1, 화씨온도: 62.8\n"
     ]
    }
   ],
   "source": [
    "import module1\n",
    "\n",
    "celcius = float(input('섭씨 온도'))\n",
    "fahrenheit = module1.convert_c2f_m(celcius)\n",
    "print(f'섭씨 온도: {celcius:.1f}, 화씨온도: {fahrenheit:.1f}')"
   ]
  },
  {
   "cell_type": "code",
   "execution_count": 2,
   "metadata": {},
   "outputs": [
    {
     "output_type": "stream",
     "name": "stdout",
     "text": [
      "섭씨 온도: 17.2, 화씨온도: 63.0\n"
     ]
    }
   ],
   "source": [
    "import module1 as m1  # as- alias, 축약명칭\n",
    "\n",
    "celcius = float(input('섭씨 온도'))\n",
    "fahrenheit = m1.convert_c2f_m(celcius)\n",
    "print(f'섭씨 온도: {celcius:.1f}, 화씨온도: {fahrenheit:.1f}')"
   ]
  },
  {
   "cell_type": "code",
   "execution_count": 3,
   "metadata": {},
   "outputs": [
    {
     "output_type": "stream",
     "name": "stdout",
     "text": [
      "섭씨 온도: 18.1, 화씨온도: 64.6\n"
     ]
    }
   ],
   "source": [
    "from module1 import convert_c2f_m\n",
    "\n",
    "celcius = float(input('섭씨 온도'))\n",
    "fahrenheit = module1.convert_c2f_m(celcius)\n",
    "print(f'섭씨 온도: {celcius:.1f}, 화씨온도: {fahrenheit:.1f}')"
   ]
  },
  {
   "cell_type": "code",
   "execution_count": 4,
   "metadata": {},
   "outputs": [
    {
     "output_type": "stream",
     "name": "stdout",
     "text": [
      "섭씨 온도: 17.1, 화씨온도: 64.6\n"
     ]
    }
   ],
   "source": [
    "from module1 import convert_c2f_m\n",
    "\n",
    "celcius = float(input('섭씨 온도'))\n",
    "fahrenhit = module1.convert_c2f_m(celcius)\n",
    "print(f'섭씨 온도: {celcius:.1f}, 화씨온도: {fahrenheit:.1f}')"
   ]
  },
  {
   "cell_type": "code",
   "execution_count": 5,
   "metadata": {},
   "outputs": [
    {
     "output_type": "stream",
     "name": "stdout",
     "text": [
      "섭씨 온도: 17.1, 화씨온도: 62.8\n"
     ]
    }
   ],
   "source": [
    "from module1 import *\n",
    "\n",
    "fahrenheit = float(input('화씨 온도'))\n",
    "celcius = module1.convert_c2f_m(fahrenheit)\n",
    "print(f'섭씨 온도: {fahrenheit:.1f}, 화씨온도: {celcius:.1f}')"
   ]
  },
  {
   "cell_type": "code",
   "execution_count": 6,
   "metadata": {},
   "outputs": [
    {
     "output_type": "execute_result",
     "data": {
      "text/plain": [
       "-12.222222222222221"
      ]
     },
     "metadata": {},
     "execution_count": 6
    }
   ],
   "source": [
    "import module.module1 as mm1\n",
    "mm1.convert_f2c_m(10)"
   ]
  },
  {
   "source": [
    "## - 내장모듈"
   ],
   "cell_type": "markdown",
   "metadata": {}
  },
  {
   "cell_type": "code",
   "execution_count": 12,
   "metadata": {},
   "outputs": [
    {
     "output_type": "execute_result",
     "data": {
      "text/plain": [
       "(0.13436424411240122, 197)"
      ]
     },
     "metadata": {},
     "execution_count": 12
    }
   ],
   "source": [
    "# random 함수 이용하여 무작위값 가져올 수 있음\n",
    "# random.seed() 이용하면 \n",
    "import random\n",
    "random.seed(True) # 값 고정 \n",
    "random.random(), random.randint(100,200)"
   ]
  },
  {
   "cell_type": "code",
   "execution_count": 15,
   "metadata": {},
   "outputs": [
    {
     "output_type": "execute_result",
     "data": {
      "text/plain": [
       "(0.8363375023320742, 180)"
      ]
     },
     "metadata": {},
     "execution_count": 15
    }
   ],
   "source": [
    "import random\n",
    "random.seed(2021) # 값 고정 \n",
    "random.random(), random.randint(100,200)"
   ]
  }
 ]
}