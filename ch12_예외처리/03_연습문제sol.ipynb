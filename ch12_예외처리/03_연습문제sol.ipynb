{
 "metadata": {
  "language_info": {
   "codemirror_mode": {
    "name": "ipython",
    "version": 3
   },
   "file_extension": ".py",
   "mimetype": "text/x-python",
   "name": "python",
   "nbconvert_exporter": "python",
   "pygments_lexer": "ipython3",
   "version": "3.8.5"
  },
  "orig_nbformat": 2,
  "kernelspec": {
   "name": "python385jvsc74a57bd011c5551ae82e23fff8e60194999660a39dbbaa358a6e27f4b4760408471d2744",
   "display_name": "Python 3.8.5 64-bit ('pythonProjectprac1': conda)"
  }
 },
 "nbformat": 4,
 "nbformat_minor": 2,
 "cells": [
  {
   "source": [
    "# 지뢰찾기"
   ],
   "cell_type": "markdown",
   "metadata": {}
  },
  {
   "cell_type": "code",
   "execution_count": 1,
   "metadata": {},
   "outputs": [],
   "source": [
    "# matrix 형태 출력\n",
    "def print_matrix(m):\n",
    "    for i in range(len(m)):\n",
    "        for k in range(len(m)):\n",
    "            print(m[i][k], end=' ')\n",
    "        print()"
   ]
  },
  {
   "cell_type": "code",
   "execution_count": 2,
   "metadata": {},
   "outputs": [],
   "source": [
    "# padding\n",
    "def m2p(m):\n",
    "    p = []\n",
    "    p.append([0]*(len(m)+2))\n",
    "    for row in m:\n",
    "        r = [0]\n",
    "        #for element in row:\n",
    "        #    r.append(element)\n",
    "        r.extend(row)\n",
    "        r.append(0)\n",
    "        p.append(r)\n",
    "    p.append([0]*(len(m)+2))\n",
    "    return p"
   ]
  },
  {
   "cell_type": "code",
   "execution_count": 3,
   "metadata": {},
   "outputs": [],
   "source": [
    "# 지뢰(1)이면 *출력, 근방에 지뢰가 있다면 개수를 셈\n",
    "def count_mine(p, i, k):\n",
    "    if p[i][k] == 1:\n",
    "        return '*'\n",
    "    count = p[i-1][k-1] + p[i-1][k] + p[i-1][k+1] + \\\n",
    "            p[i][k-1] +               p[i][k+1] + \\\n",
    "            p[i+1][k-1] + p[i+1][k] + p[i+1][k+1]\n",
    "    return count"
   ]
  },
  {
   "cell_type": "code",
   "execution_count": 4,
   "metadata": {},
   "outputs": [
    {
     "output_type": "stream",
     "name": "stdout",
     "text": [
      "1 0 0 0 0 0 \n1 0 0 0 0 0 \n0 0 1 1 0 0 \n0 1 0 1 0 1 \n0 0 0 0 0 0 \n0 1 0 1 0 1 \n"
     ]
    }
   ],
   "source": [
    "# random()이용해 matrix 임의생성\n",
    "import random\n",
    "mine_len = 6\n",
    "mine = [[0 if random.random() < 0.7 else 1 for _ in range(mine_len)]\n",
    "                                        for _ in range(mine_len)]\n",
    "print_matrix(mine)"
   ]
  },
  {
   "cell_type": "code",
   "execution_count": 5,
   "metadata": {},
   "outputs": [
    {
     "output_type": "stream",
     "name": "stdout",
     "text": [
      "0 0 0 0 0 0 0 0 \n0 1 0 0 0 0 0 0 \n0 1 0 0 0 0 0 0 \n0 0 0 1 1 0 0 0 \n0 0 1 0 1 0 1 0 \n0 0 0 0 0 0 0 0 \n0 0 1 0 1 0 1 0 \n0 0 0 0 0 0 0 0 \n"
     ]
    }
   ],
   "source": [
    "# padding\n",
    "padding = m2p(mine)\n",
    "print_matrix(padding)"
   ]
  },
  {
   "cell_type": "code",
   "execution_count": 9,
   "metadata": {},
   "outputs": [],
   "source": [
    "# unpadding \n",
    "answer = []\n",
    "for row in range(1, mine_len+1):\n",
    "    line = []\n",
    "    for col in range(1, mine_len+1):\n",
    "        line.append(count_mine(padding, row, col))\n",
    "    answer.append(line)"
   ]
  },
  {
   "cell_type": "code",
   "execution_count": 10,
   "metadata": {},
   "outputs": [
    {
     "output_type": "stream",
     "name": "stdout",
     "text": [
      "* 2 0 0 0 0 \n* 3 2 2 1 0 \n2 3 * * 3 1 \n1 * 4 * 3 * \n2 2 4 2 4 2 \n1 * 2 * 2 * \n"
     ]
    }
   ],
   "source": [
    "# 결과 출력\n",
    "print_matrix(answer)"
   ]
  }
 ]
}