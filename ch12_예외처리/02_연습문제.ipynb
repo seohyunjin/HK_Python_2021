{
 "metadata": {
  "language_info": {
   "codemirror_mode": {
    "name": "ipython",
    "version": 3
   },
   "file_extension": ".py",
   "mimetype": "text/x-python",
   "name": "python",
   "nbconvert_exporter": "python",
   "pygments_lexer": "ipython3",
   "version": "3.8.5"
  },
  "orig_nbformat": 2,
  "kernelspec": {
   "name": "python385jvsc74a57bd08c1eae21719a0790335dcb83aad72b63b602cfe5cdb2bda0f60bc11d4f154e4b",
   "display_name": "Python 3.8.5 64-bit ('base': conda)"
  }
 },
 "nbformat": 4,
 "nbformat_minor": 2,
 "cells": [
  {
   "source": [
    "## 지뢰찾기"
   ],
   "cell_type": "markdown",
   "metadata": {}
  },
  {
   "source": [
    "# 코딩도장 23\n",
    "표준 입력으로 2차원 리스트의 가로(col)와 세로(row)가 입력되고 그 다음 줄부터 리스트의 요소로 들어갈 문자가 입력됩니다. 이때 2차원 리스트 안에서 *는 지뢰이고 .은 지뢰가 아닙니다. 지뢰가 아닌 요소에는 인접한 지뢰의 개수를 출력하는 프로그램을 만드세요(input에서 안내 문자열은 출력하지 않아야 합니다).\n",
    "\n",
    "여러 줄을 입력 받으려면 다음과 같이 for 반복문에서 input을 호출한 뒤 append로 각 줄을 추가하면 됩니다(list 안에 문자열을 넣으면 문자열이 문자 리스트로 변환됩니다).\n"
   ],
   "cell_type": "markdown",
   "metadata": {}
  },
  {
   "cell_type": "code",
   "execution_count": 158,
   "metadata": {},
   "outputs": [],
   "source": [
    "import random\n",
    "\n",
    "random.seed(2021)\n",
    "# (4 x 4)\n",
    "mtx = [[0 if random.random() <0.7 else 1 for _ in range(4)  ]for _ in range(4) ]\n",
    "copy_mtx = mtx"
   ]
  },
  {
   "cell_type": "code",
   "execution_count": 159,
   "metadata": {},
   "outputs": [
    {
     "output_type": "execute_result",
     "data": {
      "text/plain": [
       "[[0, 0, 0, 0, 0, 0],\n",
       " [0, 1, 1, 0, 0, 0],\n",
       " [0, 0, 1, 0, 0, 0],\n",
       " [0, 0, 0, 1, 0, 0],\n",
       " [0, 1, 1, 0, 0, 0],\n",
       " [0, 0, 0, 0, 0, 0]]"
      ]
     },
     "metadata": {},
     "execution_count": 159
    }
   ],
   "source": [
    "# padding(6 x 6)\n",
    "# 리스트에 값 추가 : inster( ) , (0, ): 맨앞에 추가, (len(리스트), ) : 맨끝에 추가\n",
    "copy_mtx.insert(0, [0,0,0,0,0,0])\n",
    "copy_mtx.insert(len(copy_mtx), [0,0,0,0,0,0])\n",
    "for i in range(1, 5):\n",
    "    copy_mtx[i].insert(0, 0)\n",
    "    copy_mtx[i].insert(len(copy_mtx[i]), 0)\n",
    "copy_mtx"
   ]
  },
  {
   "cell_type": "code",
   "execution_count": 160,
   "metadata": {},
   "outputs": [
    {
     "output_type": "execute_result",
     "data": {
      "text/plain": [
       "[[0, 0, 0, 0, 0, 0],\n",
       " [0, '#', '#', 0, 0, 0],\n",
       " [0, 0, '#', 0, 0, 0],\n",
       " [0, 0, 0, '#', 0, 0],\n",
       " [0, '#', '#', 0, 0, 0],\n",
       " [0, 0, 0, 0, 0, 0]]"
      ]
     },
     "metadata": {},
     "execution_count": 160
    }
   ],
   "source": [
    "#지뢰찾기\n",
    "for i in range(1, len(copy_mtx)-1): # 행번호 i\n",
    "    for k in range(1, len(copy_mtx[i])-1 ) : #열번호 k\n",
    "        # print(i,k)\n",
    "        if copy_mtx[i][k] == 1 :\n",
    "            copy_mtx[i][k] = \"#\"\n",
    "copy_mtx"
   ]
  },
  {
   "cell_type": "code",
   "execution_count": 161,
   "metadata": {},
   "outputs": [
    {
     "output_type": "execute_result",
     "data": {
      "text/plain": [
       "[[0, 0, 0, 0, 0, 0],\n",
       " [0, '#', '#', '2', '0', 0],\n",
       " [0, '3', '#', '3', '1', 0],\n",
       " [0, '3', '4', '#', '1', 0],\n",
       " [0, '#', '#', '2', '1', 0],\n",
       " [0, 0, 0, 0, 0, 0]]"
      ]
     },
     "metadata": {},
     "execution_count": 161
    }
   ],
   "source": [
    "# 근방 지뢰개수 표시\n",
    "for i in range(1, len(copy_mtx)-1): # 행번호 i\n",
    "    for k in range(1, len(copy_mtx[i])-1 ) : #열번호 k\n",
    "        # print(i,k)\n",
    "            n=0\n",
    "            for a in range(i-1, i+2): # 행\n",
    "                for b in range(k-1, k+2): #열\n",
    "                    if copy_mtx[a][b] == '#':\n",
    "                       n += 1 \n",
    "            if copy_mtx[i][k] != \"#\" :\n",
    "                copy_mtx[i][k] = f'{n}'\n",
    "result_mtx= copy_mtx\n",
    "copy_mtx"
   ]
  },
  {
   "cell_type": "code",
   "execution_count": 162,
   "metadata": {},
   "outputs": [
    {
     "output_type": "execute_result",
     "data": {
      "text/plain": [
       "[['#', '#', '2', '0'],\n",
       " ['3', '#', '3', '1'],\n",
       " ['3', '4', '#', '1'],\n",
       " ['#', '#', '2', '1']]"
      ]
     },
     "metadata": {},
     "execution_count": 162
    }
   ],
   "source": [
    "# unpadding\n",
    "del result_mtx[0]\n",
    "del result_mtx[len(result_mtx)-1]\n",
    "for i in range(0, len(result_mtx)):\n",
    "   del result_mtx[i][0]\n",
    "   del result_mtx[i][4]\n",
    "\n",
    "result_mtx\n",
    "#result_mtx[i][k]"
   ]
  }
 ]
}