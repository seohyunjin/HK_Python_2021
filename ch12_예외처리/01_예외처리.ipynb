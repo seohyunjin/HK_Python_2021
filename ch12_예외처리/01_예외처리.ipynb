{
 "metadata": {
  "language_info": {
   "codemirror_mode": {
    "name": "ipython",
    "version": 3
   },
   "file_extension": ".py",
   "mimetype": "text/x-python",
   "name": "python",
   "nbconvert_exporter": "python",
   "pygments_lexer": "ipython3",
   "version": "3.8.5"
  },
  "orig_nbformat": 2,
  "kernelspec": {
   "name": "python385jvsc74a57bd08c1eae21719a0790335dcb83aad72b63b602cfe5cdb2bda0f60bc11d4f154e4b",
   "display_name": "Python 3.8.5 64-bit ('base': conda)"
  }
 },
 "nbformat": 4,
 "nbformat_minor": 2,
 "cells": [
  {
   "source": [
    "# 예외처리"
   ],
   "cell_type": "markdown",
   "metadata": {}
  },
  {
   "source": [
    "## 1. try -except 문\n",
    "try: \n",
    "\n",
    "        정상 실행 코드\n",
    "\n",
    "except 에러명: \n",
    "\n",
    "         에러날때 실행할 코드"
   ],
   "cell_type": "markdown",
   "metadata": {}
  },
  {
   "source": [
    "# 0으로 나눌 수 없으므로  ZeroDivisionError: division by zero 에러 발생\n",
    "for i in range(5):\n",
    "    print(5 / i)"
   ],
   "cell_type": "code",
   "metadata": {},
   "execution_count": 6,
   "outputs": [
    {
     "output_type": "error",
     "ename": "ZeroDivisionError",
     "evalue": "division by zero",
     "traceback": [
      "\u001b[1;31m---------------------------------------------------------------------------\u001b[0m",
      "\u001b[1;31mZeroDivisionError\u001b[0m                         Traceback (most recent call last)",
      "\u001b[1;32m<ipython-input-6-e9ea2dd4e4ba>\u001b[0m in \u001b[0;36m<module>\u001b[1;34m\u001b[0m\n\u001b[0;32m      1\u001b[0m \u001b[1;31m# 0으로 나눌 수 없으므로  ZeroDivisionError: division by zero 에러 발생\u001b[0m\u001b[1;33m\u001b[0m\u001b[1;33m\u001b[0m\u001b[1;33m\u001b[0m\u001b[0m\n\u001b[0;32m      2\u001b[0m \u001b[1;32mfor\u001b[0m \u001b[0mi\u001b[0m \u001b[1;32min\u001b[0m \u001b[0mrange\u001b[0m\u001b[1;33m(\u001b[0m\u001b[1;36m5\u001b[0m\u001b[1;33m)\u001b[0m\u001b[1;33m:\u001b[0m\u001b[1;33m\u001b[0m\u001b[1;33m\u001b[0m\u001b[0m\n\u001b[1;32m----> 3\u001b[1;33m     \u001b[0mprint\u001b[0m\u001b[1;33m(\u001b[0m\u001b[1;36m5\u001b[0m \u001b[1;33m/\u001b[0m \u001b[0mi\u001b[0m\u001b[1;33m)\u001b[0m\u001b[1;33m\u001b[0m\u001b[1;33m\u001b[0m\u001b[0m\n\u001b[0m",
      "\u001b[1;31mZeroDivisionError\u001b[0m: division by zero"
     ]
    }
   ]
  },
  {
   "cell_type": "code",
   "execution_count": 4,
   "metadata": {},
   "outputs": [
    {
     "output_type": "stream",
     "name": "stdout",
     "text": [
      "0으로 나누지 마세요!\n5.0\n2.5\n1.6666666666666667\n1.25\n"
     ]
    }
   ],
   "source": [
    "for i in range(5):\n",
    "    try:\n",
    "        print(5 / i)\n",
    "    except ZeroDivisionError:\n",
    "        print('0으로 나누지 마세요!') "
   ]
  },
  {
   "cell_type": "code",
   "execution_count": 7,
   "metadata": {},
   "outputs": [
    {
     "output_type": "stream",
     "name": "stdout",
     "text": [
      "division by zero\n0으로 나누지 마세요!\n5.0\n2.5\n1.6666666666666667\n1.25\n"
     ]
    }
   ],
   "source": [
    "# 예외처리시 , as 를 통해 에러메세지를 전달할 수 있음\n",
    "\n",
    "for i in range(5):\n",
    "    try:\n",
    "        print(5 / i)\n",
    "    except ZeroDivisionError as e:\n",
    "        print(e)  # 에러메세지 출력 : division by zero\n",
    "        print('0으로 나누지 마세요!') "
   ]
  },
  {
   "source": [
    "### try- except 문에 에러명을 가장 상위 패키지인 Exception으로 명명하면 모든 에러에 대하여 작동함\n",
    "\n",
    "try: \n",
    "\n",
    "        정상 실행 코드\n",
    "\n",
    "except Exception: \n",
    "\n",
    "         에러날때 실행할 코드"
   ],
   "cell_type": "code",
   "metadata": {},
   "execution_count": null,
   "outputs": []
  },
  {
   "cell_type": "code",
   "execution_count": 9,
   "metadata": {},
   "outputs": [
    {
     "output_type": "stream",
     "name": "stdout",
     "text": [
      "division by zero\n1.0\n1.0\n1.0\nlist index out of range\n"
     ]
    }
   ],
   "source": [
    "# Exception은 모든 에러의 조상\n",
    "a = [0, 1, 2, 3]\n",
    "for i in range(5):\n",
    "    try:\n",
    "        print( a[i]/ i)\n",
    "    except Exception as e:\n",
    "        print(e)"
   ]
  },
  {
   "source": [
    "## 2. try - ecept - else 문\n",
    "\n",
    "try: \n",
    "\n",
    "        정상 실행 코드\n",
    "\n",
    "except Exception: \n",
    "\n",
    "        에러날때 실행할 코드\n",
    "\n",
    "else:\n",
    "        정상실행 코드"
   ],
   "cell_type": "markdown",
   "metadata": {}
  },
  {
   "cell_type": "code",
   "execution_count": 11,
   "metadata": {},
   "outputs": [
    {
     "output_type": "stream",
     "name": "stdout",
     "text": [
      "division by zero\n1.0 - 에러가 발생하지 않았음\n1.0 - 에러가 발생하지 않았음\n1.0 - 에러가 발생하지 않았음\nlist index out of range\n"
     ]
    }
   ],
   "source": [
    "a드 = [0, 1, 2, 3]\n",
    "for i in range(5):\n",
    "    try:\n",
    "        b = a[i]/ i\n",
    "    except Exception as e:\n",
    "        print(e)\n",
    "    else:\n",
    "        print(f'{b} - 에러가 발생하지 않았음')"
   ]
  },
  {
   "source": [
    "## 3. try - except - finally"
   ],
   "cell_type": "markdown",
   "metadata": {}
  },
  {
   "cell_type": "code",
   "execution_count": 19,
   "metadata": {},
   "outputs": [
    {
     "output_type": "stream",
     "name": "stdout",
     "text": [
      "1.0\n1.0\n1.0\nlist index out of range\n종료\n"
     ]
    }
   ],
   "source": [
    "try:\n",
    "    for i in range(1, 5):\n",
    "        print(a[i] / i)\n",
    "except Exception as e:\n",
    "    print(e)\n",
    "finally:\n",
    "    print('종료') # 예외가 발생하던 안하던 실행"
   ]
  },
  {
   "cell_type": "code",
   "execution_count": null,
   "metadata": {},
   "outputs": [],
   "source": [
    "\n"
   ]
  }
 ]
}