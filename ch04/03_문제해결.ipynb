{
 "metadata": {
  "language_info": {
   "codemirror_mode": {
    "name": "ipython",
    "version": 3
   },
   "file_extension": ".py",
   "mimetype": "text/x-python",
   "name": "python",
   "nbconvert_exporter": "python",
   "pygments_lexer": "ipython3",
   "version": "3.8.5"
  },
  "orig_nbformat": 2,
  "kernelspec": {
   "name": "python385jvsc74a57bd08c1eae21719a0790335dcb83aad72b63b602cfe5cdb2bda0f60bc11d4f154e4b",
   "display_name": "Python 3.8.5 64-bit ('base': conda)"
  }
 },
 "nbformat": 4,
 "nbformat_minor": 2,
 "cells": [
  {
   "source": [
    "# 1. 구구단 계산기"
   ],
   "cell_type": "markdown",
   "metadata": {}
  },
  {
   "cell_type": "code",
   "execution_count": 5,
   "metadata": {},
   "outputs": [
    {
     "output_type": "stream",
     "name": "stdout",
     "text": [
      "6 x 1 = 6\n6 x 2 = 12\n6 x 3 = 18\n6 x 4 = 24\n6 x 5 = 30\n6 x 6 = 36\n6 x 7 = 42\n6 x 8 = 48\n6 x 9 = 54\n"
     ]
    }
   ],
   "source": [
    "# 구구단 6단 \n",
    "n = 6\n",
    "for i in range(1,10):\n",
    "    print( f'{n} x {i} = {n*i}' )  #fomated string : fstring :편하게 출력 가능 #파이썬 3.6부터 도입된 기능"
   ]
  },
  {
   "source": [
    "* formated String : f' {변수}  '"
   ],
   "cell_type": "markdown",
   "metadata": {}
  },
  {
   "source": [
    "# 2. 문자열 역순 출력"
   ],
   "cell_type": "markdown",
   "metadata": {}
  },
  {
   "cell_type": "code",
   "execution_count": 14,
   "metadata": {},
   "outputs": [
    {
     "output_type": "stream",
     "name": "stdout",
     "text": [
      "cpaqb\n"
     ]
    }
   ],
   "source": [
    "# 문자가 붙는 위치 파악 연습\n",
    "sentence ='paq'\n",
    "b='b'\n",
    "sentence = sentence + b  # paqb\n",
    "c='c'\n",
    "sentence = c + sentence  #cpaqb \n",
    "print(sentence)"
   ]
  },
  {
   "cell_type": "code",
   "execution_count": 12,
   "metadata": {},
   "outputs": [
    {
     "output_type": "stream",
     "name": "stdout",
     "text": [
      "hello world - dlrow olleh\n"
     ]
    }
   ],
   "source": [
    "# 문자열 역순 출력\n",
    "sentence = input()\n",
    "reverse_sentence = ''\n",
    "for char in sentence:\n",
    "    reverse_sentence = char + reverse_sentence\n",
    "print(sentence, '-', reverse_sentence)\n"
   ]
  },
  {
   "source": [
    "# 3. 십진수를 이진수로 반환"
   ],
   "cell_type": "markdown",
   "metadata": {}
  },
  {
   "cell_type": "code",
   "execution_count": 86,
   "metadata": {},
   "outputs": [
    {
     "output_type": "stream",
     "name": "stdout",
     "text": [
      "11111\n"
     ]
    }
   ],
   "source": [
    "#십진수를 이진수로 변환\n",
    "num1=20\n",
    "answer=''\n",
    "while(num1 != 0):\n",
    "    remainer = num1 % 2\n",
    "    num1 = num1 // 2 \n",
    "    answer =str(remainder) +answer\n",
    "print(answer)\n"
   ]
  },
  {
   "cell_type": "code",
   "execution_count": 22,
   "metadata": {},
   "outputs": [
    {
     "output_type": "execute_result",
     "data": {
      "text/plain": [
       "1"
      ]
     },
     "metadata": {},
     "execution_count": 22
    }
   ],
   "source": [
    "5 % 2 #나머지 연산"
   ]
  },
  {
   "cell_type": "code",
   "execution_count": 48,
   "metadata": {},
   "outputs": [
    {
     "output_type": "execute_result",
     "data": {
      "text/plain": [
       "6"
      ]
     },
     "metadata": {},
     "execution_count": 48
    }
   ],
   "source": [
    "12//2  # 목 연산"
   ]
  },
  {
   "cell_type": "code",
   "execution_count": 26,
   "metadata": {},
   "outputs": [
    {
     "output_type": "stream",
     "name": "stdout",
     "text": [
      "10100\n"
     ]
    }
   ],
   "source": [
    "num =20\n",
    "answer = ''\n",
    "while num >0:\n",
    "    remainder = num % 2 #나머지\n",
    "    num = num // 2\n",
    "    answer = str(remainder) +answer\n",
    "print(answer)"
   ]
  },
  {
   "source": [
    "# 4. 숫자 찾기 게임"
   ],
   "cell_type": "markdown",
   "metadata": {}
  },
  {
   "cell_type": "code",
   "execution_count": null,
   "metadata": {},
   "outputs": [],
   "source": [
    "# 컴퓨터가 1부터 100까지 임의의 숫자를 생성, 다음으로 사용자가 추측하는 숫자를 입력하면 컴퓨터가\n",
    "# 입력한 임의의 숫자보다, 큰지 작은지를 계속 비교, 정답 맞출때까지 반복, \n",
    "# 정답이면 '정답입니다. 입력한 숫자는 n입니다' 출력\n",
    "\n",
    "# Binary search"
   ]
  },
  {
   "cell_type": "code",
   "execution_count": null,
   "metadata": {},
   "outputs": [],
   "source": [
    "import random\n",
    "random_number = random.randint(1,100)"
   ]
  },
  {
   "cell_type": "code",
   "execution_count": 47,
   "metadata": {},
   "outputs": [
    {
     "output_type": "stream",
     "name": "stdout",
     "text": [
      "입력한 숫자 50 이/가 큼니다.\n",
      "입력한 숫자 25 이/가 큼니다.\n",
      "입력한 숫자 12 이/가 큼니다.\n",
      "입력한 숫자 6 이/가 큼니다.\n",
      "빙고. 정답은 3!!!\n"
     ]
    }
   ],
   "source": [
    "while True:\n",
    "    guess = int(input('1~100 사이의 정수를 찾아보세요'))\n",
    "    if guess == random_number : \n",
    "        print(f'빙고. 정답은 {guess}!!!')\n",
    "        break\n",
    "    if guess >= random_number :\n",
    "        print(f'입력한 숫자 {guess} 이/가 큼니다.')\n",
    "    else:\n",
    "        print(f'입력한 숫자 {guess} 이/가 작습니다.')"
   ]
  },
  {
   "source": [
    "# 5. 별표그리기"
   ],
   "cell_type": "markdown",
   "metadata": {}
  },
  {
   "source": [
    "## 5-1 별표그리기"
   ],
   "cell_type": "markdown",
   "metadata": {}
  },
  {
   "cell_type": "code",
   "execution_count": 56,
   "metadata": {},
   "outputs": [
    {
     "output_type": "stream",
     "name": "stdout",
     "text": [
      "\n*\n**\n***\n****\n*****\n******\n"
     ]
    }
   ],
   "source": [
    "n= int(input('숫자입력하시오'))\n",
    "for i in range(n):\n",
    "    print('*'* i )"
   ]
  },
  {
   "cell_type": "code",
   "execution_count": 64,
   "metadata": {},
   "outputs": [
    {
     "output_type": "stream",
     "name": "stdout",
     "text": [
      "+\n++\n+++\n++++\n+++++\n"
     ]
    }
   ],
   "source": [
    "# sol\n",
    "for i in range(1,6):\n",
    "    for k in range(i):\n",
    "        print('+', sep='', end ='')\n",
    "    print()"
   ]
  },
  {
   "cell_type": "code",
   "execution_count": 80,
   "metadata": {},
   "outputs": [
    {
     "output_type": "stream",
     "name": "stdout",
     "text": [
      "*****\n ****\n  ***\n   **\n    *\n"
     ]
    }
   ],
   "source": [
    "for i in range(1,6):\n",
    "    print(' '*(i-1) + '*'*(6-i) )"
   ]
  },
  {
   "cell_type": "code",
   "execution_count": 82,
   "metadata": {},
   "outputs": [
    {
     "output_type": "stream",
     "name": "stdout",
     "text": [
      "+++++\n ++++\n  +++\n   ++\n    +\n"
     ]
    }
   ],
   "source": [
    "# sol\n",
    "for i in range(1,6):\n",
    "    for k in range(1,i): #blanck처리\n",
    "        print(' ', sep= '',end='')\n",
    "    for k in range( 5-i +1 ): # *출력\n",
    "        print('+', sep='', end ='')\n",
    "    print()"
   ]
  },
  {
   "cell_type": "code",
   "execution_count": null,
   "metadata": {},
   "outputs": [],
   "source": []
  }
 ]
}