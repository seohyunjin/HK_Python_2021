{
 "metadata": {
  "language_info": {
   "codemirror_mode": {
    "name": "ipython",
    "version": 3
   },
   "file_extension": ".py",
   "mimetype": "text/x-python",
   "name": "python",
   "nbconvert_exporter": "python",
   "pygments_lexer": "ipython3",
   "version": "3.8.5"
  },
  "orig_nbformat": 2,
  "kernelspec": {
   "name": "python385jvsc74a57bd08c1eae21719a0790335dcb83aad72b63b602cfe5cdb2bda0f60bc11d4f154e4b",
   "display_name": "Python 3.8.5 64-bit ('base': conda)"
  }
 },
 "nbformat": 4,
 "nbformat_minor": 2,
 "cells": [
  {
   "source": [
    "# 반복문"
   ],
   "cell_type": "markdown",
   "metadata": {}
  },
  {
   "source": [
    "## for문\n",
    "### : 반복의 횟수가 정해져있는 경우!!!\n",
    "### for 변수 in sequence :\n",
    "### * sequence 자료형 : 리스트, 튜플, 문자열, range\n"
   ],
   "cell_type": "markdown",
   "metadata": {}
  },
  {
   "cell_type": "code",
   "execution_count": 1,
   "metadata": {},
   "outputs": [
    {
     "output_type": "stream",
     "name": "stdout",
     "text": [
      "Hello World.\nHello World.\nHello World.\nHello World.\nHello World.\n"
     ]
    }
   ],
   "source": [
    "for i in range(5): #i가 0,1,2,3,4 즉 5번\n",
    "    print( 'Hello World.')  "
   ]
  },
  {
   "cell_type": "code",
   "execution_count": 4,
   "metadata": {},
   "outputs": [
    {
     "output_type": "stream",
     "name": "stdout",
     "text": [
      "0\n1\n2\n3\n4\n"
     ]
    }
   ],
   "source": [
    "for i in range(5): #i가 0,1,2,3,4 즉 5번\n",
    "    print(i)  "
   ]
  },
  {
   "cell_type": "code",
   "execution_count": 9,
   "metadata": {},
   "outputs": [
    {
     "output_type": "stream",
     "name": "stdout",
     "text": [
      "1\n2\n3\n4\n5\n"
     ]
    }
   ],
   "source": [
    "# range(시작 숫자, 끝숫자 + 증가분, 증가분)\n",
    "# 1에서 5까지 출력\n",
    "for i in range(1,6): \n",
    "    print(i) "
   ]
  },
  {
   "cell_type": "code",
   "execution_count": 14,
   "metadata": {},
   "outputs": [
    {
     "output_type": "stream",
     "name": "stdout",
     "text": [
      "1\n3\n5\n7\n9\n"
     ]
    }
   ],
   "source": [
    "# 리스트 []\n",
    "for i in [1,3,5,7,9]:\n",
    "    print(i)"
   ]
  },
  {
   "cell_type": "code",
   "execution_count": 17,
   "metadata": {},
   "outputs": [
    {
     "output_type": "stream",
     "name": "stdout",
     "text": [
      "1\n3\n5\n7\n9\n"
     ]
    }
   ],
   "source": [
    "# 튜플 ()\n",
    "for i in (1,3,5,7,9):\n",
    "    print(i)"
   ]
  },
  {
   "cell_type": "code",
   "execution_count": 19,
   "metadata": {},
   "outputs": [
    {
     "output_type": "stream",
     "name": "stdout",
     "text": [
      "H\ne\nl\nl\no\n"
     ]
    }
   ],
   "source": [
    "# 문자열\n",
    "for char in 'Hello':\n",
    "    print(char)"
   ]
  },
  {
   "source": [
    "### - split() 문자열 나누기 함수"
   ],
   "cell_type": "markdown",
   "metadata": {}
  },
  {
   "cell_type": "code",
   "execution_count": 29,
   "metadata": {},
   "outputs": [
    {
     "output_type": "execute_result",
     "data": {
      "text/plain": [
       "['1.',\n",
       " 'If',\n",
       " 'you',\n",
       " 'do',\n",
       " 'not',\n",
       " 'walk',\n",
       " 'today,',\n",
       " 'you',\n",
       " 'will',\n",
       " 'have',\n",
       " 'to',\n",
       " 'run',\n",
       " 'tomorrow']"
      ]
     },
     "metadata": {},
     "execution_count": 29
    }
   ],
   "source": [
    "\"1._If_you_do_not_walk_today,_you_will_have_to_run_tomorrow\".split('_')  # 문자열 나눌때 ()안도 문자여야하므로 '' 같이 사용해 "
   ]
  },
  {
   "cell_type": "code",
   "execution_count": 27,
   "metadata": {},
   "outputs": [
    {
     "output_type": "execute_result",
     "data": {
      "text/plain": [
       "['I,LUV,U']"
      ]
     },
     "metadata": {},
     "execution_count": 27
    }
   ],
   "source": [
    "'I,LUV,U'.split() #못나눔\n"
   ]
  },
  {
   "cell_type": "code",
   "execution_count": 20,
   "metadata": {},
   "outputs": [
    {
     "output_type": "execute_result",
     "data": {
      "text/plain": [
       "['I', 'love', 'you']"
      ]
     },
     "metadata": {},
     "execution_count": 20
    }
   ],
   "source": [
    "'I love you'.split() # "
   ]
  },
  {
   "cell_type": "code",
   "execution_count": 21,
   "metadata": {},
   "outputs": [
    {
     "output_type": "stream",
     "name": "stdout",
     "text": [
      "I\nlove\nyou\n"
     ]
    }
   ],
   "source": [
    "for s in 'I love you'.split():\n",
    "    print(s)"
   ]
  },
  {
   "source": [
    "## 2) while 문  \n",
    "### : 몇번 반복할 지 모르는 경우 : input을 받아 계속 반복 시행할떄 , key를 입력하면 종료되게 설정하는 경우\n",
    "### - while 조건 : 조건이 변화되도록 하는 요건, loop를 빠져나가도록 하는 요건\n",
    "###      * while문의 실행문에 위 두 요건이 없으면 무한루프에 빠짐\n"
   ],
   "cell_type": "markdown",
   "metadata": {}
  },
  {
   "cell_type": "code",
   "execution_count": 32,
   "metadata": {},
   "outputs": [
    {
     "output_type": "stream",
     "name": "stdout",
     "text": [
      "1\n2\n3\n4\n5\n"
     ]
    }
   ],
   "source": [
    "# for i in range(6):\n",
    "#    print(i)\n",
    "\n",
    "i =1\n",
    "while i <6:\n",
    "    print(i)\n",
    "    i+=1"
   ]
  },
  {
   "source": [
    "\n",
    "## 반복문의 제어\n",
    "\n",
    "## break 문\n",
    "\n",
    "###:속해있는 for문만 탈출한다.\n"
   ],
   "cell_type": "markdown",
   "metadata": {}
  },
  {
   "cell_type": "code",
   "execution_count": 34,
   "metadata": {},
   "outputs": [
    {
     "output_type": "stream",
     "name": "stdout",
     "text": [
      "55\n"
     ]
    }
   ],
   "source": [
    "# 사용자가 숫자를 입력, 숫자가 나오면 계속 더하고, 0이 나오면 합계를 출력하는 프로그램\n",
    "\n",
    "sum=0\n",
    "while True:\n",
    "    num = int( input('숫자를 입력하시오'))\n",
    "    if num == 0:\n",
    "        break\n",
    "    sum += num\n",
    "print(sum)"
   ]
  },
  {
   "source": [
    "## continue 문\n",
    ": 특정조건에서 남은 명령을 건너띄고  다음 명령문을 실행한다."
   ],
   "cell_type": "markdown",
   "metadata": {}
  },
  {
   "cell_type": "code",
   "execution_count": 38,
   "metadata": {},
   "outputs": [
    {
     "output_type": "stream",
     "name": "stdout",
     "text": [
      "0\n1\n2\n4\n"
     ]
    }
   ],
   "source": [
    "for i in range(5):\n",
    "    if i == 3 :continue\n",
    "    print(i)"
   ]
  }
 ]
}