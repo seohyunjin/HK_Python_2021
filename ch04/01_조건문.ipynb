{
 "metadata": {
  "language_info": {
   "codemirror_mode": {
    "name": "ipython",
    "version": 3
   },
   "file_extension": ".py",
   "mimetype": "text/x-python",
   "name": "python",
   "nbconvert_exporter": "python",
   "pygments_lexer": "ipython3",
   "version": "3.8.5"
  },
  "orig_nbformat": 2,
  "kernelspec": {
   "name": "python385jvsc74a57bd08c1eae21719a0790335dcb83aad72b63b602cfe5cdb2bda0f60bc11d4f154e4b",
   "display_name": "Python 3.8.5 64-bit ('base': conda)"
  }
 },
 "nbformat": 4,
 "nbformat_minor": 2,
 "cells": [
  {
   "source": [
    "## 비교연산자"
   ],
   "cell_type": "markdown",
   "metadata": {}
  },
  {
   "cell_type": "code",
   "execution_count": 13,
   "metadata": {},
   "outputs": [
    {
     "output_type": "execute_result",
     "data": {
      "text/plain": [
       "True"
      ]
     },
     "metadata": {},
     "execution_count": 13
    }
   ],
   "source": [
    "# is 는 같은 메모리인지 물어보는 비교연산자임\n",
    "#250이하이므로 같은 메모리를 할당함\n",
    "a=200 \n",
    "b=200\n",
    "a is b"
   ]
  },
  {
   "cell_type": "code",
   "execution_count": 19,
   "metadata": {},
   "outputs": [
    {
     "output_type": "execute_result",
     "data": {
      "text/plain": [
       "True"
      ]
     },
     "metadata": {},
     "execution_count": 19
    }
   ],
   "source": [
    "#250초과이면 메모리를 달리 할당함\n",
    "c=300\n",
    "d=300\n",
    "c is d"
   ]
  },
  {
   "cell_type": "code",
   "execution_count": 23,
   "metadata": {},
   "outputs": [
    {
     "output_type": "stream",
     "name": "stdout",
     "text": [
      "***\n"
     ]
    }
   ],
   "source": [
    "print('***')"
   ]
  },
  {
   "source": [
    "# 조건문"
   ],
   "cell_type": "markdown",
   "metadata": {}
  },
  {
   "source": [
    "## 1 ) if 문"
   ],
   "cell_type": "markdown",
   "metadata": {}
  },
  {
   "cell_type": "code",
   "execution_count": 4,
   "metadata": {},
   "outputs": [
    {
     "output_type": "stream",
     "name": "stdout",
     "text": [
      "Welcome to the CLub\n"
     ]
    }
   ],
   "source": [
    "# 30보다 나이가 많으면 입장 불가 club 조건문\n",
    "age = int(input('Tell me your age'))\n",
    "if age < 30:\n",
    "    print('Welcome to the CLub')\n",
    "else:\n",
    "    print('You are not accepted')"
   ]
  },
  {
   "cell_type": "code",
   "execution_count": 5,
   "metadata": {},
   "outputs": [
    {
     "output_type": "stream",
     "name": "stdout",
     "text": [
      "You are not accepted\n"
     ]
    }
   ],
   "source": [
    "# 30보다 나이가 많고, 15보다 적으면 입장 불가 club 조건문\n",
    "age = int(input('Tell me your age'))\n",
    "if age >15 and age < 30:\n",
    "    print('Welcome to the CLub')\n",
    "else:\n",
    "    print('You are not accepted')"
   ]
  },
  {
   "cell_type": "code",
   "execution_count": 24,
   "metadata": {},
   "outputs": [
    {
     "output_type": "stream",
     "name": "stdout",
     "text": [
      "Welcome to the CLub\n"
     ]
    }
   ],
   "source": [
    "# 조건문의 실행문이 단일문일 경우 indentation 무시해도 무방\n",
    "age = int(input('Tell me your age'))\n",
    "if age >15 and age < 30: print('Welcome to the CLub')\n",
    "else: print('You are not accepted')"
   ]
  },
  {
   "cell_type": "code",
   "execution_count": null,
   "metadata": {},
   "outputs": [],
   "source": []
  },
  {
   "cell_type": "code",
   "execution_count": 26,
   "metadata": {},
   "outputs": [
    {
     "output_type": "stream",
     "name": "stdout",
     "text": [
      "Welcome to the CLub\n"
     ]
    }
   ],
   "source": [
    "# 파이썬 에서는 조건문의 and 연산을 의미할 경우, 한번에 부등호 처리가 가능하다.\n",
    "age = int(input('Tell me your age'))\n",
    "if 15< age < 30: print('Welcome to the CLub')\n",
    "else: print('You are not accepted')"
   ]
  },
  {
   "source": [
    "## 삼항연산자"
   ],
   "cell_type": "markdown",
   "metadata": {}
  },
  {
   "cell_type": "code",
   "execution_count": 27,
   "metadata": {},
   "outputs": [
    {
     "output_type": "stream",
     "name": "stdout",
     "text": [
      "Welcome to the Club\n"
     ]
    }
   ],
   "source": [
    "# 조건에 따라 변수값을 바꾸어 저장할때 삼항연산자를 이용하는 경우 : 변수 = 참일때 값 if 조건 else 거짓일때 값\n",
    "age = int(input('Tell me your age'))\n",
    "msg = 'Welcome to the Club' if 15< age < 30 else print('You are not accepted')\n",
    "print(msg)"
   ]
  },
  {
   "source": [
    "### - 조건의 판단"
   ],
   "cell_type": "markdown",
   "metadata": {}
  },
  {
   "cell_type": "code",
   "execution_count": 28,
   "metadata": {},
   "outputs": [
    {
     "output_type": "execute_result",
     "data": {
      "text/plain": [
       "True"
      ]
     },
     "metadata": {},
     "execution_count": 28
    }
   ],
   "source": [
    " # or은 앞에 있는 값이 true면 뒤는 계산하지 않음\n",
    " 3 == 3 or 99998 # 3==3이므로  true를 반환한다."
   ]
  },
  {
   "cell_type": "code",
   "execution_count": 30,
   "metadata": {},
   "outputs": [
    {
     "output_type": "execute_result",
     "data": {
      "text/plain": [
       "99998"
      ]
     },
     "metadata": {},
     "execution_count": 30
    }
   ],
   "source": [
    "  # or은 앞에 있는 값이 flase면 뒤의 값을 집어 넣는다. ( or연산의 값은 무조건 or이후의 값을 대입 )\n",
    "  3 == 4 or 99998 # 3 != 4이므로  false이다. 이떄는 false를 반환하지 않고 or 연산에 의해 이후값을 대입한다. "
   ]
  },
  {
   "source": [
    "## 2) if - elif - else 문"
   ],
   "cell_type": "markdown",
   "metadata": {}
  },
  {
   "cell_type": "code",
   "execution_count": 36,
   "metadata": {},
   "outputs": [
    {
     "output_type": "stream",
     "name": "stdout",
     "text": [
      "D\n"
     ]
    }
   ],
   "source": [
    "score =98\n",
    "if score >= 90:\n",
    "    grade ='A'\n",
    "if score >= 80:\n",
    "    grade ='B'\n",
    "if score >= 70:\n",
    "    grade ='C'\n",
    "if score >= 60:\n",
    "    grade ='D'\n",
    "if score < 60:\n",
    "    grade ='F'\n",
    "\n",
    "print(grade)\n",
    "#범위를잘못 잡았으므로 잘못된 결과가 나옴"
   ]
  },
  {
   "cell_type": "code",
   "execution_count": 37,
   "metadata": {},
   "outputs": [
    {
     "output_type": "stream",
     "name": "stdout",
     "text": [
      "A\n"
     ]
    }
   ],
   "source": [
    "# 해결책1) 범위를 줄어드는 방향으로 작성하기\n",
    "score =98\n",
    "if score < 60:\n",
    "    grade ='F'\n",
    "if score >= 60:\n",
    "    grade ='D'\n",
    "if score >= 70:\n",
    "    grade ='C'\n",
    "if score >= 80:\n",
    "    grade ='B'\n",
    "if score >= 90:\n",
    "    grade ='A'\n",
    "\n",
    "print(grade) \n",
    "# 제대로 된 결과가 나옴"
   ]
  },
  {
   "cell_type": "code",
   "execution_count": 38,
   "metadata": {},
   "outputs": [
    {
     "output_type": "stream",
     "name": "stdout",
     "text": [
      "A\n"
     ]
    }
   ],
   "source": [
    "# 해결책2)  if- elif-else 문 이용\n",
    "score =98\n",
    "if score >= 90:\n",
    "    grade ='A'\n",
    "elif score >= 80:\n",
    "    grade ='B'\n",
    "elif score >= 70:\n",
    "    grade ='C'\n",
    "elif score >= 60:\n",
    "    grade ='D'\n",
    "else: \n",
    "    grade ='F'\n",
    "\n",
    "print(grade) "
   ]
  },
  {
   "cell_type": "code",
   "execution_count": 57,
   "metadata": {},
   "outputs": [
    {
     "output_type": "stream",
     "name": "stdout",
     "text": [
      "C\n"
     ]
    }
   ],
   "source": [
    "# 해결책3) 삼항연산자 이용\n",
    "score =78\n",
    "\n",
    "grade = 'A' if score >= 90 else \\\n",
    "            'B' if score >= 80 else \\\n",
    "                'C' if score >= 70 else \\\n",
    "                     'D' if score >= 60 else'F' \n",
    "print(grade)\n",
    "# 코드 가독성을 위해 다음줄로 넘기려면 \\ backslash이용용"
   ]
  },
  {
   "source": [
    "## 3) if 응용"
   ],
   "cell_type": "markdown",
   "metadata": {}
  },
  {
   "cell_type": "code",
   "execution_count": 58,
   "metadata": {},
   "outputs": [
    {
     "output_type": "execute_result",
     "data": {
      "text/plain": [
       "datetime.date(2021, 5, 24)"
      ]
     },
     "metadata": {},
     "execution_count": 58
    }
   ],
   "source": [
    "from datetime import date #date 모듈의 datetime이라는 함수를 가져와 쓰겠음\n",
    "date.today()  #오늘의 날짜 알려줘"
   ]
  },
  {
   "cell_type": "code",
   "execution_count": 59,
   "metadata": {},
   "outputs": [
    {
     "output_type": "execute_result",
     "data": {
      "text/plain": [
       "(2021, 5, 24)"
      ]
     },
     "metadata": {},
     "execution_count": 59
    }
   ],
   "source": [
    "today = date.today()\n",
    "today.year, today.month, today.day"
   ]
  },
  {
   "cell_type": "code",
   "execution_count": 61,
   "metadata": {},
   "outputs": [
    {
     "output_type": "stream",
     "name": "stdout",
     "text": [
      "대학생\n"
     ]
    }
   ],
   "source": [
    "birth_year = int(input('태어난 연도를 입력하세요'))\n",
    "age = today.year - birth_year +1\n",
    "\n",
    "if 20 <= age <= 26 : print('대학생')\n",
    "elif 17 <= age < 20 : print('고등학생')\n",
    "elif 14 <= age < 17 : print('고등학생')\n",
    "elif 8 <= age < 14 : print('고등학생')\n",
    "else: print('학생이 아님')\n"
   ]
  },
  {
   "source": [
    "### QUIZ"
   ],
   "cell_type": "markdown",
   "metadata": {}
  },
  {
   "cell_type": "code",
   "execution_count": 75,
   "metadata": {},
   "outputs": [
    {
     "output_type": "stream",
     "name": "stdout",
     "text": [
      "1\n2\nFizz\n4\nBuzz\nFizz\n7\n8\nFizz\nBuzz\n11\nFizz\n13\n14\nFizzBuzz\n16\n17\nFizz\n19\nBuzz\nFizz\n22\n23\nFizz\nBuzz\n26\nFizz\n28\n29\nFizzBuzz\n31\n32\nFizz\n34\nBuzz\nFizz\n37\n38\nFizz\nBuzz\n41\nFizz\n43\n44\nFizzBuzz\n46\n47\nFizz\n49\nBuzz\nFizz\n52\n53\nFizz\nBuzz\n56\nFizz\n58\n59\nFizzBuzz\n61\n62\nFizz\n64\nBuzz\nFizz\n67\n68\nFizz\nBuzz\n71\nFizz\n73\n74\nFizzBuzz\n76\n77\nFizz\n79\nBuzz\nFizz\n82\n83\nFizz\nBuzz\n86\nFizz\n88\n89\nFizzBuzz\n91\n92\nFizz\n94\nBuzz\nFizz\n97\n98\nFizz\nBuzz\n"
     ]
    }
   ],
   "source": [
    "# FIZZBUZZ문제 1~100까지 숫자중 3의 배수는 FIZZZ 5의 배수는 BUZZ 15의 배수는 FIZZBUZZ 나머지는 숫자 출력\n",
    "\n",
    "# i = int(input('숫자 입력')) #연습\n",
    "for i in range(1,101):\n",
    "    if i%3==0 and i%5 ==0 : print('FizzBuzz')\n",
    "    elif i %3 ==0 : print('Fizz')\n",
    "    elif i %5 ==0 : print('Buzz')\n",
    "    else : print(i)\n",
    "\n"
   ]
  },
  {
   "cell_type": "code",
   "execution_count": 77,
   "metadata": {},
   "outputs": [
    {
     "output_type": "stream",
     "name": "stdout",
     "text": [
      "1\n2\nFIZZ\n4\nBuzz\nFIZZ\n7\n8\nFIZZ\nBuzz\n11\nFIZZ\n13\n14\nFIZZBuzz\n16\n17\nFIZZ\n19\nBuzz\nFIZZ\n22\n23\nFIZZ\nBuzz\n26\nFIZZ\n28\n29\nFIZZBuzz\n31\n32\nFIZZ\n34\nBuzz\nFIZZ\n37\n38\nFIZZ\nBuzz\n41\nFIZZ\n43\n44\nFIZZBuzz\n46\n47\nFIZZ\n49\nBuzz\nFIZZ\n52\n53\nFIZZ\nBuzz\n56\nFIZZ\n58\n59\nFIZZBuzz\n61\n62\nFIZZ\n64\nBuzz\nFIZZ\n67\n68\nFIZZ\nBuzz\n71\nFIZZ\n73\n74\nFIZZBuzz\n76\n77\nFIZZ\n79\nBuzz\nFIZZ\n82\n83\nFIZZ\nBuzz\n86\nFIZZ\n88\n89\nFIZZBuzz\n91\n92\nFIZZ\n94\nBuzz\nFIZZ\n97\n98\nFIZZ\nBuzz\n"
     ]
    }
   ],
   "source": [
    "# 파이썬에서는 위 코드를 한줄로 짤 수 있음\n",
    "for i in range(1,101):\n",
    "    print( 'FIZZ'*(i%3==0) + 'Buzz'*(i%5==0) or i )"
   ]
  }
 ]
}