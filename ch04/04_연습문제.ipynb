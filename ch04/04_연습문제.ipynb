{
 "metadata": {
  "language_info": {
   "codemirror_mode": {
    "name": "ipython",
    "version": 3
   },
   "file_extension": ".py",
   "mimetype": "text/x-python",
   "name": "python",
   "nbconvert_exporter": "python",
   "pygments_lexer": "ipython3",
   "version": "3.8.5"
  },
  "orig_nbformat": 2,
  "kernelspec": {
   "name": "python385jvsc74a57bd08c1eae21719a0790335dcb83aad72b63b602cfe5cdb2bda0f60bc11d4f154e4b",
   "display_name": "Python 3.8.5 64-bit ('base': conda)"
  }
 },
 "nbformat": 4,
 "nbformat_minor": 2,
 "cells": [
  {
   "source": [
    "### 0524 과제"
   ],
   "cell_type": "markdown",
   "metadata": {}
  },
  {
   "source": [
    "# 1. 조건문"
   ],
   "cell_type": "markdown",
   "metadata": {}
  },
  {
   "source": [
    "## 1. 윤년 계산기\n",
    "### 연도를 입력으로 받아 윤년인지 아닌지를 출력하는 프로그램을 작성하시오.\n",
    "### 윤년은 연도가 4의 배수이면서, 100의 배수가 아닐 때 또는 400의 배수일 때이다."
   ],
   "cell_type": "markdown",
   "metadata": {}
  },
  {
   "cell_type": "code",
   "execution_count": 5,
   "metadata": {},
   "outputs": [
    {
     "output_type": "stream",
     "name": "stdout",
     "text": [
      "1997년은 윤년이 아닙니다.\n"
     ]
    }
   ],
   "source": [
    "# 1) 연도를 입력받아 윤년을 파악하는 프로그램을 작성하시오\n",
    "# 윤년 = 4의 배수이면서 100의 배수가 아닐때. / 400의 배수일때\n",
    "\n",
    "leap_year = int(input('연도를 입력하세요.'))\n",
    "if (leap_year // 4 == 0) and (leap_year % 100 != 0):\n",
    "    print(f'{ieap_year}년은 윤년입니다.')\n",
    "elif (leap_year % 400 == 0 ):\n",
    "    print(f'{leap_year}년은 윤년입니다.')\n",
    "else :\n",
    "    print(f'{leap_year}년은 윤년이 아닙니다.')\n",
    "\n"
   ]
  },
  {
   "source": [
    "## 2.만나이 계산기\n",
    "### 본인의 생일을 1998 12 15 과 같이 년 월 일로 입력받아 오늘 날짜의 만 나이를 구하는 프로그램을 작성하시오."
   ],
   "cell_type": "markdown",
   "metadata": {}
  },
  {
   "cell_type": "code",
   "execution_count": 6,
   "metadata": {},
   "outputs": [
    {
     "output_type": "stream",
     "name": "stdout",
     "text": [
      "당신의 만나이는 24입니다.\n"
     ]
    }
   ],
   "source": [
    "# 2) 본인의 생일을 입력받아, 오늘날짜의 만나이를 구하는 프로그램을 작성하시오\n",
    "from datetime import date\n",
    "today = date.today()\n",
    "today.year, today.month, today.day\n",
    "\n",
    "birth = input('본인의 생일을 입력하시오.').split()\n",
    "birth_year = int(birth[0])\n",
    "birth_month = int(birth[1])\n",
    "birth_day = int(birth[2])\n",
    "\n",
    "# 만나이: 생일(포함)지나면 연도-출생년도 / 안지나면 연도-출생년도-1\n",
    "if today.month >= birth_month and today.day >= birth_day : \n",
    "    age =  today.year - birth_year\n",
    "    print(f'당신의 만나이는 {age}입니다.')\n",
    "else:\n",
    "    age =  today.year - birth_year - 1\n",
    "    print(f'당신의 만나이는 {age}입니다.')\n"
   ]
  },
  {
   "source": [
    "## 3.  a + b + c = 1000 인 피타고라스 수를 구하시오.\n",
    "### 세 자연수 a, b, c 가 피타고라스 정리 a^2 + b^2 = c^2 를 만족하면 피타고라스 수라고 부른다. \n",
    "### (여기서 a < b < c 이고 a + b > c)"
   ],
   "cell_type": "markdown",
   "metadata": {}
  },
  {
   "cell_type": "code",
   "execution_count": 7,
   "metadata": {},
   "outputs": [
    {
     "output_type": "stream",
     "name": "stdout",
     "text": [
      "200 375 425\n"
     ]
    }
   ],
   "source": [
    "# 3) 피타고라스의 정리, a + b +c 가1000인 피타고라스 수를 구하시오.\n",
    "# a,b,c 는 자연수이므로 적어도 1보다 같거나 크다.\n",
    "for a in range(1,1000):\n",
    "    for b in range(1,1000):\n",
    "        if a <= b:\n",
    "            c = 1000 -(a +b)\n",
    "            if c**2 == a**2 + b**2 :\n",
    "                print(a,b,c)\n",
    "\n",
    "             "
   ]
  },
  {
   "source": [
    "# 2. 반복문"
   ],
   "cell_type": "markdown",
   "metadata": {}
  },
  {
   "source": [
    "## 1. 별그리기\n",
    "### 5이상 9이하의 홀수를 입력받아 다이아몬드 형태의 별을 출력하는 프로그램"
   ],
   "cell_type": "markdown",
   "metadata": {}
  },
  {
   "cell_type": "code",
   "execution_count": 8,
   "metadata": {},
   "outputs": [
    {
     "output_type": "stream",
     "name": "stdout",
     "text": [
      "   *\n  ***\n *****\n*******\n *****\n  ***\n   *\n"
     ]
    }
   ],
   "source": [
    "# 1) 별그리기 다이아몬드 \n",
    "num = int(input('5이상 9이하의 홀수를 입력하시오.'))\n",
    "if num < 5 or num > 9 and num % 2 == 0:\n",
    "    print('재입력하시오(5이상 9이하의 홀수)')\n",
    "else:\n",
    "    for i in range(1, num +1):\n",
    "        if i <= num // 2 + 1:\n",
    "            print(' ' * (num // 2 + 1 - i ) + '*' * (2 * i - 1) )\n",
    "        else :\n",
    "            print(' '* (i-( num //2 + 1 ) ) + '*' * (2 * (num + 1 - i) - 1 ))\n"
   ]
  },
  {
   "source": [
    "## 2. sec 계산기 \n",
    "### 디지털 시계에 하루동안(00:00~23:59) 3이 표시되는 시간을 초(60초단위)로 환산하면 총 몇 초(second) 일까요?"
   ],
   "cell_type": "markdown",
   "metadata": {}
  },
  {
   "cell_type": "code",
   "execution_count": 9,
   "metadata": {},
   "outputs": [
    {
     "output_type": "stream",
     "name": "stdout",
     "text": [
      "29700\n"
     ]
    }
   ],
   "source": [
    "# 2) 디지털 시계에 하루동안 3이 표시되는 시간을 초로 환산\n",
    "# 3으로 표시 되는 시간 minute % 10 == 3\n",
    "sum_sec=0\n",
    "for hour in range(0,24):\n",
    "    for minute in range(0,60):\n",
    "        if hour % 10 == 3 :\n",
    "            sum_sec = sum_sec + 60 \n",
    "        else: \n",
    "            if 30<= minute <=39  or minute % 10 == 3 :\n",
    "                sum_sec = sum_sec + 60 \n",
    "print(sum_sec)"
   ]
  },
  {
   "source": [
    "## 3. 숫자의 개수 구하기\n",
    "### 1~1000에서 각 숫자의 개수를 구하시오"
   ],
   "cell_type": "markdown",
   "metadata": {}
  },
  {
   "cell_type": "code",
   "execution_count": 10,
   "metadata": {},
   "outputs": [
    {
     "output_type": "stream",
     "name": "stdout",
     "text": [
      "[192, 301, 300, 300, 300, 300, 300, 300, 300, 300]\n"
     ]
    }
   ],
   "source": [
    "counts = [0,0,0,0,0,0,0,0,0,0]\n",
    "\n",
    "for i in range(1,1001):\n",
    "    for k in range(0,10):\n",
    "        if str(k) in str(i):\n",
    "            counts[k] += str(i).count(str(k))\n",
    "print(counts)"
   ]
  },
  {
   "source": [
    "## 4. 완전수 구하기\n",
    "### 자기 자신을 제외한 모든 양의 약수들의 합이 자기 자신이 되는 자연수를 완전수라고 한다.\n",
    "### 입력으로 자연수 N을 받고, 출력으로 N 이하의 모든 완전수를 출력하는 코드를 작성하시오"
   ],
   "cell_type": "markdown",
   "metadata": {}
  },
  {
   "cell_type": "code",
   "execution_count": 11,
   "metadata": {},
   "outputs": [
    {
     "output_type": "stream",
     "name": "stdout",
     "text": [
      "6\n",
      "28\n",
      "496\n",
      "8128\n"
     ]
    }
   ],
   "source": [
    "# 4) 완전수 = 자기자신을 제외한 모든 양의 약수들의 합이 자기자신\n",
    "\n",
    "N = 10000\n",
    "for n in range(1,N+1) :\n",
    "    sum_i = 0\n",
    "    for i in range(1,n):\n",
    "        if n % i == 0 :\n",
    "            sum_i = sum_i + i\n",
    "    if sum_i == n : print(n)"
   ]
  },
  {
   "source": [
    "## 5. 제곱의 합 - 합의 제곱\n",
    "### 입력으로 자연수 N을 받아, 1부터 N까지 자연수에 대해 \"합의 제곱\"과 \"제곱의 합\"의 차이는 얼마인가?"
   ],
   "cell_type": "markdown",
   "metadata": {}
  },
  {
   "cell_type": "code",
   "execution_count": 13,
   "metadata": {},
   "outputs": [
    {
     "output_type": "stream",
     "name": "stdout",
     "text": [
      "1부터 10까지 자연수에 대해 합의 제곱(3025)과 제곱의 합(385)의 차이는 2640이다.\n"
     ]
    }
   ],
   "source": [
    "# 5) 제곱의 합과 합의 제곱 차\n",
    "number = int(input(\"자연수를 입력하시오.\"))\n",
    "\n",
    "sum = 0\n",
    "for p in range(number+1):\n",
    "    sum += p\n",
    "square_of_sum = sum ** 2 # 합의 제곱\n",
    "\n",
    "sum_of_square = 0\n",
    "for q in range(number+1):\n",
    "    sum_of_square = sum_of_square + q**2 # 제곱의 합\n",
    "\n",
    "print(f'1부터 {number}까지 자연수에 대해 합의 제곱({square_of_sum})과 '\n",
    "      f'제곱의 합({sum_of_square})의 차이는 {square_of_sum - sum_of_square}이다.')"
   ]
  }
 ]
}