{
 "metadata": {
  "language_info": {
   "codemirror_mode": {
    "name": "ipython",
    "version": 3
   },
   "file_extension": ".py",
   "mimetype": "text/x-python",
   "name": "python",
   "nbconvert_exporter": "python",
   "pygments_lexer": "ipython3",
   "version": "3.8.5"
  },
  "orig_nbformat": 2,
  "kernelspec": {
   "name": "python385jvsc74a57bd08c1eae21719a0790335dcb83aad72b63b602cfe5cdb2bda0f60bc11d4f154e4b",
   "display_name": "Python 3.8.5 64-bit ('base': conda)"
  }
 },
 "nbformat": 4,
 "nbformat_minor": 2,
 "cells": [
  {
   "source": [
    "# 1. 조건문"
   ],
   "cell_type": "markdown",
   "metadata": {}
  },
  {
   "cell_type": "code",
   "execution_count": 7,
   "metadata": {},
   "outputs": [
    {
     "output_type": "stream",
     "name": "stdout",
     "text": [
      "윤년입니다.\n"
     ]
    }
   ],
   "source": [
    "# 1) 연도를 입력받아 윤년을 파악하는 프로그램을 작성하시오\n",
    "# 윤년 = 4의 배수이면서 100의 배수가 아닐때. / 400의 배수일때\n",
    "\n",
    "ieap_year = int(input('연도를 입력하세요.'))\n",
    "if (leap_year // 4 == 0) and (leap_year % 100 != 0):\n",
    "    print('윤년입니다.')\n",
    "elif (leap_year % 400 == 0 ):\n",
    "    print('윤년입니다.')\n",
    "else :\n",
    "    print('윤년이 아닙니다.')\n",
    "\n"
   ]
  },
  {
   "cell_type": "code",
   "execution_count": 23,
   "metadata": {},
   "outputs": [
    {
     "output_type": "stream",
     "name": "stdout",
     "text": [
      "당신의 만나이는 23입니다.\n"
     ]
    }
   ],
   "source": [
    "# 2) 본인의 생일을 입력받아, 오늘날짜의 만나이를 구하는 프로그램을 작성하시오\n",
    "from datetime import date\n",
    "today = date.today()\n",
    "today.year, today.month, today.day\n",
    "\n",
    "birth = input('본인의 생일을 입력하시오.').split()\n",
    "birth_year = int(birth[0])\n",
    "birth_month = int(birth[1])\n",
    "birth_day = int(birth[2])\n",
    "\n",
    "# 만나이: 생일(포함)지나면 연도-출생년도 / 안지나면 연도-출생년도-1\n",
    "if today.month >= birth_month and today.day >= birth_day : \n",
    "    age =  today.year - birth_year\n",
    "    print(f'당신의 만나이는 {age}입니다.')\n",
    "else:\n",
    "    age =  today.year - birth_year - 1\n",
    "    print(f'당신의 만나이는 {age}입니다.')\n"
   ]
  },
  {
   "cell_type": "code",
   "execution_count": 16,
   "metadata": {},
   "outputs": [
    {
     "output_type": "stream",
     "name": "stdout",
     "text": [
      "200 375 425\n"
     ]
    }
   ],
   "source": [
    "# 3) 피타고라스의 정리, a + b +c 가1000인 피타고라스 수를 구하시오.\n",
    "# a,b,c 는 자연수이므로 적어도 1보다 같거나 크다.\n",
    "for a in range(1,1000):\n",
    "    for b in range(1,1000):\n",
    "        if a <= b:\n",
    "            c = 1000 -(a +b)\n",
    "            if c**2 == a**2 + b**2 :\n",
    "                print(a,b,c)\n",
    "\n",
    "             "
   ]
  },
  {
   "source": [
    "# 2. 반복문"
   ],
   "cell_type": "markdown",
   "metadata": {}
  },
  {
   "cell_type": "code",
   "execution_count": 35,
   "metadata": {},
   "outputs": [
    {
     "output_type": "stream",
     "name": "stdout",
     "text": [
      "    \n   *\n  ***\n *****\n*******\n   ********\n    *******\n     ******\n"
     ]
    }
   ],
   "source": [
    "# 1) 별그리기 다이아몬드 \n",
    "# num = int(input('5이상 9이하의 홀수를 입력하시오.'))\n",
    "num =7\n",
    "for i in range( num//2 +1 ):\n",
    "    print( ' ' * ( num//2 -i +1 ) + '*' * (2*i -1) )\n",
    "print('*'* num)\n",
    "for i in range(num//2):\n",
    "    print(' '* (num -( num//2 -i +1 ) ) +  '*' * (num-i + 1) ) \n",
    "    #print(' '*(num-(i*2-1)) + '*'*(i*2-1) + ' '*(num-(i*2-1)) ) "
   ]
  },
  {
   "cell_type": "code",
   "execution_count": 72,
   "metadata": {},
   "outputs": [
    {
     "output_type": "stream",
     "name": "stdout",
     "text": [
      "    *\n   ***\n  *****\n *******\n"
     ]
    }
   ],
   "source": [
    "# 1) 별그리기 다이아몬드 \n",
    "# num = int(input('5이상 9이하의 홀수를 입력하시오.'))\n",
    "num =7\n",
    "for i in range( num):\n",
    "    if i <= num // 2 :\n",
    "        print( ' ' * ( (num//2+1) -i ) + '*' * (2*i +1) )\n",
    "    #else:\n",
    "      #  print(' ' * (num//2 -1) + '*'*() )\n",
    "\n",
    "    \n",
    "    #for i in range(num//2):\n",
    " #   print(' '* (num -( num//2 -i +1 ) ) +  '*' * (num-i + 1) ) \n",
    "    #print(' '*(num-(i*2-1)) + '*'*(i*2-1) + ' '*(num-(i*2-1)) ) "
   ]
  },
  {
   "cell_type": "code",
   "execution_count": 31,
   "metadata": {},
   "outputs": [
    {
     "output_type": "stream",
     "name": "stdout",
     "text": [
      "30780\n"
     ]
    }
   ],
   "source": [
    "# 2) 디지털 시계에 하루동안 3이 표시되는 시간을 초로 환산\n",
    "# 3으로 표시 되는 시간 minute % 10 == 3\n",
    "sum_sec=0\n",
    "for hour in range(0,25):\n",
    "    for minute in range(0,61):\n",
    "        if hour % 10 == 3 :\n",
    "            sum_sec = sum_sec + 60 \n",
    "        else: \n",
    "            if 30<= minute <=39  or minute % 10 == 3 :\n",
    "                sum_sec = sum_sec + 60 \n",
    "print(sum_sec)"
   ]
  },
  {
   "cell_type": "code",
   "execution_count": null,
   "metadata": {},
   "outputs": [],
   "source": [
    "# 3)1 ~1000 각 숫자의 개수를 구하시오 \n",
    "for i in range(1001):\n"
   ]
  },
  {
   "cell_type": "code",
   "execution_count": 45,
   "metadata": {},
   "outputs": [
    {
     "output_type": "stream",
     "name": "stdout",
     "text": [
      "[109, 110, 110, 110, 110, 110, 110, 110, 110, 110]\n"
     ]
    }
   ],
   "source": [
    "counts = [0,0,0,0,0,0,0,0,0,0]\n",
    "for i in range(1,1001):\n",
    "     for k in range(0,10):\n",
    "        if i // 10 == k :\n",
    "            counts[k] =counts[k] +1\n",
    "        if i % 10 == k:\n",
    "            counts[k] = counts[k] +1\n",
    "print(counts)"
   ]
  },
  {
   "cell_type": "code",
   "execution_count": 47,
   "metadata": {},
   "outputs": [
    {
     "output_type": "execute_result",
     "data": {
      "text/plain": [
       "10"
      ]
     },
     "metadata": {},
     "execution_count": 47
    }
   ],
   "source": [
    "100 // 10"
   ]
  },
  {
   "cell_type": "code",
   "execution_count": 63,
   "metadata": {},
   "outputs": [
    {
     "output_type": "stream",
     "name": "stdout",
     "text": [
      "[1099, 211, 210, 210, 210, 210, 210, 210, 210, 210]\n"
     ]
    }
   ],
   "source": [
    "counts = [0,0,0,0,0,0,0,0,0,0]\n",
    "for i in range(1,1001):\n",
    "     for k in range(0,10):\n",
    "        if i // 1000 == k :\n",
    "            counts[k] = counts[k] +1\n",
    "        elif i // 100 == k :\n",
    "            counts[k] = counts[k] +1\n",
    "        elif i // 10 == k :\n",
    "            counts[k] = counts[k] +1\n",
    "        if i % 10 == k:\n",
    "            counts[k] = counts[k] +1\n",
    "print(counts)"
   ]
  },
  {
   "cell_type": "code",
   "execution_count": 55,
   "metadata": {},
   "outputs": [
    {
     "output_type": "execute_result",
     "data": {
      "text/plain": [
       "6"
      ]
     },
     "metadata": {},
     "execution_count": 55
    }
   ],
   "source": [
    " 645 // 100"
   ]
  },
  {
   "cell_type": "code",
   "execution_count": 67,
   "metadata": {},
   "outputs": [
    {
     "output_type": "stream",
     "name": "stdout",
     "text": [
      "[6, 6, 1, 1, 1, 1, 0, 0, 0, 0]\n"
     ]
    }
   ],
   "source": [
    "counts = [0,0,0,0,0,0,0,0,0,0]\n",
    "for i in range(10,16):\n",
    "     for k in range(0,10):\n",
    "        if i // 1000 == k :\n",
    "            counts[k] = counts[k] +1\n",
    "        elif i // 100 == k :\n",
    "            counts[k] = counts[k] +1\n",
    "        elif i // 10 == k :\n",
    "            counts[k] = counts[k] +1\n",
    "        elif i % 10 == k:\n",
    "            counts[k] = counts[k] +1\n",
    "print(counts)"
   ]
  },
  {
   "cell_type": "code",
   "execution_count": 81,
   "metadata": {},
   "outputs": [
    {
     "output_type": "stream",
     "name": "stdout",
     "text": [
      "[0, 6, 0, 0, 0, 0, 0, 0, 0, 0]\n"
     ]
    }
   ],
   "source": [
    "counts = [0,0,0,0,0,0,0,0,0,0]\n",
    "for i in range(100,106):\n",
    "     for k in range(0,10):\n",
    "        if i // 100 == k :\n",
    "            counts[k] = counts[k] +1\n",
    "       # elif i // 10 == k :\n",
    "           # print(k)\n",
    "           # counts[k] = counts[k] +1\n",
    "#        elif i // 1000 == k :\n",
    " #           counts[k] = counts[k] +1\n",
    "      #  if i % 10 == k:\n",
    "       #     counts[k] = counts[k] +1\n",
    "print(counts)"
   ]
  },
  {
   "cell_type": "code",
   "execution_count": 2,
   "metadata": {},
   "outputs": [],
   "source": [
    "#re 4 )완전수 = 자기자신을 제외한 모든 양의 약수들의 합이 자기자신\n",
    "# re\n",
    "N = int(input('자연수를 입력하시오'))\n",
    "sum_i =0\n",
    "for n in range(1,N+1,1) :\n",
    "    for i in range(1,10):\n",
    "        if n % i == 0 and i != n:\n",
    "            sum_i = sum_i + i \n",
    "    if sum_i == n :\n",
    "        print(n) \n",
    "        "
   ]
  },
  {
   "cell_type": "code",
   "execution_count": 25,
   "metadata": {},
   "outputs": [],
   "source": [
    "N = int(input('자연수를 입력하시오'))\n",
    "sum_i =0\n",
    "for n in range(1,N+1) :\n",
    "    for i in range(1,10):\n",
    "           if n % i == 0 and i != n :\n",
    "               sum_i = sum_i + i\n",
    "        \n",
    "    if sum_i == n :\n",
    "        print(n) \n",
    "        "
   ]
  },
  {
   "cell_type": "code",
   "execution_count": 16,
   "metadata": {},
   "outputs": [
    {
     "output_type": "execute_result",
     "data": {
      "text/plain": [
       "0"
      ]
     },
     "metadata": {},
     "execution_count": 16
    }
   ],
   "source": [
    "6 % 3"
   ]
  },
  {
   "cell_type": "code",
   "execution_count": 18,
   "metadata": {},
   "outputs": [
    {
     "output_type": "stream",
     "name": "stdout",
     "text": [
      "1\n2\n3\n4\n5\n6\n7\n8\n9\n"
     ]
    }
   ],
   "source": [
    "for i in range(1,10):\n",
    "    print(i) "
   ]
  },
  {
   "cell_type": "code",
   "execution_count": null,
   "metadata": {},
   "outputs": [],
   "source": [
    "######################################re\n",
    "# 1 , 3, 4,5"
   ]
  }
 ]
}