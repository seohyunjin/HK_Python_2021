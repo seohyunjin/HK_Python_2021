{
 "metadata": {
  "language_info": {
   "codemirror_mode": {
    "name": "ipython",
    "version": 3
   },
   "file_extension": ".py",
   "mimetype": "text/x-python",
   "name": "python",
   "nbconvert_exporter": "python",
   "pygments_lexer": "ipython3",
   "version": "3.8.5"
  },
  "orig_nbformat": 2,
  "kernelspec": {
   "name": "python385jvsc74a57bd08c1eae21719a0790335dcb83aad72b63b602cfe5cdb2bda0f60bc11d4f154e4b",
   "display_name": "Python 3.8.5 64-bit ('base': conda)"
  }
 },
 "nbformat": 4,
 "nbformat_minor": 2,
 "cells": [
  {
   "source": [
    "### 1. 윤년 계산기"
   ],
   "cell_type": "markdown",
   "metadata": {}
  },
  {
   "cell_type": "code",
   "execution_count": 1,
   "metadata": {},
   "outputs": [
    {
     "output_type": "stream",
     "name": "stdout",
     "text": [
      "1997년은 윤년이 아닙니다.\n"
     ]
    }
   ],
   "source": [
    "# leap year = 윤년\n",
    "year = int(input('연도를 입력하세요.')) \n",
    "if (year // 4 == 0 and leap_year % 100 != 0) or (year % 400 == 0 ):\n",
    "    print(f'{year}년은 윤년입니다.')\n",
    "else :\n",
    "    print(f'{year}년은 윤년이 아닙니다.')"
   ]
  },
  {
   "source": [
    "### 2. 만나이 계산기"
   ],
   "cell_type": "markdown",
   "metadata": {}
  },
  {
   "cell_type": "code",
   "execution_count": 25,
   "metadata": {},
   "outputs": [
    {
     "output_type": "stream",
     "name": "stdout",
     "text": [
      "당신의 만나이는 24입니다.\n"
     ]
    }
   ],
   "source": [
    "from datetime import date\n",
    "today = date.today()\n",
    "today.year, today.month, today.day\n",
    "\n",
    "year,month, day = map(int, input('본인의 생일을 입력하시오.').split() )\n",
    "\n",
    "# 만나이: 생일(포함)지나면 연도-출생년도 / 안지나면 연도-출생년도-1\n",
    "if today.month >= month : \n",
    "    age =  today.year - year\n",
    "elif today.month < month : \n",
    "    age =  today.year - year - 1\n",
    "else:\n",
    "    age =  today.year - year - 1\n",
    "print(f'당신의 만나이는 {age}입니다.')"
   ]
  },
  {
   "source": [
    "### 3. a + b + c = 1000 인 피타고라스 수"
   ],
   "cell_type": "markdown",
   "metadata": {}
  },
  {
   "cell_type": "code",
   "execution_count": 3,
   "metadata": {},
   "outputs": [
    {
     "output_type": "stream",
     "name": "stdout",
     "text": [
      "200.375.425\n"
     ]
    }
   ],
   "source": [
    "for a in range(1, 333): # 루핀 도는 횟수를 조절하는 것이 좋음 \n",
    "    for b in range(a+1, 500):  \n",
    "        c = 1000 - a - b\n",
    "        if c > ( b + a ): #삼각형이 될 수 없어서\n",
    "            continue\n",
    "        if c*c ==a*a +b*b :\n",
    "            print(f'{a}.{b}.{c}')\n",
    "            break"
   ]
  },
  {
   "source": [
    "### 1. 별그리기"
   ],
   "cell_type": "markdown",
   "metadata": {}
  },
  {
   "cell_type": "code",
   "execution_count": 26,
   "metadata": {},
   "outputs": [
    {
     "output_type": "stream",
     "name": "stdout",
     "text": [
      "    +\n   +++\n  +++++\n +++++++\n+++++++++\n +++++++\n  +++++\n   +++\n    +\n"
     ]
    }
   ],
   "source": [
    "import math\n",
    "N = int (input('홀수입력')) \n",
    "half = math.ceil(N/2) # ceil : 올림 / floor : 내림\n",
    "for i in range(1, half+1):\n",
    "    for k in range(half-i):\n",
    "        print(' ', sep='', end='')\n",
    "    for k in range(2*i-1):\n",
    "        print('+', sep='', end='')\n",
    "    print()\n",
    "for i in range(1, half):\n",
    "    for k in range(i):\n",
    "        print(' ', sep='', end='')\n",
    "    for k in range(2*(half-i)-1):\n",
    "        print('+', sep='', end='')\n",
    "    print()"
   ]
  },
  {
   "source": [
    "### 2. sec 계산기"
   ],
   "cell_type": "markdown",
   "metadata": {}
  },
  {
   "cell_type": "code",
   "execution_count": 29,
   "metadata": {},
   "outputs": [
    {
     "output_type": "stream",
     "name": "stdout",
     "text": [
      "29700\n"
     ]
    }
   ],
   "source": [
    "total_sec=0\n",
    "for hour in range(24):\n",
    "    for min in range(60):\n",
    "        time = str(hour) + str(min)\n",
    "        if '3' in time:\n",
    "            total_sec += 60\n",
    "print(total_sec)"
   ]
  },
  {
   "source": [
    "### 3. 숫자의 개수 구하기"
   ],
   "cell_type": "markdown",
   "metadata": {}
  },
  {
   "cell_type": "code",
   "execution_count": 31,
   "metadata": {},
   "outputs": [
    {
     "output_type": "stream",
     "name": "stdout",
     "text": [
      "[192, 301, 300, 300, 300, 300, 300, 300, 300, 300]\n"
     ]
    }
   ],
   "source": [
    "#case 1) \n",
    "num_counts = [0,0,0,0,0,0,0,0,0,0]\n",
    "for i in range(1, 10):\n",
    "    num_counts[i] += 1\n",
    "for i in range(10, 100):\n",
    "    ten = i // 10\n",
    "    one = i % 10\n",
    "    num_counts[ten] += 1\n",
    "    num_counts[one] += 1\n",
    "for i in range(100, 1000):\n",
    "    hundred = i // 100\n",
    "    ten = (i // 10) % 10\n",
    "    one = i % 10\n",
    "    num_counts[hundred] += 1\n",
    "    num_counts[ten] += 1\n",
    "    num_counts[one] += 1\n",
    "num_counts[1] += 1\n",
    "num_counts[0] += 3\n",
    "print(num_counts)\n",
    "\n",
    "# num이 세자리수일때\n",
    "# 백의 자리수 = num // 100\n",
    "# 십의 자리수 = (num//10) % 10\n",
    "# 일의자리수 = num % 10"
   ]
  },
  {
   "cell_type": "code",
   "execution_count": 33,
   "metadata": {},
   "outputs": [
    {
     "output_type": "stream",
     "name": "stdout",
     "text": [
      "[192, 301, 300, 300, 300, 300, 300, 300, 300, 300]\n"
     ]
    }
   ],
   "source": [
    "num_counts=[0,0,0,0,0,0,0,0,0,0]\n",
    "numbers =''\n",
    "for i in range(1,1001):\n",
    "    numbers += str(i)\n",
    "\n",
    "# numbers.count('0')\n",
    "for i in range(10):\n",
    "    num_counts[i] =numbers.count(str(i))\n",
    "\n",
    "print(num_counts)\n"
   ]
  },
  {
   "source": [
    "### 4. 완전수 구하기"
   ],
   "cell_type": "markdown",
   "metadata": {}
  },
  {
   "source": [
    "# 약수찾기 #12 \n",
    "num=12\n",
    "for i in range(1,num+1):\n",
    "    if 12 % i == 0:\n",
    "        print(i)\n",
    "\n"
   ],
   "cell_type": "code",
   "metadata": {},
   "execution_count": 34,
   "outputs": [
    {
     "output_type": "stream",
     "name": "stdout",
     "text": [
      "1\n2\n3\n4\n6\n12\n"
     ]
    }
   ]
  },
  {
   "cell_type": "code",
   "execution_count": 16,
   "metadata": {},
   "outputs": [
    {
     "output_type": "stream",
     "name": "stdout",
     "text": [
      "6\n",
      "28\n",
      "496\n",
      "8128\n"
     ]
    }
   ],
   "source": [
    "# 완전수는 자기자신을 제외한 약수의 하이 자신과 같음\n",
    "N = 10000\n",
    "sum= 0\n",
    "for n in range( 2, N ) : #자기자신을 제외하므로\n",
    "    sum= 0 \n",
    "    for i in range(1,n):\n",
    "        if n % i == 0 :\n",
    "            sum = sum + i\n",
    "    if sum== n : print(n)"
   ]
  },
  {
   "cell_type": "code",
   "execution_count": 22,
   "metadata": {},
   "outputs": [
    {
     "output_type": "stream",
     "name": "stdout",
     "text": [
      "1부터 10까지 자연수에 대해 합의 제곱(3025)과 제곱의 합(385)의 차이는 2640이다.\n"
     ]
    }
   ],
   "source": [
    "number = int(input(\"자연수를 입력하시오.\"))\n",
    "\n",
    "sum, sum_of_square,square_of_sum   = 0, 0, 0\n",
    "for i in range(1, number+1):\n",
    "    sum += i\n",
    "    square_of_sum += i # 합\n",
    "    sum_of_square += i**2 # 제곱의 합\n",
    "\n",
    "print(f'1부터 {number}까지 자연수에 대해 합의 제곱({square_of_sum**2})과 '\n",
    "      f'제곱의 합({sum_of_square})의 차이는 {square_of_sum**2 - sum_of_square}이다.')"
   ]
  }
 ]
}