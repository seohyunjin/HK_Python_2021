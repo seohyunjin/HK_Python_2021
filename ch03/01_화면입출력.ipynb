{
 "metadata": {
  "language_info": {
   "codemirror_mode": {
    "name": "ipython",
    "version": 3
   },
   "file_extension": ".py",
   "mimetype": "text/x-python",
   "name": "python",
   "nbconvert_exporter": "python",
   "pygments_lexer": "ipython3",
   "version": "3.8.5"
  },
  "orig_nbformat": 2,
  "kernelspec": {
   "name": "python385jvsc74a57bd08c1eae21719a0790335dcb83aad72b63b602cfe5cdb2bda0f60bc11d4f154e4b",
   "display_name": "Python 3.8.5 64-bit ('CPB06GameN': virtualenv)"
  }
 },
 "nbformat": 4,
 "nbformat_minor": 2,
 "cells": [
  {
   "source": [
    "3장. 화면 입출력과 리스트"
   ],
   "cell_type": "markdown",
   "metadata": {}
  },
  {
   "cell_type": "code",
   "execution_count": 4,
   "metadata": {},
   "outputs": [],
   "source": [
    "### 1. 파이썬 프로그래밍 환경"
   ]
  },
  {
   "source": [
    "2. 화면 입출력"
   ],
   "cell_type": "markdown",
   "metadata": {}
  },
  {
   "cell_type": "code",
   "execution_count": 9,
   "metadata": {},
   "outputs": [
    {
     "output_type": "stream",
     "name": "stdout",
     "text": [
      "Enter your name\n",
      "Hi kim How are you?\n"
     ]
    }
   ],
   "source": [
    "print('Enter your name')\n",
    "somebody =input()\n",
    "print('Hi',somebody, 'How are you?')"
   ]
  },
  {
   "cell_type": "code",
   "execution_count": 12,
   "metadata": {},
   "outputs": [
    {
     "output_type": "stream",
     "name": "stdout",
     "text": [
      "Hi, kim ! How are you?\n"
     ]
    }
   ],
   "source": [
    "somebody = input('')\n",
    "print( f'Hi, {somebody} ! How are you?' )"
   ]
  },
  {
   "source": [
    "3. 화씨온도 변환기"
   ],
   "cell_type": "markdown",
   "metadata": {}
  },
  {
   "cell_type": "code",
   "execution_count": null,
   "metadata": {},
   "outputs": [],
   "source": [
    "# 화씨온도 = (섭씨온도 *1.8) +32"
   ]
  },
  {
   "cell_type": "code",
   "execution_count": 16,
   "metadata": {},
   "outputs": [
    {
     "output_type": "stream",
     "name": "stdout",
     "text": [
      "섭씨온도: 20 ==> 화씨온도: 68.0\n"
     ]
    }
   ],
   "source": [
    "#celsius 타입은 문자열\n",
    "celsius = input('섭씨온도를 입력하세요')\n",
    "fahrenheit = float(celsius) * 1.8 + 32\n",
    "\n",
    "print(f'섭씨온도: {celsius} ==> 화씨온도: {fahrenheit}')"
   ]
  },
  {
   "cell_type": "code",
   "execution_count": 17,
   "metadata": {},
   "outputs": [
    {
     "output_type": "stream",
     "name": "stdout",
     "text": [
      "섭씨온도: 17.4 ==> 화씨온도: 63.31999999999999\n"
     ]
    }
   ],
   "source": [
    "#celsius 타입은 실수형\n",
    "celsius = float( input('섭씨온도를 입력하세요') ) \n",
    "fahrenheit = celsius * 1.8 + 32\n",
    "\n",
    "print(f'섭씨온도: {celsius} ==> 화씨온도: {fahrenheit : .2f}') # .2f는 소쉄 아래 숫자를 두개설정해달라는 의미미"
   ]
  }
 ]
}