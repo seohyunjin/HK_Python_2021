{
 "metadata": {
  "language_info": {
   "codemirror_mode": {
    "name": "ipython",
    "version": 3
   },
   "file_extension": ".py",
   "mimetype": "text/x-python",
   "name": "python",
   "nbconvert_exporter": "python",
   "pygments_lexer": "ipython3",
   "version": "3.8.5"
  },
  "orig_nbformat": 2,
  "kernelspec": {
   "name": "python385jvsc74a57bd08c1eae21719a0790335dcb83aad72b63b602cfe5cdb2bda0f60bc11d4f154e4b",
   "display_name": "Python 3.8.5 64-bit ('base': conda)"
  }
 },
 "nbformat": 4,
 "nbformat_minor": 2,
 "cells": [
  {
   "source": [
    "## 여러개 입력처리"
   ],
   "cell_type": "markdown",
   "metadata": {}
  },
  {
   "cell_type": "code",
   "execution_count": 2,
   "metadata": {},
   "outputs": [
    {
     "output_type": "execute_result",
     "data": {
      "text/plain": [
       "['red', 'green', 'blue']"
      ]
     },
     "metadata": {},
     "execution_count": 2
    }
   ],
   "source": [
    "#split() 은 문자열을 자동으로 구분해서 나누어줌 # 기본값은 space bar\n",
    "a = 'red green blue'\n",
    "a.split()"
   ]
  },
  {
   "cell_type": "code",
   "execution_count": 5,
   "metadata": {},
   "outputs": [
    {
     "output_type": "execute_result",
     "data": {
      "text/plain": [
       "['red', 'green', 'blue']"
      ]
     },
     "metadata": {},
     "execution_count": 5
    }
   ],
   "source": [
    "b ='red,green,blue'\n",
    "b.split(',')  # 나누고자 하는 기준을 ,로 설정"
   ]
  },
  {
   "cell_type": "code",
   "execution_count": 6,
   "metadata": {},
   "outputs": [
    {
     "output_type": "execute_result",
     "data": {
      "text/plain": [
       "'빨강 초록 파랑'"
      ]
     },
     "metadata": {},
     "execution_count": 6
    }
   ],
   "source": [
    "string = input ('빛의 3원색을 빈칸으로 구분하여 입력하세요.')\n",
    "string"
   ]
  },
  {
   "cell_type": "code",
   "execution_count": 9,
   "metadata": {},
   "outputs": [
    {
     "output_type": "execute_result",
     "data": {
      "text/plain": [
       "('빨강', '초록', '파랑')"
      ]
     },
     "metadata": {},
     "execution_count": 9
    }
   ],
   "source": [
    "r,g,b = string.split()\n",
    "r,g,b #리스트 언패킹 #튜플 패킹"
   ]
  },
  {
   "cell_type": "code",
   "execution_count": 11,
   "metadata": {},
   "outputs": [
    {
     "output_type": "execute_result",
     "data": {
      "text/plain": [
       "[3.1, 2.4, 8.5]"
      ]
     },
     "metadata": {},
     "execution_count": 11
    }
   ],
   "source": [
    "# 리스트의 원소 각각에 함수를 적용하고 싶은 경우 : map(원소의 자료형, 리스트명)\n",
    "numbers = ['3.1','2.4','8.5']\n",
    "list(map(float, numbers))  \n"
   ]
  },
  {
   "cell_type": "code",
   "execution_count": 15,
   "metadata": {},
   "outputs": [
    {
     "output_type": "execute_result",
     "data": {
      "text/plain": [
       "[3.1, 2.4, 8.5]"
      ]
     },
     "metadata": {},
     "execution_count": 15
    }
   ],
   "source": [
    "string = '3.1 2.4 8.5'\n",
    "list(map(float, string.split()))"
   ]
  },
  {
   "cell_type": "code",
   "execution_count": 18,
   "metadata": {},
   "outputs": [
    {
     "output_type": "execute_result",
     "data": {
      "text/plain": [
       "'3.1 2.4 8.5'"
      ]
     },
     "metadata": {},
     "execution_count": 18
    }
   ],
   "source": [
    "string = input('실수 세대를 빈칸으로 구분하여 입력하시오')\n",
    "string"
   ]
  },
  {
   "cell_type": "code",
   "execution_count": 24,
   "metadata": {},
   "outputs": [
    {
     "output_type": "execute_result",
     "data": {
      "text/plain": [
       "[3.1, 2.4, 8.5]"
      ]
     },
     "metadata": {},
     "execution_count": 24
    }
   ],
   "source": [
    "list(map(float, input('실수 세개 입력').split()))"
   ]
  },
  {
   "cell_type": "code",
   "execution_count": null,
   "metadata": {},
   "outputs": [],
   "source": [
    "x, y, z = [3.1, 2.4, 8.5]\n",
    "x, y, z"
   ]
  },
  {
   "cell_type": "code",
   "execution_count": 8,
   "metadata": {},
   "outputs": [
    {
     "output_type": "execute_result",
     "data": {
      "text/plain": [
       "(3.1, 2.4, 8.5)"
      ]
     },
     "metadata": {},
     "execution_count": 8
    }
   ],
   "source": [
    "x, y, z = list(map(float, input('실수 세개 입력').split()))\n",
    "x,y, z"
   ]
  },
  {
   "cell_type": "code",
   "execution_count": 40,
   "metadata": {},
   "outputs": [
    {
     "output_type": "execute_result",
     "data": {
      "text/plain": [
       "(3.1, 2.4, 8.5)"
      ]
     },
     "metadata": {},
     "execution_count": 40
    }
   ],
   "source": [
    "x,y,z = map(float,numbers)\n",
    "x,y,z"
   ]
  },
  {
   "cell_type": "code",
   "execution_count": null,
   "metadata": {},
   "outputs": [],
   "source": [
    "x, y, z = list(map(float, input('실수 세개 입력').split()))\n",
    "x,y, z"
   ]
  },
  {
   "source": [
    "## 추가사항"
   ],
   "cell_type": "markdown",
   "metadata": {}
  },
  {
   "cell_type": "code",
   "execution_count": 30,
   "metadata": {},
   "outputs": [
    {
     "output_type": "execute_result",
     "data": {
      "text/plain": [
       "[0, 1, 2, 3, 4]"
      ]
     },
     "metadata": {},
     "execution_count": 30
    }
   ],
   "source": [
    "# range(시작, 끝, 증가분)을 의미하는 데, 인수가 한개밖에 없을때 끝값 +1을 의미\n",
    "list(range(5)) # 0부터 4(끝값 +1))까지"
   ]
  },
  {
   "cell_type": "code",
   "execution_count": 34,
   "metadata": {},
   "outputs": [
    {
     "output_type": "execute_result",
     "data": {
      "text/plain": [
       "[1, 2, 3, 4, 5, 6, 7, 8, 9, 10]"
      ]
     },
     "metadata": {},
     "execution_count": 34
    }
   ],
   "source": [
    "# 1~10\n",
    "list(range(1,11))"
   ]
  },
  {
   "cell_type": "code",
   "execution_count": 35,
   "metadata": {},
   "outputs": [
    {
     "output_type": "execute_result",
     "data": {
      "text/plain": [
       "[1, 3, 5, 7, 9]"
      ]
     },
     "metadata": {},
     "execution_count": 35
    }
   ],
   "source": [
    "# 1~10, 홀수\n",
    "list(range(1,10,2))"
   ]
  },
  {
   "cell_type": "code",
   "execution_count": 1,
   "metadata": {},
   "outputs": [
    {
     "output_type": "execute_result",
     "data": {
      "text/plain": [
       "[10, 8, 6, 4, 2]"
      ]
     },
     "metadata": {},
     "execution_count": 1
    }
   ],
   "source": [
    "# 1~10, 짝수\n",
    "list(range(10,1,-2))"
   ]
  },
  {
   "source": [
    "### quiz"
   ],
   "cell_type": "markdown",
   "metadata": {}
  },
  {
   "cell_type": "code",
   "execution_count": 10,
   "metadata": {},
   "outputs": [
    {
     "output_type": "execute_result",
     "data": {
      "text/plain": [
       "(5, 10)"
      ]
     },
     "metadata": {},
     "execution_count": 10
    }
   ],
   "source": [
    "#두개의 정수를 입력받아 첫번째 값에서 부터 두번째 값까지 출력\n",
    " #a,b = map(input().split())\n",
    "x, y = map(int, input('두개의 정수 입력하세요').split())\n",
    "x, y\n"
   ]
  },
  {
   "cell_type": "code",
   "execution_count": 11,
   "metadata": {},
   "outputs": [
    {
     "output_type": "stream",
     "name": "stdout",
     "text": [
      "[5, 6, 7, 8, 9, 10]\n"
     ]
    }
   ],
   "source": [
    "print(list(range(x,y+1)))  #입력받은 두 값에 대해 첫번째~ 두번째 값까지 출력\n"
   ]
  }
 ]
}