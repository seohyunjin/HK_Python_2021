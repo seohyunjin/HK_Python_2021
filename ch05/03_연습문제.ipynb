{
 "metadata": {
  "language_info": {
   "codemirror_mode": {
    "name": "ipython",
    "version": 3
   },
   "file_extension": ".py",
   "mimetype": "text/x-python",
   "name": "python",
   "nbconvert_exporter": "python",
   "pygments_lexer": "ipython3",
   "version": "3.8.5"
  },
  "orig_nbformat": 2,
  "kernelspec": {
   "name": "python385jvsc74a57bd08c1eae21719a0790335dcb83aad72b63b602cfe5cdb2bda0f60bc11d4f154e4b",
   "display_name": "Python 3.8.5 64-bit ('base': conda)"
  }
 },
 "nbformat": 4,
 "nbformat_minor": 2,
 "cells": [
  {
   "cell_type": "code",
   "execution_count": 2,
   "metadata": {},
   "outputs": [],
   "source": [
    "# palindrome \n",
    "def isPalindrome(string):\n",
    "    lenStr = len(string) \n",
    "    for i in range(lenStr//2):\n",
    "    \tif string[i] != string[lenStr-1-i]:\n",
    "    \t\treturn False\n",
    "    return True"
   ]
  },
  {
   "cell_type": "code",
   "execution_count": 34,
   "metadata": {},
   "outputs": [
    {
     "output_type": "stream",
     "name": "stdout",
     "text": [
      "906609\n"
     ]
    }
   ],
   "source": [
    "# 100의자리인 두수의 곱 중 palindrome인 것 14241\n",
    "palindrome_list=[]\n",
    "for i in range(100,1000):\n",
    "    for k in range(100,1000):\n",
    "        if isPalindrome(str(i*k)):\n",
    "            palindrome_list.append(i*k)\n",
    "max_palindrome= palindrome_list[0]\n",
    "for i in range(1, len(palindrome_list) ):\n",
    "    global max_palindrome\n",
    "    if palindrome_list[i] >= max_palindrome :\n",
    "        max_palindrome = palindrome_list[i]\n",
    "print(max_palindrome)\n"
   ]
  },
  {
   "cell_type": "code",
   "execution_count": 6,
   "metadata": {},
   "outputs": [
    {
     "output_type": "stream",
     "name": "stdout",
     "text": [
      "덧셈: 48, 뺄셈: 32, 곱셈: 320, 나눗셈: 5.0\n"
     ]
    }
   ],
   "source": [
    "x, y =map(int, input().split())\n",
    "\n",
    "def calc(x,y):\n",
    "    return (x + y, x - y, x * y, x / y)\n",
    "\n",
    "a,s,m,d = calc(x,y)\n",
    "print('덧셈: {0}, 뺄셈: {1}, 곱셈: {2}, 나눗셈: {3}'.format(a, s, m, d))"
   ]
  },
  {
   "cell_type": "code",
   "execution_count": 31,
   "metadata": {},
   "outputs": [
    {
     "output_type": "error",
     "ename": "TypeError",
     "evalue": "'int' object is not callable",
     "traceback": [
      "\u001b[1;31m---------------------------------------------------------------------------\u001b[0m",
      "\u001b[1;31mTypeError\u001b[0m                                 Traceback (most recent call last)",
      "\u001b[1;32m<ipython-input-31-57da15ad0c78>\u001b[0m in \u001b[0;36m<module>\u001b[1;34m\u001b[0m\n\u001b[0;32m      8\u001b[0m \u001b[1;33m\u001b[0m\u001b[0m\n\u001b[0;32m      9\u001b[0m \u001b[1;33m\u001b[0m\u001b[0m\n\u001b[1;32m---> 10\u001b[1;33m \u001b[0mmin_score\u001b[0m\u001b[1;33m,\u001b[0m \u001b[0mmax_score\u001b[0m \u001b[1;33m=\u001b[0m \u001b[0mget_min_max_score\u001b[0m\u001b[1;33m(\u001b[0m\u001b[0mkorean\u001b[0m\u001b[1;33m,\u001b[0m \u001b[0menglish\u001b[0m\u001b[1;33m,\u001b[0m \u001b[0mmathematics\u001b[0m\u001b[1;33m,\u001b[0m \u001b[0mscience\u001b[0m\u001b[1;33m)\u001b[0m\u001b[1;33m\u001b[0m\u001b[1;33m\u001b[0m\u001b[0m\n\u001b[0m\u001b[0;32m     11\u001b[0m average_score = get_average(korean=korean, english=english,\n\u001b[0;32m     12\u001b[0m                             mathematics=mathematics, science=science)\n",
      "\u001b[1;32m<ipython-input-31-57da15ad0c78>\u001b[0m in \u001b[0;36mget_min_max_score\u001b[1;34m(*args)\u001b[0m\n\u001b[0;32m      2\u001b[0m \u001b[1;33m\u001b[0m\u001b[0m\n\u001b[0;32m      3\u001b[0m \u001b[1;32mdef\u001b[0m \u001b[0mget_min_max_score\u001b[0m\u001b[1;33m(\u001b[0m \u001b[1;33m*\u001b[0m\u001b[0margs\u001b[0m\u001b[1;33m)\u001b[0m\u001b[1;33m:\u001b[0m\u001b[1;33m\u001b[0m\u001b[1;33m\u001b[0m\u001b[0m\n\u001b[1;32m----> 4\u001b[1;33m     \u001b[1;32mreturn\u001b[0m \u001b[0mmin\u001b[0m\u001b[1;33m(\u001b[0m\u001b[0margs\u001b[0m\u001b[1;33m)\u001b[0m\u001b[1;33m,\u001b[0m \u001b[0mmax\u001b[0m\u001b[1;33m(\u001b[0m\u001b[0margs\u001b[0m\u001b[1;33m)\u001b[0m\u001b[1;33m\u001b[0m\u001b[1;33m\u001b[0m\u001b[0m\n\u001b[0m\u001b[0;32m      5\u001b[0m \u001b[1;33m\u001b[0m\u001b[0m\n\u001b[0;32m      6\u001b[0m \u001b[1;32mdef\u001b[0m \u001b[0mget_average\u001b[0m\u001b[1;33m(\u001b[0m\u001b[1;33m**\u001b[0m\u001b[0mkwargs\u001b[0m\u001b[1;33m)\u001b[0m\u001b[1;33m:\u001b[0m\u001b[1;33m\u001b[0m\u001b[1;33m\u001b[0m\u001b[0m\n",
      "\u001b[1;31mTypeError\u001b[0m: 'int' object is not callable"
     ]
    }
   ],
   "source": [
    "korean, english, mathematics, science = map(int, input().split())\n",
    "\n",
    "def get_min_max_score( *args):\n",
    "    return min(args), max(args)\n",
    "    \n",
    "def get_average(**kwargs):\n",
    "    return  (sum(kwargs.values())/ len(kwargs))\n",
    "\n",
    "\n",
    "min_score, max_score = get_min_max_score(korean, english, mathematics, science)\n",
    "average_score = get_average(korean=korean, english=english,\n",
    "                            mathematics=mathematics, science=science)\n",
    "print('낮은 점수: {0:.2f}, 높은 점수: {1:.2f}, 평균 점수: {2:.2f}'\n",
    "      .format(min_score, max_score, average_score))\n",
    " \n",
    "min_score, max_score = get_min_max_score(english, science)\n",
    "average_score = get_average(english=english, science=science)\n",
    "print('낮은 점수: {0:.2f}, 높은 점수: {1:.2f}, 평균 점수: {2:.2f}'\n",
    "      .format(min_score, max_score, average_score))"
   ]
  },
  {
   "cell_type": "code",
   "execution_count": 8,
   "metadata": {},
   "outputs": [
    {
     "output_type": "execute_result",
     "data": {
      "text/plain": [
       "3"
      ]
     },
     "metadata": {},
     "execution_count": 8
    }
   ],
   "source": [
    "max(1,2,3)"
   ]
  }
 ]
}