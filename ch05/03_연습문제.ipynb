{
 "metadata": {
  "language_info": {
   "codemirror_mode": {
    "name": "ipython",
    "version": 3
   },
   "file_extension": ".py",
   "mimetype": "text/x-python",
   "name": "python",
   "nbconvert_exporter": "python",
   "pygments_lexer": "ipython3",
   "version": "3.8.5"
  },
  "orig_nbformat": 2,
  "kernelspec": {
   "name": "python385jvsc74a57bd08c1eae21719a0790335dcb83aad72b63b602cfe5cdb2bda0f60bc11d4f154e4b",
   "display_name": "Python 3.8.5 64-bit ('base': conda)"
  }
 },
 "nbformat": 4,
 "nbformat_minor": 2,
 "cells": [
  {
   "source": [
    "### 1. 세자리수 끼리 곱한 수준 palindrome에 대하여 최대 palindrome을 가지는 세자리수를 구하라."
   ],
   "cell_type": "markdown",
   "metadata": {}
  },
  {
   "cell_type": "code",
   "execution_count": 2,
   "metadata": {},
   "outputs": [],
   "source": [
    "# palindrome \n",
    "def isPalindrome(string):\n",
    "    lenStr = len(string) \n",
    "    for i in range(lenStr//2):\n",
    "    \tif string[i] != string[lenStr-1-i]:\n",
    "    \t\treturn False\n",
    "    return True"
   ]
  },
  {
   "cell_type": "code",
   "execution_count": 34,
   "metadata": {},
   "outputs": [
    {
     "output_type": "stream",
     "name": "stdout",
     "text": [
      "906609\n"
     ]
    }
   ],
   "source": [
    "# 100의자리인 두수의 곱 중 palindrome인 것 14241\n",
    "palindrome_list=[]\n",
    "for i in range(100,1000):\n",
    "    for k in range(100,1000):\n",
    "        if isPalindrome(str(i*k)):\n",
    "            palindrome_list.append(i*k)\n",
    "max_palindrome= palindrome_list[0]\n",
    "for i in range(1, len(palindrome_list) ):\n",
    "    global max_palindrome\n",
    "    if palindrome_list[i] >= max_palindrome :\n",
    "        max_palindrome = palindrome_list[i]\n",
    "print(max_palindrome)\n"
   ]
  },
  {
   "cell_type": "code",
   "execution_count": 5,
   "metadata": {},
   "outputs": [],
   "source": [
    "# sol)\n",
    "def is_palindrome(s):\n",
    "    return s == s[::-1]\n"
   ]
  },
  {
   "cell_type": "code",
   "execution_count": 6,
   "metadata": {},
   "outputs": [
    {
     "output_type": "stream",
     "name": "stdout",
     "text": [
      "906609 913 993\n"
     ]
    }
   ],
   "source": [
    "max_num, max_i, max_k = 0, 0, 0\n",
    "for i in range(100,1000):\n",
    "    for k in range(100,1000):\n",
    "        if is_palindrome(str(i*k)):\n",
    "            if max_num < i*k:\n",
    "                max_num = i*k\n",
    "                max_i, max_k = i, k\n",
    "print(max_num, max_i, max_k)"
   ]
  },
  {
   "source": [
    "### 2) 계산기"
   ],
   "cell_type": "markdown",
   "metadata": {}
  },
  {
   "cell_type": "code",
   "execution_count": 6,
   "metadata": {},
   "outputs": [
    {
     "output_type": "stream",
     "name": "stdout",
     "text": [
      "덧셈: 48, 뺄셈: 32, 곱셈: 320, 나눗셈: 5.0\n"
     ]
    }
   ],
   "source": [
    "x, y =map(int, input().split())\n",
    "\n",
    "def calc(x,y):\n",
    "    return (x + y, x - y, x * y, x / y)\n",
    "\n",
    "a,s,m,d = calc(x,y)\n",
    "print('덧셈: {0}, 뺄셈: {1}, 곱셈: {2}, 나눗셈: {3}'.format(a, s, m, d))"
   ]
  },
  {
   "source": [
    "### 3) min, max, average"
   ],
   "cell_type": "markdown",
   "metadata": {}
  },
  {
   "cell_type": "code",
   "execution_count": 16,
   "metadata": {},
   "outputs": [],
   "source": [
    "#sol)\n",
    "def get_average(**kwargs):\n",
    "    sum= 0.\n",
    "    for key,value in kwarg.items():\n",
    "        sum += value\n",
    "    return sum / len(kwargs)"
   ]
  },
  {
   "cell_type": "code",
   "execution_count": 19,
   "metadata": {},
   "outputs": [],
   "source": [
    "def get_min_max_score( *args):\n",
    "    return min(args),max(args)"
   ]
  },
  {
   "cell_type": "code",
   "execution_count": 8,
   "metadata": {},
   "outputs": [
    {
     "output_type": "stream",
     "name": "stdout",
     "text": [
      "낮은 점수: 60.00, 높은 점수: 60.00, 평균 점수: 68.75\n낮은 점수: 80.00, 높은 점수: 80.00, 평균 점수: 62.50\n"
     ]
    }
   ],
   "source": [
    "korean, english, mathematics, science = map(int, input().split())\n",
    "\n",
    "def get_min_max_score( *args):\n",
    "    min, max = 100.,0.\n",
    "    for score in args:\n",
    "        if min >score:\n",
    "            min = score\n",
    "        if max < score:\n",
    "            max = score\n",
    "        return min, max\n",
    "    \n",
    "def get_average(**kwargs):\n",
    "    return  (sum(kwargs.values())/ len(kwargs))\n",
    "\n",
    "\n",
    "min_score, max_score = get_min_max_score(korean, english, mathematics, science)\n",
    "average_score = get_average(korean=korean, english=english,\n",
    "                            mathematics=mathematics, science=science)\n",
    "print('낮은 점수: {0:.2f}, 높은 점수: {1:.2f}, 평균 점수: {2:.2f}'\n",
    "      .format(min_score, max_score, average_score))\n",
    " \n",
    "min_score, max_score = get_min_max_score(english, science)\n",
    "average_score = get_average(english=english, science=science)\n",
    "print('낮은 점수: {0:.2f}, 높은 점수: {1:.2f}, 평균 점수: {2:.2f}'\n",
    "      .format(min_score, max_score, average_score))"
   ]
  },
  {
   "source": [
    "# 딕셔너리"
   ],
   "cell_type": "markdown",
   "metadata": {}
  },
  {
   "cell_type": "code",
   "execution_count": 12,
   "metadata": {},
   "outputs": [],
   "source": [
    "my_dict ={'eng':80,'kor' :90}"
   ]
  },
  {
   "cell_type": "code",
   "execution_count": 13,
   "metadata": {},
   "outputs": [
    {
     "output_type": "stream",
     "name": "stdout",
     "text": [
      "eng 80 80\nkor 90 90\n"
     ]
    }
   ],
   "source": [
    "for key, value in my_dict.items():\n",
    "    print(key, my_dict[key], value)"
   ]
  },
  {
   "cell_type": "code",
   "execution_count": 14,
   "metadata": {},
   "outputs": [
    {
     "output_type": "execute_result",
     "data": {
      "text/plain": [
       "dict_keys(['eng', 'kor'])"
      ]
     },
     "metadata": {},
     "execution_count": 14
    }
   ],
   "source": [
    "# 딕셔너리의 key or value만 뽑고 싶은 경우\n",
    "my_dict.keys()"
   ]
  }
 ]
}