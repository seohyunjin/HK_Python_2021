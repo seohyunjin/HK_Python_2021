{
 "metadata": {
  "language_info": {
   "codemirror_mode": {
    "name": "ipython",
    "version": 3
   },
   "file_extension": ".py",
   "mimetype": "text/x-python",
   "name": "python",
   "nbconvert_exporter": "python",
   "pygments_lexer": "ipython3",
   "version": "3.8.5"
  },
  "orig_nbformat": 2,
  "kernelspec": {
   "name": "python385jvsc74a57bd08c1eae21719a0790335dcb83aad72b63b602cfe5cdb2bda0f60bc11d4f154e4b",
   "display_name": "Python 3.8.5 64-bit ('base': conda)"
  }
 },
 "nbformat": 4,
 "nbformat_minor": 2,
 "cells": [
  {
   "source": [
    "# 함수의 인수\n",
    "\n",
    "* 위치인수 (positional argument)\n",
    "* 키워드 인수 (keyword argument)\n",
    "* 디폴트 인수 (default argument)\n",
    "* 가변 인수 (variable-length argument)\n",
    "* 키워드 가변 인수 (keyword variable-length argument)"
   ],
   "cell_type": "markdown",
   "metadata": {}
  },
  {
   "source": [
    "* 키워드 인수 (keyword argument)"
   ],
   "cell_type": "markdown",
   "metadata": {}
  },
  {
   "cell_type": "code",
   "execution_count": 6,
   "metadata": {},
   "outputs": [],
   "source": [
    "def print_something(my_name, your_name):\n",
    "    print(f'Hello {your_name}, my name is {my_name}')"
   ]
  },
  {
   "cell_type": "code",
   "execution_count": 8,
   "metadata": {},
   "outputs": [
    {
     "output_type": "stream",
     "name": "stdout",
     "text": [
      "Hello Everyone, my name is Sungchul\nHello Everyone, my name is Sungchul\n"
     ]
    }
   ],
   "source": [
    "print_something('Sungchul','Everyone')\n",
    "print_something(your_name='Everyone', my_name= 'Sungchul')  # 같은 결과 나옴 "
   ]
  },
  {
   "source": [
    "* 디폴트 인수 (default argument)"
   ],
   "cell_type": "markdown",
   "metadata": {}
  },
  {
   "source": [
    "* 가변 인수 (variable-length argument)   : 매개변수에 * 이용"
   ],
   "cell_type": "markdown",
   "metadata": {}
  },
  {
   "cell_type": "code",
   "execution_count": 10,
   "metadata": {},
   "outputs": [],
   "source": [
    "#가변인수가 매개변수로 쓰인함수 : 매개변수의 개수를 지정하지않아도 모두 가능 \n",
    "def summation(*args):\n",
    "    return sum(args)"
   ]
  },
  {
   "cell_type": "code",
   "execution_count": 11,
   "metadata": {},
   "outputs": [
    {
     "output_type": "stream",
     "name": "stdout",
     "text": [
      "3\n10\n15\n"
     ]
    }
   ],
   "source": [
    "print(summation(1,2))\n",
    "print(summation(1,2,3,4))\n",
    "print(summation(1,2,3,4,5))"
   ]
  },
  {
   "cell_type": "code",
   "execution_count": 12,
   "metadata": {},
   "outputs": [],
   "source": [
    "# 위치인수랑 가변인수가 같이 여러개의 매개변수로 쓰인 함수\n",
    "def summation(a, b, *args): \n",
    "    # a ,b 는 값이므로 무조건 2개인자는 받으나, *arg에 의해 3번째부터는 실매개변수를 안받을 수도 있음\n",
    "    return a+ b + sum(args)"
   ]
  },
  {
   "cell_type": "code",
   "execution_count": 13,
   "metadata": {},
   "outputs": [
    {
     "output_type": "stream",
     "name": "stdout",
     "text": [
      "3\n10\n15\n"
     ]
    }
   ],
   "source": [
    "print(summation(1,2))\n",
    "print(summation(1,2,3,4))\n",
    "print(summation(1,2,3,4,5))"
   ]
  },
  {
   "cell_type": "code",
   "execution_count": 15,
   "metadata": {},
   "outputs": [],
   "source": [
    " # 순서상 위치인수(c)가 먼저나오고 가변인수(*args)가 나중에 나와야함!\n",
    "\n",
    "def summation(*args, c):  # 이 함수를 이용할 떄 에러남\n",
    "    return sum(args) + c  "
   ]
  },
  {
   "cell_type": "code",
   "execution_count": 16,
   "metadata": {},
   "outputs": [
    {
     "output_type": "error",
     "ename": "TypeError",
     "evalue": "summation() missing 1 required keyword-only argument: 'c'",
     "traceback": [
      "\u001b[1;31m---------------------------------------------------------------------------\u001b[0m",
      "\u001b[1;31mTypeError\u001b[0m                                 Traceback (most recent call last)",
      "\u001b[1;32m<ipython-input-16-43ad7468e236>\u001b[0m in \u001b[0;36m<module>\u001b[1;34m\u001b[0m\n\u001b[1;32m----> 1\u001b[1;33m \u001b[0mprint\u001b[0m\u001b[1;33m(\u001b[0m\u001b[0msummation\u001b[0m\u001b[1;33m(\u001b[0m\u001b[1;36m1\u001b[0m\u001b[1;33m,\u001b[0m\u001b[1;36m2\u001b[0m\u001b[1;33m)\u001b[0m\u001b[1;33m)\u001b[0m\u001b[1;33m\u001b[0m\u001b[1;33m\u001b[0m\u001b[0m\n\u001b[0m\u001b[0;32m      2\u001b[0m \u001b[0mprint\u001b[0m\u001b[1;33m(\u001b[0m\u001b[0msummation\u001b[0m\u001b[1;33m(\u001b[0m\u001b[1;36m1\u001b[0m\u001b[1;33m,\u001b[0m\u001b[1;36m2\u001b[0m\u001b[1;33m,\u001b[0m\u001b[1;36m3\u001b[0m\u001b[1;33m,\u001b[0m\u001b[1;36m4\u001b[0m\u001b[1;33m)\u001b[0m\u001b[1;33m)\u001b[0m\u001b[1;33m\u001b[0m\u001b[1;33m\u001b[0m\u001b[0m\n\u001b[0;32m      3\u001b[0m \u001b[0mprint\u001b[0m\u001b[1;33m(\u001b[0m\u001b[0msummation\u001b[0m\u001b[1;33m(\u001b[0m\u001b[1;36m1\u001b[0m\u001b[1;33m,\u001b[0m\u001b[1;36m2\u001b[0m\u001b[1;33m,\u001b[0m\u001b[1;36m3\u001b[0m\u001b[1;33m,\u001b[0m\u001b[1;36m4\u001b[0m\u001b[1;33m,\u001b[0m\u001b[1;36m5\u001b[0m\u001b[1;33m)\u001b[0m\u001b[1;33m)\u001b[0m\u001b[1;33m\u001b[0m\u001b[1;33m\u001b[0m\u001b[0m\n",
      "\u001b[1;31mTypeError\u001b[0m: summation() missing 1 required keyword-only argument: 'c'"
     ]
    }
   ],
   "source": [
    "print(summation(1,2))\n",
    "print(summation(1,2,3,4))\n",
    "print(summation(1,2,3,4,5)) # 에러발생"
   ]
  },
  {
   "source": [
    "* 키워드 가변 인수 (keyword variable-length argument)"
   ],
   "cell_type": "markdown",
   "metadata": {}
  },
  {
   "cell_type": "code",
   "execution_count": 18,
   "metadata": {},
   "outputs": [],
   "source": [
    "def kwargs_test(**kwargs):\n",
    "    print(kwargs)"
   ]
  },
  {
   "cell_type": "code",
   "execution_count": 29,
   "metadata": {},
   "outputs": [
    {
     "output_type": "stream",
     "name": "stdout",
     "text": [
      "{'first': 3, 'second': 4, 'third': 5}\n"
     ]
    }
   ],
   "source": [
    "kwargs_test(first =3, second=4, third =5)"
   ]
  },
  {
   "cell_type": "code",
   "execution_count": 20,
   "metadata": {},
   "outputs": [
    {
     "output_type": "stream",
     "name": "stdout",
     "text": [
      "3\n"
     ]
    }
   ],
   "source": [
    "### - 딕셔너리(Dictionary)\n",
    "my_dict ={'first': 3, 'second': 4, 'third': 5}\n",
    "print(my_dict['first']) # my_dict.first는 다른 language에서는 되나, 파이썬에서는 지원하지 않음"
   ]
  },
  {
   "cell_type": "code",
   "execution_count": 25,
   "metadata": {},
   "outputs": [],
   "source": [
    "def kwargs_test2(**kwargs): #**는 딕셔너리 언패킹의미\n",
    "    print(kwargs)\n",
    "    print(f\"First value is {kwargs['first']}\")"
   ]
  },
  {
   "cell_type": "code",
   "execution_count": 23,
   "metadata": {},
   "outputs": [
    {
     "output_type": "stream",
     "name": "stdout",
     "text": [
      "{'first': 3, 'second': 4, 'third': 5}\nFirst value is 3\n"
     ]
    }
   ],
   "source": [
    "kwargs_test2(first =3,second =4, third =5)"
   ]
  },
  {
   "cell_type": "code",
   "execution_count": 28,
   "metadata": {},
   "outputs": [],
   "source": [
    "def kwargs_test2(**kwargs): #**는 딕셔너리 언패킹의미\n",
    "    print(kwargs)\n",
    "    print(f\"First value is {kwargs['first']}\")\n",
    "    print(f\"Second value is {kwargs['second']}\")\n",
    "    print(\"Second value is {second}\".format(**kwargs))\n",
    "    print('Third value is {third}'.format(**kwargs))"
   ]
  },
  {
   "cell_type": "code",
   "execution_count": null,
   "metadata": {},
   "outputs": [],
   "source": [
    "def kwargs_test3"
   ]
  }
 ]
}