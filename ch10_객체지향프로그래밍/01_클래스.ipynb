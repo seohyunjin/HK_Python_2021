{
 "metadata": {
  "language_info": {
   "codemirror_mode": {
    "name": "ipython",
    "version": 3
   },
   "file_extension": ".py",
   "mimetype": "text/x-python",
   "name": "python",
   "nbconvert_exporter": "python",
   "pygments_lexer": "ipython3",
   "version": "3.8.5"
  },
  "orig_nbformat": 2,
  "kernelspec": {
   "name": "python385jvsc74a57bd08c1eae21719a0790335dcb83aad72b63b602cfe5cdb2bda0f60bc11d4f154e4b",
   "display_name": "Python 3.8.5 64-bit ('base': conda)"
  }
 },
 "nbformat": 4,
 "nbformat_minor": 2,
 "cells": [
  {
   "source": [
    "c#, java : 객체 지향 프로그램 (oop)\n",
    "\n",
    "r, python : 객체 지원 프로그램"
   ],
   "cell_type": "markdown",
   "metadata": {}
  },
  {
   "source": [
    "# 객체지향 프로그래밍 ( Object Oriented Programming )\n",
    ": 함수처럼 어떤 기능을 함수코드에 묶어두는 것이 아니라, \n",
    "\n",
    "그런 기능을 묶은 하나의 단일 프로그램을 객체라고 하는 코드에 넣어  다른 프로그래머가 재사용가능하게 하는 프로그래밍 기법"
   ],
   "cell_type": "markdown",
   "metadata": {}
  },
  {
   "source": [
    "### 객체와 클래스\n",
    " * 클래스 => 객체 - 속성 + 메서드 \n",
    "  \n",
    "객체(object) : 실생활에 존재하는 실제적인 물건 또는 개념\n",
    "\n",
    "속성(attribute) : 객체가 가지고 있는 변수\n",
    "\n",
    "행동(action) : 객체가 실제로 작동할 수 있는 메서드\n",
    "\n",
    "클래스(class) : 객체가 가져야할 기본 정보를 담은 코드\n",
    "-> 클래스에 의해 실제로 생성되는 객체를 인스턴스(instance)라 함"
   ],
   "cell_type": "markdown",
   "metadata": {}
  },
  {
   "source": [
    "### 상속 (Inheritance)\n",
    "- 부모\n",
    "\n",
    "### 캡슐화 (Encapsulation)\n",
    ":변수와 함수를 하나의 클래스로 묶고 외부에서 쉽게 접근하지 못하도록 은닉\n",
    "### 다형성 (Polymorphism Overriving)"
   ],
   "cell_type": "code",
   "metadata": {},
   "execution_count": null,
   "outputs": []
  },
  {
   "source": [
    "## 1. 클래스와 메소드"
   ],
   "cell_type": "markdown",
   "metadata": {}
  },
  {
   "cell_type": "code",
   "execution_count": 3,
   "metadata": {},
   "outputs": [],
   "source": [
    "class Person:\n",
    "    def greeting(self):\n",
    "        print('Hello')"
   ]
  },
  {
   "cell_type": "code",
   "execution_count": 4,
   "metadata": {},
   "outputs": [],
   "source": [
    "# 클래스는 바로 사용할 수 있는 것이 아님, instance를 만든다!\n",
    "# 1) instance 만들기 = \" 생성자 constructor  \"\n",
    "\n",
    "james = Person()"
   ]
  },
  {
   "cell_type": "code",
   "execution_count": 5,
   "metadata": {},
   "outputs": [
    {
     "output_type": "stream",
     "name": "stdout",
     "text": [
      "Hello\n"
     ]
    }
   ],
   "source": [
    "# 인스턴스객체 생성하였으므로 객체에서 메서드를 호출할 수 있음!\n",
    "# 2) method 호출\n",
    "james.greeting()"
   ]
  },
  {
   "source": [
    "## 2. 속성"
   ],
   "cell_type": "markdown",
   "metadata": {}
  },
  {
   "cell_type": "code",
   "execution_count": 12,
   "metadata": {},
   "outputs": [],
   "source": [
    "# 속성정의는 def __init__(): 에 정의한다!\n",
    "\n",
    "# hello 라는 속성을 갖는 클래스\n",
    "class Person:\n",
    "    def __init__(self):\n",
    "        self.hello = \"안녕하세요?\"\n",
    "    def greeting(self):\n",
    "        print(self.hello)"
   ]
  },
  {
   "cell_type": "code",
   "execution_count": 9,
   "metadata": {},
   "outputs": [
    {
     "output_type": "stream",
     "name": "stdout",
     "text": [
      "안녕하세요?\n"
     ]
    }
   ],
   "source": [
    "james = Person() #1) 인스턴스 생성\n",
    "james.greeting() #2) 메서드 사용 "
   ]
  },
  {
   "cell_type": "code",
   "execution_count": 14,
   "metadata": {},
   "outputs": [
    {
     "output_type": "execute_result",
     "data": {
      "text/plain": [
       "'안녕하세요?'"
      ]
     },
     "metadata": {},
     "execution_count": 14
    }
   ],
   "source": [
    "# hello가 메소드가 아니라 속성이므로 ()없음\n",
    "james.hello # 속성"
   ]
  },
  {
   "cell_type": "code",
   "execution_count": 16,
   "metadata": {},
   "outputs": [
    {
     "output_type": "stream",
     "name": "stdout",
     "text": [
      "반갑습니다.\n"
     ]
    }
   ],
   "source": [
    "james.hello = '반갑습니다.' #james의 hello속성 바꿈\n",
    "james.greeting() "
   ]
  },
  {
   "cell_type": "code",
   "execution_count": 18,
   "metadata": {},
   "outputs": [
    {
     "output_type": "stream",
     "name": "stdout",
     "text": [
      "안녕하세요?\n"
     ]
    }
   ],
   "source": [
    "maria =Person() \n",
    "maria.greeting()\n",
    "# 클래스의 hello속성값이 바뀐게 아니므로 이전 그대로 출력됨"
   ]
  },
  {
   "source": [
    "### - 인스턴스를 만들면서 속성값 전달 받기"
   ],
   "cell_type": "markdown",
   "metadata": {}
  },
  {
   "cell_type": "code",
   "execution_count": 19,
   "metadata": {},
   "outputs": [],
   "source": [
    "class Person3:\n",
    "    # __init__에는 self 말고도 매개변수를 받을 수 있음\n",
    "    def __init__(self, name, age, address):\n",
    "        self.hello = \"안녕하세요?\"\n",
    "        self.name = name\n",
    "        self.age = age\n",
    "        self.address = address\n",
    "    \n",
    "    def greeting(self):\n",
    "        print( f'{self.hello} 저는 {self.name}입니다.' )"
   ]
  },
  {
   "cell_type": "code",
   "execution_count": 22,
   "metadata": {},
   "outputs": [
    {
     "output_type": "stream",
     "name": "stdout",
     "text": [
      "안녕하세요? 저는 마리아입니다.\n"
     ]
    }
   ],
   "source": [
    "maria = Person3('마리아', 24, '서울시 중구 중림동') #parameter 개수 맞게 입력해야함\n",
    "maria.greeting()\n",
    "maria.greeting()"
   ]
  },
  {
   "cell_type": "code",
   "execution_count": 24,
   "metadata": {},
   "outputs": [],
   "source": [
    "# 속성(__intit__)에 default 값 설정하기 \n",
    "\n",
    "class Person4:\n",
    "    def __init__(self, name = '마리아', age =24, address ='서울시' ):\n",
    "        \n",
    "        self.hello = \"안녕하세요?\"\n",
    "        self.name = name\n",
    "        self.age = age\n",
    "        self.address = address\n",
    "    \n",
    "    def greeting(self):\n",
    "        print( f'{self.hello} 저는 {self.name}입니다.' )"
   ]
  },
  {
   "cell_type": "code",
   "execution_count": 25,
   "metadata": {},
   "outputs": [
    {
     "output_type": "stream",
     "name": "stdout",
     "text": [
      "안녕하세요? 저는 마리아입니다.\n"
     ]
    }
   ],
   "source": [
    "# default에 의해 매개변수를 전달해주지 않아도 실행됨\n",
    "maria = Person4()\n",
    "maria.greeting()"
   ]
  },
  {
   "cell_type": "code",
   "execution_count": 26,
   "metadata": {},
   "outputs": [
    {
     "output_type": "stream",
     "name": "stdout",
     "text": [
      "안녕하세요? 저는 제임스입니다.\n"
     ]
    }
   ],
   "source": [
    "# 새로운 값을 입력하면 그값으로 인식하고, 나머지는 default를 이용하여 인스턴스객체를 생성할 수 있음.\n",
    "james = Person4( age=27, name= '제임스')\n",
    "james. greeting()"
   ]
  },
  {
   "cell_type": "code",
   "execution_count": 27,
   "metadata": {},
   "outputs": [
    {
     "output_type": "execute_result",
     "data": {
      "text/plain": [
       "'서울시'"
      ]
     },
     "metadata": {},
     "execution_count": 27
    }
   ],
   "source": [
    "# 새로 입력하지않은 매개변수는 default 속성값을 이용함\n",
    "james.address"
   ]
  },
  {
   "source": [
    "## 3. 비공개 속성\n",
    ": 속성__init__에 'self.__매개변수 = 매개변수' 설정을 통해  비공개 속성을 설정"
   ],
   "cell_type": "markdown",
   "metadata": {}
  },
  {
   "cell_type": "code",
   "execution_count": 29,
   "metadata": {},
   "outputs": [],
   "source": [
    "class Person5:\n",
    "    def __init__(self, name, age, address, wallet):\n",
    "        self.name =name\n",
    "        self.age = age\n",
    "        self.address = address\n",
    "        self.__wallet =wallet"
   ]
  },
  {
   "cell_type": "code",
   "execution_count": 30,
   "metadata": {},
   "outputs": [
    {
     "output_type": "execute_result",
     "data": {
      "text/plain": [
       "'마리아'"
      ]
     },
     "metadata": {},
     "execution_count": 30
    }
   ],
   "source": [
    "maria = Person5('마리아', 24, '중림동', 10000)\n",
    "maria.name"
   ]
  },
  {
   "cell_type": "code",
   "execution_count": 31,
   "metadata": {},
   "outputs": [
    {
     "output_type": "error",
     "ename": "AttributeError",
     "evalue": "'Person5' object has no attribute '__wallet'",
     "traceback": [
      "\u001b[1;31m---------------------------------------------------------------------------\u001b[0m",
      "\u001b[1;31mAttributeError\u001b[0m                            Traceback (most recent call last)",
      "\u001b[1;32m<ipython-input-31-c310d099919b>\u001b[0m in \u001b[0;36m<module>\u001b[1;34m\u001b[0m\n\u001b[1;32m----> 1\u001b[1;33m \u001b[0mmaria\u001b[0m\u001b[1;33m.\u001b[0m\u001b[0m__wallet\u001b[0m\u001b[1;33m\u001b[0m\u001b[1;33m\u001b[0m\u001b[0m\n\u001b[0m",
      "\u001b[1;31mAttributeError\u001b[0m: 'Person5' object has no attribute '__wallet'"
     ]
    }
   ],
   "source": [
    "# 비공개속성은 검색하면 있음에도 불구하고, 해당 속성이 클래스에 없다고 나옴\n",
    "maria.__wallet  "
   ]
  },
  {
   "cell_type": "code",
   "execution_count": 32,
   "metadata": {},
   "outputs": [],
   "source": [
    "# 따라서 비공개 속성 보이고 싶을 때는 다음과 같이 코딩해야함\n",
    "\n",
    "class Person5:\n",
    "    def __init__(self, name, age, address, wallet):\n",
    "        self.name =name\n",
    "        self.age = age\n",
    "        self.address = address\n",
    "        self.__wallet =wallet\n",
    "    \n",
    "    # 비공개 속성 보이게 하고싶을때 : get__비공개속성의매개변수(self) 함수 따로 정의\n",
    "    def get_wallet(self): \n",
    "        return self.__wallet\n"
   ]
  },
  {
   "cell_type": "code",
   "execution_count": 33,
   "metadata": {},
   "outputs": [
    {
     "output_type": "execute_result",
     "data": {
      "text/plain": [
       "10000"
      ]
     },
     "metadata": {},
     "execution_count": 33
    }
   ],
   "source": [
    "maria = Person5('마리아', 24, '중림동', 10000)\n",
    "maria.get_wallet()"
   ]
  },
  {
   "cell_type": "code",
   "execution_count": 38,
   "metadata": {},
   "outputs": [],
   "source": [
    "\n",
    "class Person5:\n",
    "    def __init__(self, name, age, address, wallet):\n",
    "        self.name =name\n",
    "        self.age = age\n",
    "        self.address = address\n",
    "        self.__wallet =wallet\n",
    "    \n",
    "    # 가지고 있는 돈\n",
    "    def get_wallet(self):\n",
    "        return self.__wallet\n",
    "\n",
    "    # 지불할 돈\n",
    "    def pay(self,amount):\n",
    "        if amount > self.__wallet:\n",
    "            print('지갑에 돈이 부족해서 지불이 안됩니다.')\n",
    "        else:\n",
    "            self.__wallet -= amount\n",
    "            print(f'지불하고 남은 돈은 {self.__wallet}입니다. ')\n",
    "\n"
   ]
  },
  {
   "cell_type": "code",
   "execution_count": 35,
   "metadata": {},
   "outputs": [
    {
     "output_type": "execute_result",
     "data": {
      "text/plain": [
       "10000"
      ]
     },
     "metadata": {},
     "execution_count": 35
    }
   ],
   "source": [
    "maria = Person5('마리아', 24, '중림동', 10000)\n",
    "maria.get_wallet()"
   ]
  },
  {
   "cell_type": "code",
   "execution_count": 39,
   "metadata": {},
   "outputs": [
    {
     "output_type": "stream",
     "name": "stdout",
     "text": [
      "지갑에 돈이 부족해서 지불이 안됩니다.\n"
     ]
    }
   ],
   "source": [
    "maria = Person5('마리아', 24, '중림동', 10000)\n",
    "maria.pay(15000) #amount 매개변수에 15000전달됨"
   ]
  },
  {
   "cell_type": "code",
   "execution_count": 40,
   "metadata": {},
   "outputs": [
    {
     "output_type": "stream",
     "name": "stdout",
     "text": [
      "지불하고 남은 돈은 5000 \n"
     ]
    }
   ],
   "source": [
    "maria.pay(5000) #amount 매개변수에 5000전달됨"
   ]
  }
 ]
}