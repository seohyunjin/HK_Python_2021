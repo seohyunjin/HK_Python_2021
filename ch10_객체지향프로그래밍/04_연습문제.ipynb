{
 "metadata": {
  "language_info": {
   "codemirror_mode": {
    "name": "ipython",
    "version": 3
   },
   "file_extension": ".py",
   "mimetype": "text/x-python",
   "name": "python",
   "nbconvert_exporter": "python",
   "pygments_lexer": "ipython3",
   "version": "3.8.5"
  },
  "orig_nbformat": 2,
  "kernelspec": {
   "name": "python385jvsc74a57bd08c1eae21719a0790335dcb83aad72b63b602cfe5cdb2bda0f60bc11d4f154e4b",
   "display_name": "Python 3.8.5 64-bit ('base': conda)"
  }
 },
 "nbformat": 4,
 "nbformat_minor": 2,
 "cells": [
  {
   "source": [
    "# 1.코딩도장 13\n",
    "표준 입력으로 가격(정수)과 쿠폰 이름이 각 줄에 입력됩니다. Cash3000 쿠폰은 3,000원, Cash5000 쿠폰은 5,000원을 할인합니다. 쿠폰에 따라 할인된 가격을 출력하는 프로그램을 만드세요."
   ],
   "cell_type": "markdown",
   "metadata": {}
  },
  {
   "cell_type": "code",
   "execution_count": 3,
   "metadata": {},
   "outputs": [
    {
     "output_type": "stream",
     "name": "stdout",
     "text": [
      "입력한 돈은 27000이며, 사용한 쿠폰은 Cash3000 입니다.\n할인된 가격은 24000입니다.\n"
     ]
    }
   ],
   "source": [
    "#test1)\n",
    "cash = int(input('돈을 입력하시오'))\n",
    "cash_name = input('쿠폰의 이름을 입력하시오')\n",
    "\n",
    "if cash_name == 'Cash3000':\n",
    "    cash_minor = 3000\n",
    "elif cash_name == 'Cash5000':\n",
    "    cash_minor =5000\n",
    "else: \n",
    "    print('쿠폰명을 잘못 입력하셨습니다.')\n",
    "\n",
    "pay_money = cash - cash_minor\n",
    "\n",
    "print(f'입력한 돈은 {cash} 이며, 사용한 쿠폰은 {cash_name} 입니다.')\n",
    "print(f'할인된 가격은 {pay_money} 입니다.')\n"
   ]
  },
  {
   "cell_type": "code",
   "execution_count": 2,
   "metadata": {},
   "outputs": [
    {
     "output_type": "stream",
     "name": "stdout",
     "text": [
      "입력한 돈은 72000이며, 사용한 쿠폰은 Cash5000 입니다.\n할인된 가격은 67000입니다.\n"
     ]
    }
   ],
   "source": [
    "#test2)\n",
    "cash = int(input('돈을 입력하시오'))\n",
    "cash_name = input('쿠폰의 이름을 입력하시오')\n",
    "\n",
    "if cash_name == 'Cash3000':\n",
    "    cash_minor = 3000\n",
    "elif cash_name == 'Cash5000':\n",
    "    cash_minor =5000\n",
    "else: \n",
    "    print('쿠폰명을 잘못 입력하셨습니다.')\n",
    "\n",
    "pay_money = cash - cash_minor\n",
    "\n",
    "print(f'입력한 돈은 {cash} 이며, 사용한 쿠폰은 {cash_name} 입니다.')\n",
    "print(f'할인된 가격은 {pay_money} 입니다.')\n"
   ]
  },
  {
   "source": [
    "# 2. 코딩도장 14\n",
    "표준 입력으로 국어, 영어, 수학, 과학 점수가 입력됩니다. 여기서 네 과목의 평균 점수가 80점 이상일 때 합격이라고 정했습니다. 평균 점수에 따라 '합격', '불합격'을 출력하는 프로그램을 만드세요. 단, 점수는 0점부터 100점까지만 입력받을 수 있으며 범위를 벗어났다면 '잘못된 점수'를 출력하고 합격, 불합격 여부는 출력하지 않아야 합니다."
   ],
   "cell_type": "markdown",
   "metadata": {}
  },
  {
   "cell_type": "code",
   "execution_count": 9,
   "metadata": {},
   "outputs": [
    {
     "output_type": "stream",
     "name": "stdout",
     "text": [
      "입력한 점수는 (89, 72, 93, 82)입니다.\n합격\n"
     ]
    }
   ],
   "source": [
    "#test1)\n",
    "korean, english, math, science = map(int, input('국어, 영어, 수학, 과학 점수을 입력하십시오.').split())\n",
    "\n",
    "if ( korean<0 or korean > 100 ) or  ( english<0 or english > 100 ) or \\\n",
    "    ( math<0 or math > 100 ) or ( science<0 or science > 100 ) :\n",
    "    print(f'입력한 점수는 {korean, english, math, science}입니다.')\n",
    "    print(\"잘못된 점수를 입력하셨습니다.\")\n",
    "elif (korean + english + math + science) / 4  >= 80 :\n",
    "    print(f'입력한 점수는 {korean, english, math, science}입니다.')\n",
    "    print('합격')\n",
    "else:\n",
    "    print(f'입력한 점수는 {korean, english, math, science}입니다.')\n",
    "    print('불합격')"
   ]
  },
  {
   "cell_type": "code",
   "execution_count": 10,
   "metadata": {},
   "outputs": [
    {
     "output_type": "stream",
     "name": "stdout",
     "text": [
      "입력한 점수는 (100, 79, 68, 71)입니다.\n불합격\n"
     ]
    }
   ],
   "source": [
    "#test2)\n",
    "korean, english, math, science = map(int, input('국어, 영어, 수학, 과학 점수을 입력하십시오.').split())\n",
    "\n",
    "if ( korean<0 or korean > 100 ) or  ( english<0 or english > 100 ) or \\\n",
    "    ( math<0 or math > 100 ) or ( science<0 or science > 100 ) :\n",
    "    print(f'입력한 점수는 {korean, english, math, science}입니다.')\n",
    "    print(\"잘못된 점수를 입력하셨습니다.\")\n",
    "elif (korean + english + math + science) / 4  >= 80 :\n",
    "    print(f'입력한 점수는 {korean, english, math, science}입니다.')\n",
    "    print('합격')\n",
    "else:\n",
    "    print(f'입력한 점수는 {korean, english, math, science}입니다.')\n",
    "    print('불합격')"
   ]
  },
  {
   "cell_type": "code",
   "execution_count": 11,
   "metadata": {},
   "outputs": [
    {
     "output_type": "stream",
     "name": "stdout",
     "text": [
      "입력한 점수는 (99, 85, 101, 90)입니다.\n잘못된 점수를 입력하셨습니다.\n"
     ]
    }
   ],
   "source": [
    "#test3)\n",
    "korean, english, math, science = map(int, input('국어, 영어, 수학, 과학 점수을 입력하십시오.').split())\n",
    "\n",
    "if ( korean<0 or korean > 100 ) or  ( english<0 or english > 100 ) or \\\n",
    "    ( math<0 or math > 100 ) or ( science<0 or science > 100 ) :\n",
    "    print(f'입력한 점수는 {korean, english, math, science}입니다.')\n",
    "    print(\"잘못된 점수를 입력하셨습니다.\")\n",
    "elif (korean + english + math + science) / 4  >= 80 :\n",
    "    print(f'입력한 점수는 {korean, english, math, science}입니다.')\n",
    "    print('합격')\n",
    "else:\n",
    "    print(f'입력한 점수는 {korean, english, math, science}입니다.')\n",
    "    print('불합격')"
   ]
  },
  {
   "source": [
    "# 3. 코딩도장 15\n",
    "표준 입력으로 나이(만 나이)가 입력됩니다(입력 값은 7 이상 입력됨). 교통카드 시스템에서 시내버스 요금은 다음과 같으며 각 나이에 맞게 요금을 차감한 뒤 잔액이 출력되게 만드세요(if, elif 사용). 현재 교통카드에는 9,000원이 들어있습니다.\n",
    "\n",
    "* 어린이(초등학생, 만 7세 이상 12세 이하): 650원\n",
    "* 청소년(중∙고등학생, 만 13세 이상 18세 이하): 1,050원\n",
    "* 어른(일반, 만 19세 이상): 1,250원"
   ],
   "cell_type": "markdown",
   "metadata": {}
  },
  {
   "cell_type": "code",
   "execution_count": 15,
   "metadata": {},
   "outputs": [
    {
     "output_type": "stream",
     "name": "stdout",
     "text": [
      "17살이므로 잔액은 7950입니다.\n"
     ]
    }
   ],
   "source": [
    "#test1)\n",
    "age = int(input())\n",
    "balance = 9000  \n",
    "\n",
    "if age >= 19:\n",
    "    pay = 1250\n",
    "elif 13 <= age <=18:\n",
    "    pay =1050\n",
    "elif 7 <= age <=12:\n",
    "    pay = 650\n",
    "else: \n",
    "    print('나이를 잘못입력하였습니다. 7이상 입력하여야합니다.') \n",
    "balance = balance - pay\n",
    "\n",
    "print(f'{age}살이므로 잔액은 {balance}입니다.')"
   ]
  },
  {
   "cell_type": "code",
   "execution_count": 16,
   "metadata": {},
   "outputs": [
    {
     "output_type": "stream",
     "name": "stdout",
     "text": [
      "12살이므로 잔액은 8350입니다.\n"
     ]
    }
   ],
   "source": [
    "#test2)\n",
    "age = int(input())\n",
    "balance = 9000  \n",
    "\n",
    "if age >= 19:\n",
    "    pay = 1250\n",
    "elif 13 <= age <=18:\n",
    "    pay =1050\n",
    "elif 7 <= age <=12:\n",
    "    pay = 650\n",
    "else: \n",
    "    print('나이를 잘못입력하였습니다. 7이상 입력하여야합니다.') \n",
    "balance = balance - pay\n",
    "\n",
    "print(f'{age}살이므로 잔액은 {balance}입니다.')"
   ]
  },
  {
   "cell_type": "code",
   "execution_count": 19,
   "metadata": {},
   "outputs": [
    {
     "output_type": "stream",
     "name": "stdout",
     "text": [
      "나이를 잘못입력하였습니다. 7이상 입력하여야합니다.\n6살이므로 잔액은 9000입니다.\n"
     ]
    }
   ],
   "source": [
    "#test3)\n",
    "age = int(input())\n",
    "balance = 9000  \n",
    "\n",
    "if age >= 19:\n",
    "    pay = 1250\n",
    "elif 13 <= age <=18:\n",
    "    pay =1050\n",
    "elif 7 <= age <=12:\n",
    "    pay = 650\n",
    "else: \n",
    "    print('나이를 잘못입력하였습니다. 7이상 입력하여야합니다.') \n",
    "    pay = 0\n",
    "balance = balance - pay\n",
    "\n",
    "print(f'{age}살이므로 잔액은 {balance}입니다.')"
   ]
  },
  {
   "source": [
    "# 4. 코딩도장 16\n",
    "표준 입력으로 정수가 입력됩니다. 입력된 정수의 구구단을 출력하는 프로그램을 만드세요. 출력 형식은 숫자 * 숫자 = 숫자처럼 만들고 숫자와 *, = 사이는 공백을 한 칸 띄웁니다"
   ],
   "cell_type": "markdown",
   "metadata": {}
  },
  {
   "cell_type": "code",
   "execution_count": 22,
   "metadata": {},
   "outputs": [
    {
     "output_type": "stream",
     "name": "stdout",
     "text": [
      "2 * 1 = 2\n2 * 2 = 4\n2 * 3 = 6\n2 * 4 = 8\n2 * 5 = 10\n2 * 6 = 12\n2 * 7 = 14\n2 * 8 = 16\n2 * 9 = 18\n"
     ]
    }
   ],
   "source": [
    "#test1)\n",
    "n = int(input('정수를 입력하세요.'))\n",
    "for i in range(1,10):\n",
    "    print( f'{n} * {i} = {n * i}' )"
   ]
  },
  {
   "cell_type": "code",
   "execution_count": 23,
   "metadata": {},
   "outputs": [
    {
     "output_type": "stream",
     "name": "stdout",
     "text": [
      "7 * 1 = 7\n7 * 2 = 14\n7 * 3 = 21\n7 * 4 = 28\n7 * 5 = 35\n7 * 6 = 42\n7 * 7 = 49\n7 * 8 = 56\n7 * 9 = 63\n"
     ]
    }
   ],
   "source": [
    "#test2)\n",
    "n = int(input('정수를 입력하세요.'))\n",
    "for i in range(1,10):\n",
    "    print( f'{n} * {i} = {n * i}' )"
   ]
  },
  {
   "source": [
    "# 5. 코딩도장 17\n",
    "표준 입력으로 금액(정수)이 입력됩니다. 1회당 요금은 1,350원이고, 교통카드를 사용했을 때마다의 잔액을 각 줄에 출력하는 프로그램을 만드세요.\n",
    "단, 최초 금액은 출력하지 않아야 합니다. 그리고 잔액은 음수가 될 수 없으며 잔액이 부족하면 출력을 끝냅니다."
   ],
   "cell_type": "markdown",
   "metadata": {}
  },
  {
   "cell_type": "code",
   "execution_count": 30,
   "metadata": {},
   "outputs": [
    {
     "output_type": "stream",
     "name": "stdout",
     "text": [
      "1번 이용후 잔액은 8650입니다.\n2번 이용후 잔액은 7300입니다.\n3번 이용후 잔액은 5950입니다.\n4번 이용후 잔액은 4600입니다.\n5번 이용후 잔액은 3250입니다.\n6번 이용후 잔액은 1900입니다.\n7번 이용후 잔액은 550입니다.\n"
     ]
    }
   ],
   "source": [
    "#test1)\n",
    "money = int(input('금액을 입력하세요.'))\n",
    "i = 1\n",
    "remain = money\n",
    "while(1):\n",
    "    remain = money - 1350 * i\n",
    "    if remain < 0 :\n",
    "        break\n",
    "    print(f'{i}번 이용후 잔액은 {remain}입니다.')\n",
    "    i += 1"
   ]
  },
  {
   "cell_type": "code",
   "execution_count": 31,
   "metadata": {},
   "outputs": [
    {
     "output_type": "stream",
     "name": "stdout",
     "text": [
      "1번 이용후 잔액은 12150입니다.\n2번 이용후 잔액은 10800입니다.\n3번 이용후 잔액은 9450입니다.\n4번 이용후 잔액은 8100입니다.\n5번 이용후 잔액은 6750입니다.\n6번 이용후 잔액은 5400입니다.\n7번 이용후 잔액은 4050입니다.\n8번 이용후 잔액은 2700입니다.\n9번 이용후 잔액은 1350입니다.\n10번 이용후 잔액은 0입니다.\n"
     ]
    }
   ],
   "source": [
    "#test2)\n",
    "money = int(input('금액을 입력하세요.'))\n",
    "i = 1\n",
    "remain = money\n",
    "while(1):\n",
    "    remain = money - 1350 * i\n",
    "    if remain < 0 :\n",
    "        break\n",
    "    print(f'{i}번 이용후 잔액은 {remain}입니다.')\n",
    "    i += 1"
   ]
  },
  {
   "source": [
    "# 6. 코딩도장 18\n",
    "표준 입력으로 정수 두 개가 입력됩니다(첫 번째 입력 값의 범위는 1~200, 두 번째 입력 값의 범위는 10~200이며 첫 번째 입력 값은 두 번째 입력 값보다 항상 작습니다). 다음 소스 코드를 완성하여 첫 번째 정수와 두 번째 정수 사이의 숫자 중 3으로 끝나지 않는 숫자가 출력되게 만드세요. 정답에 코드를 작성할 때는 while True:에 맞춰서 들여쓰기를 해주세요."
   ],
   "cell_type": "markdown",
   "metadata": {}
  },
  {
   "cell_type": "code",
   "execution_count": null,
   "metadata": {},
   "outputs": [],
   "source": [
    "start, stop = map(int, input().split())\n",
    "i = start\n",
    " \n",
    "while True:\n",
    "    if i == stop + 1:\n",
    "        break\n",
    "    if i % 10 != 3:\n",
    "        print(i, end=' ')\n",
    "    i += 1"
   ]
  },
  {
   "cell_type": "code",
   "execution_count": null,
   "metadata": {},
   "outputs": [],
   "source": []
  }
 ]
}