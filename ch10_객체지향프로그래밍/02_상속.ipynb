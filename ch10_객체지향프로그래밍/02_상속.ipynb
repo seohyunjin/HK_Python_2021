{
 "metadata": {
  "language_info": {
   "codemirror_mode": {
    "name": "ipython",
    "version": 3
   },
   "file_extension": ".py",
   "mimetype": "text/x-python",
   "name": "python",
   "nbconvert_exporter": "python",
   "pygments_lexer": "ipython3",
   "version": "3.8.5"
  },
  "orig_nbformat": 2,
  "kernelspec": {
   "name": "python385jvsc74a57bd08c1eae21719a0790335dcb83aad72b63b602cfe5cdb2bda0f60bc11d4f154e4b",
   "display_name": "Python 3.8.5 64-bit ('base': conda)"
  }
 },
 "nbformat": 4,
 "nbformat_minor": 2,
 "cells": [
  {
   "source": [
    "## 4. 상속"
   ],
   "cell_type": "markdown",
   "metadata": {}
  },
  {
   "cell_type": "code",
   "execution_count": 1,
   "metadata": {},
   "outputs": [],
   "source": [
    "#부모 class\n",
    "class Person:\n",
    "    def greeting(self):\n",
    "        print('안녕하세요?')\n",
    "\n",
    "#자식 class : 부모class 상속함\n",
    "class Student(Person):\n",
    "    def study(self):\n",
    "        print('공부하기')"
   ]
  },
  {
   "cell_type": "code",
   "execution_count": 3,
   "metadata": {},
   "outputs": [
    {
     "output_type": "stream",
     "name": "stdout",
     "text": [
      "안녕하세요?\n공부하기\n"
     ]
    }
   ],
   "source": [
    "james = Student()  #1)자식클래스의 인스턴스 생성\n",
    "james.greeting() #2) 부모클래스의 함수이용\n",
    "james.study() #2) 자식클래스의 함수이용 "
   ]
  },
  {
   "source": [
    "### - 기반 클래스(base class : 부모클래스)의 속성값 사용하기"
   ],
   "cell_type": "markdown",
   "metadata": {}
  },
  {
   "cell_type": "code",
   "execution_count": 4,
   "metadata": {},
   "outputs": [],
   "source": [
    "# 부모와 자식이 모두 속성 init이 있을 경우\n",
    "\n",
    "# 부모클래스\n",
    "class Person2:\n",
    "    def __init__(self):\n",
    "        print('Person2 __init __method')\n",
    "        self.hello = '안녕하세요?'\n",
    "        \n",
    "# 자식클래스\n",
    "class Student2(Person2):\n",
    "    def __init__(self):\n",
    "        print('Studnet2 __init__ method')\n",
    "        self.school = \"파이썬\""
   ]
  },
  {
   "cell_type": "code",
   "execution_count": 5,
   "metadata": {},
   "outputs": [
    {
     "output_type": "stream",
     "name": "stdout",
     "text": [
      "Studnet2 __init__ method\n"
     ]
    },
    {
     "output_type": "execute_result",
     "data": {
      "text/plain": [
       "'파이썬'"
      ]
     },
     "metadata": {},
     "execution_count": 5
    }
   ],
   "source": [
    "maria = Student2() # 1) 자식클래스의 인스턴스 생성 # 생성하면서 속성init은 항상 같이 수행됨\n",
    "maria.school #2) 자식클래스의 함수이용, 부모클래스의 속성 이용 불가"
   ]
  },
  {
   "cell_type": "code",
   "execution_count": 6,
   "metadata": {},
   "outputs": [],
   "source": [
    "가# 부모와 자식이 모두 속성 init이 있을 경우, 반드시 자식 클래스에 super()을 해주어야함\n",
    "\n",
    "#부모클래스\n",
    "class Person3:\n",
    "    def __init__(self):\n",
    "        print('Person3 __init __method')\n",
    "        self.hello = '안녕하세요?'\n",
    "\n",
    "#자식클래스\n",
    "class Student3(Person3):\n",
    "    def __init__(self):\n",
    "        super().__init__() #이 코딩을 추가하면 부모의 속성을 자식도 그대로 쓸 수 있음\n",
    "        print('Studnet3 __init__ method')\n",
    "        self.school = \"파이썬\""
   ]
  },
  {
   "cell_type": "code",
   "execution_count": 7,
   "metadata": {},
   "outputs": [
    {
     "output_type": "stream",
     "name": "stdout",
     "text": [
      "Person3 __init __method\nStudnet3 __init__ method\n"
     ]
    },
    {
     "output_type": "execute_result",
     "data": {
      "text/plain": [
       "'안녕하세요?'"
      ]
     },
     "metadata": {},
     "execution_count": 7
    }
   ],
   "source": [
    "james = Student3() # 1) 자식클래스의 인스턴스생성\n",
    "james.hello # 2) super()떄문에 부모클래스의 속성 그대로 접근"
   ]
  },
  {
   "cell_type": "code",
   "execution_count": 8,
   "metadata": {},
   "outputs": [],
   "source": [
    "# 자식클래스에 init 없고, 부모클래스에만 init있을 경우에는, super()을 사용하지 않아도 부모클래스의 속성을 그대로 이용\n",
    "\n",
    "# init없는 자식클래스\n",
    "class Student4(Person3):\n",
    "    def greeting(self):\n",
    "        print(self.hello)"
   ]
  },
  {
   "cell_type": "code",
   "execution_count": 9,
   "metadata": {},
   "outputs": [
    {
     "output_type": "stream",
     "name": "stdout",
     "text": [
      "Person3 __init __method\n안녕하세요?\n"
     ]
    }
   ],
   "source": [
    "maria = Student4()\n",
    "maria.greeting() # super()없이도 부모클래스의 init 이용 "
   ]
  },
  {
   "source": [
    "\n",
    "## 5. Method Overriding\n"
   ],
   "cell_type": "markdown",
   "metadata": {}
  },
  {
   "cell_type": "code",
   "execution_count": 13,
   "metadata": {},
   "outputs": [],
   "source": [
    "#자식클래스와 부모클래스의 메서드 이름이 같을 때\n",
    "\n",
    "# 부모클래스 \n",
    "class Person5:\n",
    "    def greeting(self):\n",
    "        print('안녕하세요?')\n",
    "\n",
    "# 자식클래스\n",
    "class Student5(Person5):\n",
    "    def greeting(self):\n",
    "        print(\"안녕하세요? 저는 학생입니다.\")\n"
   ]
  },
  {
   "cell_type": "code",
   "execution_count": 15,
   "metadata": {},
   "outputs": [
    {
     "output_type": "stream",
     "name": "stdout",
     "text": [
      "안녕하세요? 저는 학생입니다.\n"
     ]
    }
   ],
   "source": [
    "james = Student5() # 자식클래스의 인스턴스 생성\n",
    "james.greeting() # 자식클래스의 함수만을 이용 overriding"
   ]
  },
  {
   "cell_type": "code",
   "execution_count": 16,
   "metadata": {},
   "outputs": [],
   "source": [
    "class Student6(Person5):\n",
    "    def greeting(self):\n",
    "        super().greeting() # super()이용하여 부모클래스의 greeting()메서드 또한 이용 허용\n",
    "        print(\"저는 학생입니다.\")\n"
   ]
  },
  {
   "cell_type": "code",
   "execution_count": 17,
   "metadata": {},
   "outputs": [
    {
     "output_type": "stream",
     "name": "stdout",
     "text": [
      "안녕하세요?\n저는 학생입니다.\n"
     ]
    }
   ],
   "source": [
    "maria = Student6()\n",
    "maria.greeting() # super()에 의해 부모클래스의 greeting와 자식의 greeting 메서드 둘다 이용"
   ]
  }
 ]
}