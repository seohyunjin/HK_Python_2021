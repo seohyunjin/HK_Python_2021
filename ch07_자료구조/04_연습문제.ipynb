{
 "metadata": {
  "language_info": {
   "codemirror_mode": {
    "name": "ipython",
    "version": 3
   },
   "file_extension": ".py",
   "mimetype": "text/x-python",
   "name": "python",
   "nbconvert_exporter": "python",
   "pygments_lexer": "ipython3",
   "version": "3.8.5"
  },
  "orig_nbformat": 2,
  "kernelspec": {
   "name": "python385jvsc74a57bd08c1eae21719a0790335dcb83aad72b63b602cfe5cdb2bda0f60bc11d4f154e4b",
   "display_name": "Python 3.8.5 64-bit ('base': conda)"
  }
 },
 "nbformat": 4,
 "nbformat_minor": 2,
 "cells": [
  {
   "source": [
    "## 1. 시저 암호\n",
    "\n",
    "시저암호는 고대 로마의 황제 줄리어스 시저가 만들어낸 암호이다.\n",
    "\n",
    "예를 들어 알파벳 a를 입력했을 때, 그 알파벳의 n개 뒤에 오는 알파벳이 출력되는 것이다.\n",
    "\n",
    "예를 들어 cat을 바꾸고자 한다면, n =5 일 때 hfy가 된다.\n",
    "\n",
    "어떠한 암호를 만들 문장과 n을 입력하였을때 암호를 만들어 출력하는 프로그램을 작성하시오.\n",
    "\n",
    "-입력 : 화면에서 문자열과 n값을 입력받는다.\n",
    "\n",
    "-출력 : 암호화된 문자열을 출력\n"
   ],
   "cell_type": "markdown",
   "metadata": {}
  },
  {
   "cell_type": "code",
   "execution_count": 18,
   "metadata": {},
   "outputs": [
    {
     "output_type": "execute_result",
     "data": {
      "text/plain": [
       "65"
      ]
     },
     "metadata": {},
     "execution_count": 18
    }
   ],
   "source": [
    "ord('A') #65\n",
    "ord('Z') #90\n",
    "ord('a') #97\n",
    "ord('z') #122"
   ]
  },
  {
   "cell_type": "code",
   "execution_count": 40,
   "metadata": {},
   "outputs": [
    {
     "output_type": "execute_result",
     "data": {
      "text/plain": [
       "'zPPLE'"
      ]
     },
     "metadata": {},
     "execution_count": 40
    }
   ],
   "source": [
    "# 연습\n",
    "string = input('알파벳으로 이루어진 문자열을 입력하시오.')\n",
    "n = int(input( '자연수를 입력하시오.'))\n",
    "\n",
    "\n",
    "word =''\n",
    "for c in string:\n",
    "    if  ord(c) + n < 65:\n",
    "         word = '알파벳을 잘못입력하였습니다. A-Z, a-z로 이루어진 문자열을 입력하세요'\n",
    "    elif 90< ord(c) + n < 97 :\n",
    "         word += chr(ord(c) + 7 + n)\n",
    "    elif 122< ord(c) + n :\n",
    "         word += chr(ord(c) -57 + n)\n",
    "    else:\n",
    "         word += chr(ord(c) + n)  \n",
    "word"
   ]
  },
  {
   "cell_type": "code",
   "execution_count": 41,
   "metadata": {},
   "outputs": [
    {
     "output_type": "execute_result",
     "data": {
      "text/plain": [
       "'bcefbBdyBbDBbY'"
      ]
     },
     "metadata": {},
     "execution_count": 41
    }
   ],
   "source": [
    "# Z 넘어가면 a로 연결 , z넘어가면 A로 연결\n",
    "\n",
    "string = input('알파벳으로 이루어진 문자열을 입력하시오.')\n",
    "n = int(input( '자연수를 입력하시오.'))\n",
    "\n",
    "\n",
    "word =''\n",
    "for c in string:\n",
    "    if n <= 25 :\n",
    "        if  ord(c) + n < 65:\n",
    "            word = '알파벳을 잘못입력하였습니다. A-Z, a-z로 이루어진 문자열을 입력하세요'\n",
    "        elif 90< ord(c) + n < 97 :\n",
    "            word += chr(ord(c) + 7 + n)\n",
    "        elif 122< ord(c) + n :\n",
    "            word += chr(ord(c) -58 + n)\n",
    "        else:\n",
    "            word += chr(ord(c) + n)  \n",
    "    else :\n",
    "        m = n % 25 # 루틴조절\n",
    "        if  ord(c) + m < 65:\n",
    "            word = '알파벳을 잘못입력하였습니다. A-Z, a-z로 이루어진 문자열을 입력하세요'\n",
    "        elif 90< ord(c) + m < 97 :\n",
    "            word += chr(ord(c) + 7 + m)\n",
    "        elif 122< ord(c) + m :\n",
    "            word += chr(ord(c) -58 + m)\n",
    "        else:\n",
    "            word += chr(ord(c) + m)  \n",
    "word\n"
   ]
  },
  {
   "cell_type": "code",
   "execution_count": 151,
   "metadata": {},
   "outputs": [
    {
     "output_type": "execute_result",
     "data": {
      "text/plain": [
       "'ABC'"
      ]
     },
     "metadata": {},
     "execution_count": 151
    }
   ],
   "source": [
    "# 1번 답\n",
    "# 입력을 대문자만 받아서, Z끝나면 A로 연결되는 시저암호\n",
    "# ord('A') #65\n",
    "# ord('Z') #90\n",
    "\n",
    "string = input('대문자 알파벳으로 이루어진 문자열을 입력하시오.')\n",
    "n = int(input( '자연수를 입력하시오.'))\n",
    "\n",
    "word =''\n",
    "for c in string:\n",
    "    if n <= 25 :\n",
    "        if  ord(c) + n < 65:\n",
    "            word = '알파벳을 잘못입력하였습니다. A-Z로 이루어진 문자열을 입력하세요'\n",
    "        elif 90< ord(c) + n :\n",
    "            word += chr(ord(c) -26 + n)\n",
    "        else:\n",
    "            word += chr(ord(c) + n)  \n",
    "    else :\n",
    "        m = n % 25 # 루틴조절\n",
    "        if  ord(c) + m < 65:\n",
    "            word = '알파벳을 잘못입력하였습니다. A-Z로 이루어진 문자열을 입력하세요'\n",
    "        elif 90< ord(c) + m :\n",
    "            word += chr(ord(c) -26 + m)\n",
    "        else:\n",
    "            word += chr(ord(c) + m)  \n",
    "word"
   ]
  },
  {
   "source": [
    "## 2. 코딩도장 24 심사문제 5\n",
    "표준 입력으로 문자열이 입력됩니다. 입력된 문자열에서 'the'의 개수를 출력하는 프로그램을 만드세요(input에서 안내 문자열은 출력하지 않아야 합니다). 단, 모든 문자가 소문자인 'the'만 찾으면 되며 'them', 'there', 'their' 등은 포함하지 않아야 합니다."
   ],
   "cell_type": "markdown",
   "metadata": {}
  },
  {
   "cell_type": "code",
   "execution_count": 83,
   "metadata": {},
   "outputs": [
    {
     "output_type": "execute_result",
     "data": {
      "text/plain": [
       "6"
      ]
     },
     "metadata": {},
     "execution_count": 83
    }
   ],
   "source": [
    "grown = input().split()\n",
    "\n",
    "for i in range(len(grown) ):\n",
    "    if grown[i] == 'the,' or grown[i] =='the.' :\n",
    "        grown[i] = 'the'\n",
    "\n",
    "n_of_the = grown.count('the') \n",
    "n_of_the "
   ]
  },
  {
   "source": [
    "## 3. 코딩도장 24 심사문제 6\n",
    "표준 입력으로 물품 가격 여러 개가 문자열 한 줄로 입력되고, 각 가격은 ;(세미콜론)으로 구분되어 있습니다. 입력된 가격을 높은 가격순으로 출력하는 프로그램을 만드세요(input에서 안내 문자열은 출력하지 않아야 합니다). 이때 가격은 길이를 9로 만든 뒤 오른쪽으로 정렬하고 천단위로 ,(콤마)를 넣으세요."
   ],
   "cell_type": "markdown",
   "metadata": {}
  },
  {
   "cell_type": "code",
   "execution_count": 107,
   "metadata": {},
   "outputs": [
    {
     "output_type": "stream",
     "name": "stdout",
     "text": [
      "1,304,000\n  367,500\n  250,000\n  158,000\n  128,500\n   83,000\n   59,200\n   51,900\n"
     ]
    }
   ],
   "source": [
    "price = input().split(';')\n",
    "\n",
    "for i in range( len(price)) :\n",
    "    price[i] =int(price[i])\n",
    "\n",
    "price.sort(reverse =True) #내림차순\n",
    "\n",
    "for i in range(len(price)):\n",
    "    price_format=f'{price[i]:,}'\n",
    "    print(price_format.rjust(9))  \n",
    "\n"
   ]
  },
  {
   "source": [
    "## 4. 코딩도장 12 심사문제 \n",
    "표준 입력으로 문자열 여러 개와 숫자(실수) 여러 개가 두 줄로 입력됩니다. 입력된 첫 번째 줄은 키, 두 번째 줄은 값으로 하여 딕셔너리를 생성한 뒤 딕셔너리를 출력하는 프로그램을 만드세요. input().split()의 결과를 변수 한 개에 저장하면 리스트로 저장됩니다."
   ],
   "cell_type": "markdown",
   "metadata": {}
  },
  {
   "cell_type": "code",
   "execution_count": 73,
   "metadata": {},
   "outputs": [
    {
     "output_type": "execute_result",
     "data": {
      "text/plain": [
       "{'health': 575.6, 'health_regen': 1.7, 'mana': 338.8, 'mana_regen': 1.63}"
      ]
     },
     "metadata": {},
     "execution_count": 73
    }
   ],
   "source": [
    "key = input('문자열을 입력하세요.').split()\n",
    "value = input('실수를 입력하세요.').split()\n",
    "for i in range( len(value)) :\n",
    "    value[i] =float(value[i])\n",
    "\n",
    "lux3 = dict(zip(key, value))\n",
    "lux3\n"
   ]
  },
  {
   "cell_type": "code",
   "execution_count": 74,
   "metadata": {},
   "outputs": [
    {
     "output_type": "execute_result",
     "data": {
      "text/plain": [
       "{'key0': 575.6, 'key1': 1.7, 'key2': 338.8, 'key3': 1.63}"
      ]
     },
     "metadata": {},
     "execution_count": 74
    }
   ],
   "source": [
    "#cf) 추가 설명\n",
    "# key에는 리스트가 올수 없다고 다음과 같이 코딩하면 , 리스티의 key값이 실제로 할당되는 것이 아니라, 지정한 변수명이 key값이 된다. \n",
    "key0 = key[0]\n",
    "key1 = key[1]\n",
    "key2 = key[2]\n",
    "key3 = key[3]\n",
    "\n",
    "lux1 = dict( key0 = value[0], key1 = value[1], key2 = value[2], key3 = value[3]) \n",
    "lux1 \n"
   ]
  },
  {
   "cell_type": "code",
   "execution_count": 75,
   "metadata": {},
   "outputs": [
    {
     "output_type": "execute_result",
     "data": {
      "text/plain": [
       "{'health': 573.6,\n",
       " 'mana': 308.8,\n",
       " 'melee': 600.0,\n",
       " 'attack_speed': 0.625,\n",
       " 'magic_resistance': 35.7}"
      ]
     },
     "metadata": {},
     "execution_count": 75
    }
   ],
   "source": [
    "key = input('문자열을 입력하세요.').split()\n",
    "value = input('실수를 입력하세요.').split()\n",
    "for i in range( len(value)) :\n",
    "    value[i] =float(value[i])\n",
    "\n",
    "lux3 = dict(zip(key, value))\n",
    "lux3\n"
   ]
  },
  {
   "source": [
    "## 5. 코딩도장 24 심사문제\n",
    "표준 입력으로 문자열 여러 개와 숫자 여러 개가 두 줄로 입력되고, 첫 번째 줄은 키, 두 번째 줄은 값으로 하여 딕셔너리를 생성합니다. 다음 코드를 완성하여 딕셔너리에서 키가 'delta'인 키-값 쌍과 값이 30인 키-값 쌍을 삭제하도록 만드세요."
   ],
   "cell_type": "markdown",
   "metadata": {}
  },
  {
   "cell_type": "code",
   "execution_count": 133,
   "metadata": {},
   "outputs": [
    {
     "output_type": "stream",
     "name": "stdout",
     "text": [
      "{'alpha': 10, 'bravo': 20}\n"
     ]
    }
   ],
   "source": [
    "keys = input().split()\n",
    "values = map(int, input().split())\n",
    " \n",
    "x = dict(zip(keys, values))\n",
    "x = {keys: values for keys, values in x.items() if values != 30 }\n",
    "x = {keys: values for keys, values in x.items() if keys != 'delta' }\n",
    "\n",
    "print(x)"
   ]
  },
  {
   "cell_type": "code",
   "execution_count": 135,
   "metadata": {},
   "outputs": [
    {
     "output_type": "stream",
     "name": "stdout",
     "text": [
      "{'bravo': 40, 'charlie': 50, 'echo': 70, 'foxtrot': 80, 'golf': 90}\n"
     ]
    }
   ],
   "source": [
    "keys = input().split()\n",
    "values = map(int, input().split())\n",
    " \n",
    "x = dict(zip(keys, values))\n",
    "x = {keys: values for keys, values in x.items() if values != 30 }\n",
    "x = {keys: values for keys, values in x.items() if keys != 'delta' }\n",
    "\n",
    "print(x)"
   ]
  }
 ]
}